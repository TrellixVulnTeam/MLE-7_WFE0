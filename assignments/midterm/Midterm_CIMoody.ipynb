{
 "cells": [
  {
   "cell_type": "markdown",
   "metadata": {},
   "source": [
    "An intensive analysis of consumer behavioral, applying techniques ranging from supervised, unsupervised learning, as well as semi-supervised learning."
   ]
  },
  {
   "cell_type": "markdown",
   "metadata": {},
   "source": [
    "# Data\n",
    "\n",
    "The data is in `dat/online_shoppers_intention.csv.gz`, from [Online Shoppers Purchasing Intention Dataset](https://archive.ics.uci.edu/ml/datasets/Online+Shoppers+Purchasing+Intention+Dataset)\n",
    "\n",
    "- The dataset consists of 10 numerical and 8 categorical variables.\n",
    "- Variable `Revenue` is the target label. This binary variable is imbalanced, specifically 84.5% of user journeys did NOT result in a purchase; in other words `Revenue` is False.\n",
    "- `Administrative`, `Administrative Duration`, `Informational`, `Informational Duration`, `Product Related`, and `Product Related Duration` represent the number of different types of pages visited by the visitor in that session and total time spent in each of these page categories. \n",
    "- The values of these features are derived from the URL information of the pages visited by the user and updated when a user takes an action, e.g, moving from one page to another. \n",
    "- Features `Bounce Rate`, `Exit Rate` and `Page Value` represent  metrics measured by Google Analytics for each page in the e-commerce site. \n",
    "- The value of `Bounce Rate` for a web page refers to the percentage of visitors who enter the site from that page and then leave (i.e., bounce) without triggering any other requests to the analytics server during that session. \n",
    "- The value of `Exit Rate` for a specific web page is calculated as for all page views to the page and it represents the percentage that the page was seen in the last session. \n",
    "- Feature `Page Value` represents the average value for a web page that a user visited before completing an e-commerce transaction. \n",
    "- Feature `Special Day` indicates the closeness of the site visiting time to a specific special day (e.g., Mother’s Day or Valentine's Day) in which the sessions are more likely to be finalized with transaction. The value of this attribute is determined by considering the dynamics of e-commerce such as the duration between the order date and delivery date. \n",
    "- The dataset also includes operating system, browser, region, traffic type, visitor type as returning or new visitor, a boolean value indicating whether the date of the visit is weekend, and month of the year."
   ]
  },
  {
   "cell_type": "markdown",
   "metadata": {},
   "source": [
    "# Tasks"
   ]
  },
  {
   "cell_type": "markdown",
   "metadata": {},
   "source": [
    "## Task 1. Classification (50 points)\n",
    "\n",
    "Build a predictive classification model using data entries corresponding to the months of June—December as training set, and those corresponding to February—March as test set. \n",
    "\n",
    "More specifically,\n",
    "\n",
    "1. Fit a logistic regression and at least one other classification model. Find and explain important features. \n",
    "1. Report and interpret the most meaningful classifications metrics\n",
    "1. Show and explain the hyper-parameter fitting process.\n",
    "\n",
    "Point breakdown:\n",
    "\n",
    "- (10 points) Basic exploratory data analysis (EDA) \n",
    "    - Appropriate univariate descriptive statistics and figures\n",
    "    - Appropriate bi-variate descriptive statistics and figures\n",
    "- ( 5 points) Advanced EDA\n",
    "    - Free-response, shows us what they know! \n",
    "- ( 5 points) Train/test split\n",
    "- (10 points) Feature selection\n",
    "- (15 points) Model fitting\n",
    "- ( 5 points) Performance points "
   ]
  },
  {
   "cell_type": "markdown",
   "metadata": {},
   "source": [
    "##  Task 2. Customer Segmentation (25 points)\n",
    "\n",
    "Generate user-behavior clusters based on the purchasing behavior data for the complete dataset. \n",
    "\n",
    "1. How many clusters do you see? What are the significant differences between the various clusters in terms of the size of the clusters and purchase ratio. Perform as detailed analysis of the clusters as you can.\n",
    "2. Return plots and cluster images generated for the data.\n",
    "3. Perform a detailed analysis for each cluster corresponding to the variations in features and identify some behaviors corresponding to each particular cluster (e.g., which cluster represent new shoppers vs. brand conscious shoppers etc.).\n",
    "\n",
    "Point breakdown:\n",
    "\n",
    "- (15 points) Clustering code\n",
    "- (10 points) Clustering analysis"
   ]
  },
  {
   "cell_type": "markdown",
   "metadata": {},
   "source": [
    "## Task 3. Semi-Supervised Learning (15 points)\n",
    "Consider you have training data with the `Revenue` attribute for records from June—September only. For all records from October—December, however, `Revenue` attribute is missing. Build a semi-supervised self-labeling model to estimate `Revenue` for the missing records in October—December and then fit your classifier. Report classification performance on February—March data set with and without the self-labeled data.\n",
    "\n",
    "1. If you do not consider the records from October—December, generate the classification performance on test data\n",
    "2. After using the self-labeled data and training data together, does the classification performance on test data improve? Discuss which metrics are most important for your conclusion.\n",
    "\n",
    "Point breakdown:\n",
    "\n",
    "- ( 2 points) Correctly splits the data by month into labeled, unlabeled, and test \n",
    "- (8 points) Generate labels for unlabeled samples with a self labeling technique\n",
    "- (5 points) Compare and contrast performance difference on test dataset between labels only and labels & self-labels"
   ]
  },
  {
   "cell_type": "markdown",
   "metadata": {},
   "source": [
    "## Style and clarity (10 points). \n",
    "Write clear, readable, well-commented code following [PEP8](https://peps.python.org/pep-0008/); also include explanations in markdown cells, where appropriate. "
   ]
  },
  {
   "cell_type": "markdown",
   "metadata": {},
   "source": [
    "# Deliverables:\n",
    "- Code in a single .ipynb notebook.\n",
    "- Comments where appropriate.\n",
    "- Figures, graphs, and tables where appropriate.\n",
    "- Text explanations (in markdown cells) of what is being done and why."
   ]
  },
  {
   "cell_type": "markdown",
   "metadata": {},
   "source": []
  }
 ],
 "metadata": {
  "language_info": {
   "name": "python"
  },
  "orig_nbformat": 4
 },
 "nbformat": 4,
 "nbformat_minor": 2
}
