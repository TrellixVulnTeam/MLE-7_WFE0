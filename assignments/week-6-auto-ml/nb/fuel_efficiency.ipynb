{
  "cells": [
    {
      "cell_type": "markdown",
      "metadata": {
        "id": "2TPf8CY_Xumr"
      },
      "source": [
        "<p align = \"center\" draggable=”false” ><img src=\"https://user-images.githubusercontent.com/37101144/161836199-fdb0219d-0361-4988-bf26-48b0fad160a3.png\" \n",
        "     width=\"200px\"\n",
        "     height=\"auto\"/>\n",
        "</p>"
      ]
    },
    {
      "cell_type": "markdown",
      "metadata": {
        "id": "92kCWnfbXumv"
      },
      "source": [
        "# Fuel efficiency prediction"
      ]
    },
    {
      "cell_type": "markdown",
      "metadata": {
        "id": "AHp3M9ZmrIxj"
      },
      "source": [
        "Provided with the classic [Auto MPG](https://archive.ics.uci.edu/ml/datasets/auto+mpg) dataset, we will predict the **fuel efficiency** of the late-1970s and early 1980s automobiles, leveraging features such as cylinders, displacement, horsepower, weight, etc. \n",
        "\n",
        "It is a very small dataset and there are only a few features. We will first build a linear model and a neural network, evaluate their performances, and then leverage an auto-machine learning (AutoML) library called [TPOT](https://github.com/EpistasisLab/tpot) to see how it can be used to search over many ML model architectures."
      ]
    },
    {
      "cell_type": "markdown",
      "metadata": {
        "id": "PxVwvxwii96J"
      },
      "source": [
        "# Learning Objectives"
      ]
    },
    {
      "cell_type": "markdown",
      "metadata": {
        "id": "9YCC4uUnXumw"
      },
      "source": [
        "By the end of this session, you will be able to\n",
        "\n",
        "- understand the core building blocks of a neural network\n",
        "- understand what dense and activation layers do\n",
        "- build, train, and evaluate neural networks\n",
        "- perform AutoML to search for optimal tree-based pipeline for a regression task "
      ]
    },
    {
      "cell_type": "markdown",
      "metadata": {
        "id": "P7PFU9Oza7-O"
      },
      "source": [
        "Note: [State of Data Science and Machine Learning 2021](https://www.kaggle.com/kaggle-survey-2021) by Kaggle shows that the most commonly used algorithms were linear and logtistic regressions, followed closely by decision trees, random forests, and gradient boosting machines (are you surprised?). Multilayer perceptron, or artificial neural networks are not yet the popular tools for tabular/structured data; see more technical reasons in papers: [Deep Neural Networks and Tabular Data: A Survey](https://arxiv.org/abs/2110.01889), [Tabular Data: Deep Learning is Not All You Need](https://arxiv.org/abs/2106.03253). For this assignment, the main purpose is for you to get familiar with the basic building blocks in constructing neural networks before we dive into more specialized neural network architectures.\n"
      ]
    },
    {
      "cell_type": "code",
      "execution_count": 2,
      "metadata": {
        "id": "moB4tpEHxKB3"
      },
      "outputs": [
        {
          "name": "stdout",
          "output_type": "stream",
          "text": [
            "Collecting package metadata (current_repodata.json): ...working... done\n",
            "Solving environment: ...working... done\n",
            "\n",
            "# All requested packages already installed.\n",
            "\n",
            "Collecting package metadata (current_repodata.json): ...working... done\n",
            "Solving environment: ...working... done\n",
            "\n",
            "# All requested packages already installed.\n",
            "\n"
          ]
        }
      ],
      "source": [
        "!conda install -q seaborn ## Use seaborn for pairplot\n",
        "!conda install -q tpot  # Use TPOT for automl"
      ]
    },
    {
      "cell_type": "code",
      "execution_count": 3,
      "metadata": {
        "id": "1rRo8oNqZ-Rj"
      },
      "outputs": [],
      "source": [
        "import numpy as np\n",
        "import pandas as pd\n",
        "import matplotlib.pyplot as plt\n",
        "import seaborn as sns\n",
        "\n",
        "# Make NumPy printouts easier to read.\n",
        "np.set_printoptions(precision=3, suppress=True)"
      ]
    },
    {
      "cell_type": "code",
      "execution_count": 4,
      "metadata": {
        "colab": {
          "base_uri": "https://localhost:8080/"
        },
        "id": "9xQKvCJ85kCQ",
        "outputId": "c4637bcf-e1e8-42ac-ecf9-17d64bee8172"
      },
      "outputs": [
        {
          "name": "stdout",
          "output_type": "stream",
          "text": [
            "2.4.1\n"
          ]
        }
      ],
      "source": [
        "import tensorflow as tf\n",
        "from tensorflow import keras\n",
        "from tensorflow.keras import layers\n",
        "\n",
        "print(tf.__version__)"
      ]
    },
    {
      "cell_type": "markdown",
      "metadata": {
        "id": "EIdT9iu_Z4Rb"
      },
      "source": [
        "# Task 1. Data: Auto MPG dataset"
      ]
    },
    {
      "cell_type": "markdown",
      "metadata": {
        "id": "F_72b0LCNbjx"
      },
      "source": [
        "1. The dataset is available from the [UCI Machine Learning Repository](https://archive.ics.uci.edu/ml/). First download and import the dataset using `pandas`:\n"
      ]
    },
    {
      "cell_type": "code",
      "execution_count": 5,
      "metadata": {
        "id": "CiX2FI4gZtTt"
      },
      "outputs": [],
      "source": [
        "url = 'http://archive.ics.uci.edu/ml/machine-learning-databases/auto-mpg/auto-mpg.data'\n",
        "column_names = [\n",
        "  'MPG', 'Cylinders', 'Displacement', 'Horsepower', 'Weight',\n",
        "  'Acceleration', 'Model Year', 'Origin'\n",
        "  ]\n",
        "\n",
        "dataset = pd.read_csv(url, names=column_names, na_values='?', \n",
        "                      comment='\\t', sep=' ', skipinitialspace=True)"
      ]
    },
    {
      "cell_type": "code",
      "execution_count": 6,
      "metadata": {
        "colab": {
          "base_uri": "https://localhost:8080/",
          "height": 201
        },
        "id": "2oY3pMPagJrO",
        "outputId": "a06d078b-1b29-4933-ffed-4e72c8372090"
      },
      "outputs": [
        {
          "data": {
            "text/html": [
              "<div>\n",
              "<style scoped>\n",
              "    .dataframe tbody tr th:only-of-type {\n",
              "        vertical-align: middle;\n",
              "    }\n",
              "\n",
              "    .dataframe tbody tr th {\n",
              "        vertical-align: top;\n",
              "    }\n",
              "\n",
              "    .dataframe thead th {\n",
              "        text-align: right;\n",
              "    }\n",
              "</style>\n",
              "<table border=\"1\" class=\"dataframe\">\n",
              "  <thead>\n",
              "    <tr style=\"text-align: right;\">\n",
              "      <th></th>\n",
              "      <th>MPG</th>\n",
              "      <th>Cylinders</th>\n",
              "      <th>Displacement</th>\n",
              "      <th>Horsepower</th>\n",
              "      <th>Weight</th>\n",
              "      <th>Acceleration</th>\n",
              "      <th>Model Year</th>\n",
              "      <th>Origin</th>\n",
              "    </tr>\n",
              "  </thead>\n",
              "  <tbody>\n",
              "    <tr>\n",
              "      <th>393</th>\n",
              "      <td>27.0</td>\n",
              "      <td>4</td>\n",
              "      <td>140.0</td>\n",
              "      <td>86.0</td>\n",
              "      <td>2790.0</td>\n",
              "      <td>15.6</td>\n",
              "      <td>82</td>\n",
              "      <td>1</td>\n",
              "    </tr>\n",
              "    <tr>\n",
              "      <th>394</th>\n",
              "      <td>44.0</td>\n",
              "      <td>4</td>\n",
              "      <td>97.0</td>\n",
              "      <td>52.0</td>\n",
              "      <td>2130.0</td>\n",
              "      <td>24.6</td>\n",
              "      <td>82</td>\n",
              "      <td>2</td>\n",
              "    </tr>\n",
              "    <tr>\n",
              "      <th>395</th>\n",
              "      <td>32.0</td>\n",
              "      <td>4</td>\n",
              "      <td>135.0</td>\n",
              "      <td>84.0</td>\n",
              "      <td>2295.0</td>\n",
              "      <td>11.6</td>\n",
              "      <td>82</td>\n",
              "      <td>1</td>\n",
              "    </tr>\n",
              "    <tr>\n",
              "      <th>396</th>\n",
              "      <td>28.0</td>\n",
              "      <td>4</td>\n",
              "      <td>120.0</td>\n",
              "      <td>79.0</td>\n",
              "      <td>2625.0</td>\n",
              "      <td>18.6</td>\n",
              "      <td>82</td>\n",
              "      <td>1</td>\n",
              "    </tr>\n",
              "    <tr>\n",
              "      <th>397</th>\n",
              "      <td>31.0</td>\n",
              "      <td>4</td>\n",
              "      <td>119.0</td>\n",
              "      <td>82.0</td>\n",
              "      <td>2720.0</td>\n",
              "      <td>19.4</td>\n",
              "      <td>82</td>\n",
              "      <td>1</td>\n",
              "    </tr>\n",
              "  </tbody>\n",
              "</table>\n",
              "</div>\n",
              "      <button class=\"colab-df-convert\" onclick=\"convertToInteractive('df-48fab1ba-e751-4be4-9772-4440cea5f8f7')\"\n",
              "              title=\"Convert this dataframe to an interactive table.\"\n",
              "              style=\"display:none;\">\n",
              "        \n",
              "  <svg xmlns=\"http://www.w3.org/2000/svg\" height=\"24px\"viewBox=\"0 0 24 24\"\n",
              "       width=\"24px\">\n",
              "    <path d=\"M0 0h24v24H0V0z\" fill=\"none\"/>\n",
              "    <path d=\"M18.56 5.44l.94 2.06.94-2.06 2.06-.94-2.06-.94-.94-2.06-.94 2.06-2.06.94zm-11 1L8.5 8.5l.94-2.06 2.06-.94-2.06-.94L8.5 2.5l-.94 2.06-2.06.94zm10 10l.94 2.06.94-2.06 2.06-.94-2.06-.94-.94-2.06-.94 2.06-2.06.94z\"/><path d=\"M17.41 7.96l-1.37-1.37c-.4-.4-.92-.59-1.43-.59-.52 0-1.04.2-1.43.59L10.3 9.45l-7.72 7.72c-.78.78-.78 2.05 0 2.83L4 21.41c.39.39.9.59 1.41.59.51 0 1.02-.2 1.41-.59l7.78-7.78 2.81-2.81c.8-.78.8-2.07 0-2.86zM5.41 20L4 18.59l7.72-7.72 1.47 1.35L5.41 20z\"/>\n",
              "  </svg>\n",
              "      </button>\n",
              "      \n",
              "  <style>\n",
              "    .colab-df-container {\n",
              "      display:flex;\n",
              "      flex-wrap:wrap;\n",
              "      gap: 12px;\n",
              "    }\n",
              "\n",
              "    .colab-df-convert {\n",
              "      background-color: #E8F0FE;\n",
              "      border: none;\n",
              "      border-radius: 50%;\n",
              "      cursor: pointer;\n",
              "      display: none;\n",
              "      fill: #1967D2;\n",
              "      height: 32px;\n",
              "      padding: 0 0 0 0;\n",
              "      width: 32px;\n",
              "    }\n",
              "\n",
              "    .colab-df-convert:hover {\n",
              "      background-color: #E2EBFA;\n",
              "      box-shadow: 0px 1px 2px rgba(60, 64, 67, 0.3), 0px 1px 3px 1px rgba(60, 64, 67, 0.15);\n",
              "      fill: #174EA6;\n",
              "    }\n",
              "\n",
              "    [theme=dark] .colab-df-convert {\n",
              "      background-color: #3B4455;\n",
              "      fill: #D2E3FC;\n",
              "    }\n",
              "\n",
              "    [theme=dark] .colab-df-convert:hover {\n",
              "      background-color: #434B5C;\n",
              "      box-shadow: 0px 1px 3px 1px rgba(0, 0, 0, 0.15);\n",
              "      filter: drop-shadow(0px 1px 2px rgba(0, 0, 0, 0.3));\n",
              "      fill: #FFFFFF;\n",
              "    }\n",
              "  </style>\n",
              "\n",
              "      <script>\n",
              "        const buttonEl =\n",
              "          document.querySelector('#df-48fab1ba-e751-4be4-9772-4440cea5f8f7 button.colab-df-convert');\n",
              "        buttonEl.style.display =\n",
              "          google.colab.kernel.accessAllowed ? 'block' : 'none';\n",
              "\n",
              "        async function convertToInteractive(key) {\n",
              "          const element = document.querySelector('#df-48fab1ba-e751-4be4-9772-4440cea5f8f7');\n",
              "          const dataTable =\n",
              "            await google.colab.kernel.invokeFunction('convertToInteractive',\n",
              "                                                     [key], {});\n",
              "          if (!dataTable) return;\n",
              "\n",
              "          const docLinkHtml = 'Like what you see? Visit the ' +\n",
              "            '<a target=\"_blank\" href=https://colab.research.google.com/notebooks/data_table.ipynb>data table notebook</a>'\n",
              "            + ' to learn more about interactive tables.';\n",
              "          element.innerHTML = '';\n",
              "          dataTable['output_type'] = 'display_data';\n",
              "          await google.colab.output.renderOutput(dataTable, element);\n",
              "          const docLink = document.createElement('div');\n",
              "          docLink.innerHTML = docLinkHtml;\n",
              "          element.appendChild(docLink);\n",
              "        }\n",
              "      </script>\n",
              "    </div>\n",
              "  </div>\n",
              "  "
              "</div>"
            ],
            "text/plain": [
              "      MPG  Cylinders  Displacement  Horsepower  Weight  Acceleration  \\\n",
              "393  27.0          4         140.0        86.0  2790.0          15.6   \n",
              "394  44.0          4          97.0        52.0  2130.0          24.6   \n",
              "395  32.0          4         135.0        84.0  2295.0          11.6   \n",
              "396  28.0          4         120.0        79.0  2625.0          18.6   \n",
              "397  31.0          4         119.0        82.0  2720.0          19.4   \n",
              "\n",
              "     Model Year  Origin  \n",
              "393          82       1  \n",
              "394          82       2  \n",
              "395          82       1  \n",
              "396          82       1  \n",
              "397          82       1  "
            ]
          },
          "execution_count": 5,
          "metadata": {},
          "output_type": "execute_result"
        }
      ],
      "source": [
        "dataset.tail()"
      ]
    },
    {
      "cell_type": "markdown",
      "metadata": {
        "id": "3MWuJTKEDM-f"
      },
      "source": [
        "2. The dataset contains a few unknown values, we drop those rows to keep this initial tutorial simple. Use `pd.DataFrame.dropna()`:"
      ]
    },
    {
      "cell_type": "code",
      "execution_count": 7,
      "metadata": {},
      "outputs": [
        {
          "data": {
            "text/html": [
              "<div>\n",
              "<style scoped>\n",
              "    .dataframe tbody tr th:only-of-type {\n",
              "        vertical-align: middle;\n",
              "    }\n",
              "\n",
              "    .dataframe tbody tr th {\n",
              "        vertical-align: top;\n",
              "    }\n",
              "\n",
              "    .dataframe thead th {\n",
              "        text-align: right;\n",
              "    }\n",
              "</style>\n",
              "<table border=\"1\" class=\"dataframe\">\n",
              "  <thead>\n",
              "    <tr style=\"text-align: right;\">\n",
              "      <th></th>\n",
              "      <th>count</th>\n",
              "      <th>mean</th>\n",
              "      <th>std</th>\n",
              "      <th>min</th>\n",
              "      <th>25%</th>\n",
              "      <th>50%</th>\n",
              "      <th>75%</th>\n",
              "      <th>max</th>\n",
              "    </tr>\n",
              "  </thead>\n",
              "  <tbody>\n",
              "    <tr>\n",
              "      <th>MPG</th>\n",
              "      <td>398.0</td>\n",
              "      <td>23.514573</td>\n",
              "      <td>7.815984</td>\n",
              "      <td>9.0</td>\n",
              "      <td>17.500</td>\n",
              "      <td>23.0</td>\n",
              "      <td>29.000</td>\n",
              "      <td>46.6</td>\n",
              "    </tr>\n",
              "    <tr>\n",
              "      <th>Cylinders</th>\n",
              "      <td>398.0</td>\n",
              "      <td>5.454774</td>\n",
              "      <td>1.701004</td>\n",
              "      <td>3.0</td>\n",
              "      <td>4.000</td>\n",
              "      <td>4.0</td>\n",
              "      <td>8.000</td>\n",
              "      <td>8.0</td>\n",
              "    </tr>\n",
              "    <tr>\n",
              "      <th>Displacement</th>\n",
              "      <td>398.0</td>\n",
              "      <td>193.425879</td>\n",
              "      <td>104.269838</td>\n",
              "      <td>68.0</td>\n",
              "      <td>104.250</td>\n",
              "      <td>148.5</td>\n",
              "      <td>262.000</td>\n",
              "      <td>455.0</td>\n",
              "    </tr>\n",
              "    <tr>\n",
              "      <th>Horsepower</th>\n",
              "      <td>392.0</td>\n",
              "      <td>104.469388</td>\n",
              "      <td>38.491160</td>\n",
              "      <td>46.0</td>\n",
              "      <td>75.000</td>\n",
              "      <td>93.5</td>\n",
              "      <td>126.000</td>\n",
              "      <td>230.0</td>\n",
              "    </tr>\n",
              "    <tr>\n",
              "      <th>Weight</th>\n",
              "      <td>398.0</td>\n",
              "      <td>2970.424623</td>\n",
              "      <td>846.841774</td>\n",
              "      <td>1613.0</td>\n",
              "      <td>2223.750</td>\n",
              "      <td>2803.5</td>\n",
              "      <td>3608.000</td>\n",
              "      <td>5140.0</td>\n",
              "    </tr>\n",
              "    <tr>\n",
              "      <th>Acceleration</th>\n",
              "      <td>398.0</td>\n",
              "      <td>15.568090</td>\n",
              "      <td>2.757689</td>\n",
              "      <td>8.0</td>\n",
              "      <td>13.825</td>\n",
              "      <td>15.5</td>\n",
              "      <td>17.175</td>\n",
              "      <td>24.8</td>\n",
              "    </tr>\n",
              "    <tr>\n",
              "      <th>Model Year</th>\n",
              "      <td>398.0</td>\n",
              "      <td>76.010050</td>\n",
              "      <td>3.697627</td>\n",
              "      <td>70.0</td>\n",
              "      <td>73.000</td>\n",
              "      <td>76.0</td>\n",
              "      <td>79.000</td>\n",
              "      <td>82.0</td>\n",
              "    </tr>\n",
              "    <tr>\n",
              "      <th>Origin</th>\n",
              "      <td>398.0</td>\n",
              "      <td>1.572864</td>\n",
              "      <td>0.802055</td>\n",
              "      <td>1.0</td>\n",
              "      <td>1.000</td>\n",
              "      <td>1.0</td>\n",
              "      <td>2.000</td>\n",
              "      <td>3.0</td>\n",
              "    </tr>\n",
              "  </tbody>\n",
              "</table>\n",
              "</div>"
            ],
            "text/plain": [
              "              count         mean         std     min       25%     50%  \\\n",
              "MPG           398.0    23.514573    7.815984     9.0    17.500    23.0   \n",
              "Cylinders     398.0     5.454774    1.701004     3.0     4.000     4.0   \n",
              "Displacement  398.0   193.425879  104.269838    68.0   104.250   148.5   \n",
              "Horsepower    392.0   104.469388   38.491160    46.0    75.000    93.5   \n",
              "Weight        398.0  2970.424623  846.841774  1613.0  2223.750  2803.5   \n",
              "Acceleration  398.0    15.568090    2.757689     8.0    13.825    15.5   \n",
              "Model Year    398.0    76.010050    3.697627    70.0    73.000    76.0   \n",
              "Origin        398.0     1.572864    0.802055     1.0     1.000     1.0   \n",
              "\n",
              "                   75%     max  \n",
              "MPG             29.000    46.6  \n",
              "Cylinders        8.000     8.0  \n",
              "Displacement   262.000   455.0  \n",
              "Horsepower     126.000   230.0  \n",
              "Weight        3608.000  5140.0  \n",
              "Acceleration    17.175    24.8  \n",
              "Model Year      79.000    82.0  \n",
              "Origin           2.000     3.0  "
            ]
          },
          "execution_count": 7,
          "metadata": {},
          "output_type": "execute_result"
        }
      ],
      "source": [
        "dataset.describe().transpose()"
      ]
    },
    {
      "cell_type": "code",
      "execution_count": 11,
      "metadata": {
        "id": "4ZUDosChC1UN"
      },
      "outputs": [],
      "source": [
        "dataset = dataset.dropna()# YOUR CODE HERE"
      ]
    },
    {
      "cell_type": "code",
      "execution_count": 8,
      "metadata": {},
      "outputs": [
        {
          "data": {
            "text/html": [
              "<div>\n",
              "<style scoped>\n",
              "    .dataframe tbody tr th:only-of-type {\n",
              "        vertical-align: middle;\n",
              "    }\n",
              "\n",
              "    .dataframe tbody tr th {\n",
              "        vertical-align: top;\n",
              "    }\n",
              "\n",
              "    .dataframe thead th {\n",
              "        text-align: right;\n",
              "    }\n",
              "</style>\n",
              "<table border=\"1\" class=\"dataframe\">\n",
              "  <thead>\n",
              "    <tr style=\"text-align: right;\">\n",
              "      <th></th>\n",
              "      <th>count</th>\n",
              "      <th>mean</th>\n",
              "      <th>std</th>\n",
              "      <th>min</th>\n",
              "      <th>25%</th>\n",
              "      <th>50%</th>\n",
              "      <th>75%</th>\n",
              "      <th>max</th>\n",
              "    </tr>\n",
              "  </thead>\n",
              "  <tbody>\n",
              "    <tr>\n",
              "      <th>MPG</th>\n",
              "      <td>398.0</td>\n",
              "      <td>23.514573</td>\n",
              "      <td>7.815984</td>\n",
              "      <td>9.0</td>\n",
              "      <td>17.500</td>\n",
              "      <td>23.0</td>\n",
              "      <td>29.000</td>\n",
              "      <td>46.6</td>\n",
              "    </tr>\n",
              "    <tr>\n",
              "      <th>Cylinders</th>\n",
              "      <td>398.0</td>\n",
              "      <td>5.454774</td>\n",
              "      <td>1.701004</td>\n",
              "      <td>3.0</td>\n",
              "      <td>4.000</td>\n",
              "      <td>4.0</td>\n",
              "      <td>8.000</td>\n",
              "      <td>8.0</td>\n",
              "    </tr>\n",
              "    <tr>\n",
              "      <th>Displacement</th>\n",
              "      <td>398.0</td>\n",
              "      <td>193.425879</td>\n",
              "      <td>104.269838</td>\n",
              "      <td>68.0</td>\n",
              "      <td>104.250</td>\n",
              "      <td>148.5</td>\n",
              "      <td>262.000</td>\n",
              "      <td>455.0</td>\n",
              "    </tr>\n",
              "    <tr>\n",
              "      <th>Horsepower</th>\n",
              "      <td>392.0</td>\n",
              "      <td>104.469388</td>\n",
              "      <td>38.491160</td>\n",
              "      <td>46.0</td>\n",
              "      <td>75.000</td>\n",
              "      <td>93.5</td>\n",
              "      <td>126.000</td>\n",
              "      <td>230.0</td>\n",
              "    </tr>\n",
              "    <tr>\n",
              "      <th>Weight</th>\n",
              "      <td>398.0</td>\n",
              "      <td>2970.424623</td>\n",
              "      <td>846.841774</td>\n",
              "      <td>1613.0</td>\n",
              "      <td>2223.750</td>\n",
              "      <td>2803.5</td>\n",
              "      <td>3608.000</td>\n",
              "      <td>5140.0</td>\n",
              "    </tr>\n",
              "    <tr>\n",
              "      <th>Acceleration</th>\n",
              "      <td>398.0</td>\n",
              "      <td>15.568090</td>\n",
              "      <td>2.757689</td>\n",
              "      <td>8.0</td>\n",
              "      <td>13.825</td>\n",
              "      <td>15.5</td>\n",
              "      <td>17.175</td>\n",
              "      <td>24.8</td>\n",
              "    </tr>\n",
              "    <tr>\n",
              "      <th>Model Year</th>\n",
              "      <td>398.0</td>\n",
              "      <td>76.010050</td>\n",
              "      <td>3.697627</td>\n",
              "      <td>70.0</td>\n",
              "      <td>73.000</td>\n",
              "      <td>76.0</td>\n",
              "      <td>79.000</td>\n",
              "      <td>82.0</td>\n",
              "    </tr>\n",
              "    <tr>\n",
              "      <th>Origin</th>\n",
              "      <td>398.0</td>\n",
              "      <td>1.572864</td>\n",
              "      <td>0.802055</td>\n",
              "      <td>1.0</td>\n",
              "      <td>1.000</td>\n",
              "      <td>1.0</td>\n",
              "      <td>2.000</td>\n",
              "      <td>3.0</td>\n",
              "    </tr>\n",
              "  </tbody>\n",
              "</table>\n",
              "</div>"
            ],
            "text/plain": [
              "              count         mean         std     min       25%     50%  \\\n",
              "MPG           398.0    23.514573    7.815984     9.0    17.500    23.0   \n",
              "Cylinders     398.0     5.454774    1.701004     3.0     4.000     4.0   \n",
              "Displacement  398.0   193.425879  104.269838    68.0   104.250   148.5   \n",
              "Horsepower    392.0   104.469388   38.491160    46.0    75.000    93.5   \n",
              "Weight        398.0  2970.424623  846.841774  1613.0  2223.750  2803.5   \n",
              "Acceleration  398.0    15.568090    2.757689     8.0    13.825    15.5   \n",
              "Model Year    398.0    76.010050    3.697627    70.0    73.000    76.0   \n",
              "Origin        398.0     1.572864    0.802055     1.0     1.000     1.0   \n",
              "\n",
              "                   75%     max  \n",
              "MPG             29.000    46.6  \n",
              "Cylinders        8.000     8.0  \n",
              "Displacement   262.000   455.0  \n",
              "Horsepower     126.000   230.0  \n",
              "Weight        3608.000  5140.0  \n",
              "Acceleration    17.175    24.8  \n",
              "Model Year      79.000    82.0  \n",
              "Origin           2.000     3.0  "
            ]
          },
          "execution_count": 8,
          "metadata": {},
          "output_type": "execute_result"
        }
      ],
      "source": [
        "dataset.describe().transpose()"
      ]
    },
    {
      "cell_type": "markdown",
      "metadata": {
        "id": "8XKitwaH4v8h"
      },
      "source": [
        "3. The `\"Origin\"` column is categorical, not numeric. So the next step is to one-hot encode the values in the column with [pd.get_dummies](https://pandas.pydata.org/docs/reference/api/pandas.get_dummies.html)."
      ]
    },
    {
      "cell_type": "code",
      "execution_count": 9,
      "metadata": {
        "id": "gWNTD2QjBWFJ"
      },
      "outputs": [],
      "source": [
        "dataset['Origin'] = dataset['Origin'].replace({1: 'USA', 2: 'Europe', 3: 'Japan'})"
      ]
    },
    {
      "cell_type": "code",
      "execution_count": 10,
      "metadata": {
        "colab": {
          "base_uri": "https://localhost:8080/",
          "height": 201
        },
        "id": "ulXz4J7PAUzk",
        "outputId": "58fc4923-29f8-4145-e0bd-73fd12643417"
      },
      "outputs": [
        {
          "data": {
            "text/html": [
              "<div>\n",
              "<style scoped>\n",
              "    .dataframe tbody tr th:only-of-type {\n",
              "        vertical-align: middle;\n",
              "    }\n",
              "\n",
              "    .dataframe tbody tr th {\n",
              "        vertical-align: top;\n",
              "    }\n",
              "\n",
              "    .dataframe thead th {\n",
              "        text-align: right;\n",
              "    }\n",
              "</style>\n",
              "<table border=\"1\" class=\"dataframe\">\n",
              "  <thead>\n",
              "    <tr style=\"text-align: right;\">\n",
              "      <th></th>\n",
              "      <th>MPG</th>\n",
              "      <th>Cylinders</th>\n",
              "      <th>Displacement</th>\n",
              "      <th>Horsepower</th>\n",
              "      <th>Weight</th>\n",
              "      <th>Acceleration</th>\n",
              "      <th>Model Year</th>\n",
              "      <th>Europe</th>\n",
              "      <th>Japan</th>\n",
              "      <th>USA</th>\n",
              "    </tr>\n",
              "  </thead>\n",
              "  <tbody>\n",
              "    <tr>\n",
              "      <th>393</th>\n",
              "      <td>27.0</td>\n",
              "      <td>4</td>\n",
              "      <td>140.0</td>\n",
              "      <td>86.0</td>\n",
              "      <td>2790.0</td>\n",
              "      <td>15.6</td>\n",
              "      <td>82</td>\n",
              "      <td>0</td>\n",
              "      <td>0</td>\n",
              "      <td>1</td>\n",
              "    </tr>\n",
              "    <tr>\n",
              "      <th>394</th>\n",
              "      <td>44.0</td>\n",
              "      <td>4</td>\n",
              "      <td>97.0</td>\n",
              "      <td>52.0</td>\n",
              "      <td>2130.0</td>\n",
              "      <td>24.6</td>\n",
              "      <td>82</td>\n",
              "      <td>1</td>\n",
              "      <td>0</td>\n",
              "      <td>0</td>\n",
              "    </tr>\n",
              "    <tr>\n",
              "      <th>395</th>\n",
              "      <td>32.0</td>\n",
              "      <td>4</td>\n",
              "      <td>135.0</td>\n",
              "      <td>84.0</td>\n",
              "      <td>2295.0</td>\n",
              "      <td>11.6</td>\n",
              "      <td>82</td>\n",
              "      <td>0</td>\n",
              "      <td>0</td>\n",
              "      <td>1</td>\n",
              "    </tr>\n",
              "    <tr>\n",
              "      <th>396</th>\n",
              "      <td>28.0</td>\n",
              "      <td>4</td>\n",
              "      <td>120.0</td>\n",
              "      <td>79.0</td>\n",
              "      <td>2625.0</td>\n",
              "      <td>18.6</td>\n",
              "      <td>82</td>\n",
              "      <td>0</td>\n",
              "      <td>0</td>\n",
              "      <td>1</td>\n",
              "    </tr>\n",
              "    <tr>\n",
              "      <th>397</th>\n",
              "      <td>31.0</td>\n",
              "      <td>4</td>\n",
              "      <td>119.0</td>\n",
              "      <td>82.0</td>\n",
              "      <td>2720.0</td>\n",
              "      <td>19.4</td>\n",
              "      <td>82</td>\n",
              "      <td>0</td>\n",
              "      <td>0</td>\n",
              "      <td>1</td>\n",
              "    </tr>\n",
              "  </tbody>\n",
              "</table>\n",
              "</div>\n",
              "      <button class=\"colab-df-convert\" onclick=\"convertToInteractive('df-b6e8ba95-2b05-4d2c-9bd4-3cbc7ace266c')\"\n",
              "              title=\"Convert this dataframe to an interactive table.\"\n",
              "              style=\"display:none;\">\n",
              "        \n",
              "  <svg xmlns=\"http://www.w3.org/2000/svg\" height=\"24px\"viewBox=\"0 0 24 24\"\n",
              "       width=\"24px\">\n",
              "    <path d=\"M0 0h24v24H0V0z\" fill=\"none\"/>\n",
              "    <path d=\"M18.56 5.44l.94 2.06.94-2.06 2.06-.94-2.06-.94-.94-2.06-.94 2.06-2.06.94zm-11 1L8.5 8.5l.94-2.06 2.06-.94-2.06-.94L8.5 2.5l-.94 2.06-2.06.94zm10 10l.94 2.06.94-2.06 2.06-.94-2.06-.94-.94-2.06-.94 2.06-2.06.94z\"/><path d=\"M17.41 7.96l-1.37-1.37c-.4-.4-.92-.59-1.43-.59-.52 0-1.04.2-1.43.59L10.3 9.45l-7.72 7.72c-.78.78-.78 2.05 0 2.83L4 21.41c.39.39.9.59 1.41.59.51 0 1.02-.2 1.41-.59l7.78-7.78 2.81-2.81c.8-.78.8-2.07 0-2.86zM5.41 20L4 18.59l7.72-7.72 1.47 1.35L5.41 20z\"/>\n",
              "  </svg>\n",
              "      </button>\n",
              "      \n",
              "  <style>\n",
              "    .colab-df-container {\n",
              "      display:flex;\n",
              "      flex-wrap:wrap;\n",
              "      gap: 12px;\n",
              "    }\n",
              "\n",
              "    .colab-df-convert {\n",
              "      background-color: #E8F0FE;\n",
              "      border: none;\n",
              "      border-radius: 50%;\n",
              "      cursor: pointer;\n",
              "      display: none;\n",
              "      fill: #1967D2;\n",
              "      height: 32px;\n",
              "      padding: 0 0 0 0;\n",
              "      width: 32px;\n",
              "    }\n",
              "\n",
              "    .colab-df-convert:hover {\n",
              "      background-color: #E2EBFA;\n",
              "      box-shadow: 0px 1px 2px rgba(60, 64, 67, 0.3), 0px 1px 3px 1px rgba(60, 64, 67, 0.15);\n",
              "      fill: #174EA6;\n",
              "    }\n",
              "\n",
              "    [theme=dark] .colab-df-convert {\n",
              "      background-color: #3B4455;\n",
              "      fill: #D2E3FC;\n",
              "    }\n",
              "\n",
              "    [theme=dark] .colab-df-convert:hover {\n",
              "      background-color: #434B5C;\n",
              "      box-shadow: 0px 1px 3px 1px rgba(0, 0, 0, 0.15);\n",
              "      filter: drop-shadow(0px 1px 2px rgba(0, 0, 0, 0.3));\n",
              "      fill: #FFFFFF;\n",
              "    }\n",
              "  </style>\n",
              "\n",
              "      <script>\n",
              "        const buttonEl =\n",
              "          document.querySelector('#df-b6e8ba95-2b05-4d2c-9bd4-3cbc7ace266c button.colab-df-convert');\n",
              "        buttonEl.style.display =\n",
              "          google.colab.kernel.accessAllowed ? 'block' : 'none';\n",
              "\n",
              "        async function convertToInteractive(key) {\n",
              "          const element = document.querySelector('#df-b6e8ba95-2b05-4d2c-9bd4-3cbc7ace266c');\n",
              "          const dataTable =\n",
              "            await google.colab.kernel.invokeFunction('convertToInteractive',\n",
              "                                                     [key], {});\n",
              "          if (!dataTable) return;\n",
              "\n",
              "          const docLinkHtml = 'Like what you see? Visit the ' +\n",
              "            '<a target=\"_blank\" href=https://colab.research.google.com/notebooks/data_table.ipynb>data table notebook</a>'\n",
              "            + ' to learn more about interactive tables.';\n",
              "          element.innerHTML = '';\n",
              "          dataTable['output_type'] = 'display_data';\n",
              "          await google.colab.output.renderOutput(dataTable, element);\n",
              "          const docLink = document.createElement('div');\n",
              "          docLink.innerHTML = docLinkHtml;\n",
              "          element.appendChild(docLink);\n",
              "        }\n",
              "      </script>\n",
              "    </div>\n",
              "  </div>\n",
              "  "
            ],
            "text/plain": [
              "      MPG  Cylinders  Displacement  Horsepower  Weight  Acceleration  \\\n",
              "393  27.0          4         140.0        86.0  2790.0          15.6   \n",
              "394  44.0          4          97.0        52.0  2130.0          24.6   \n",
              "395  32.0          4         135.0        84.0  2295.0          11.6   \n",
              "396  28.0          4         120.0        79.0  2625.0          18.6   \n",
              "397  31.0          4         119.0        82.0  2720.0          19.4   \n",
              "\n",
              "     Model Year  Europe  Japan  USA  \n",
              "393          82       0      0    1  \n",
              "394          82       1      0    0  \n",
              "395          82       0      0    1  \n",
              "396          82       0      0    1  \n",
              "397          82       0      0    1  "
            ]
          },
          "execution_count": 10,
          "metadata": {},
          "output_type": "execute_result"
        }
      ],
      "source": [
        "dataset = pd.get_dummies(dataset, columns=['Origin'], prefix='', prefix_sep='')\n",
        "dataset.tail()"
      ]
    },
    {
      "cell_type": "markdown",
      "metadata": {
        "id": "Cuym4yvk76vU"
      },
      "source": [
        "4. Split the data into training and test sets. To reduce the module importing overhead, instead of `sklearn.model_selection.train_test_split()`, use `pd.DataFrame.sample()` to save 80% of the data aside to `train_dataset`, set the random state to be 0 for reproducibility. \n",
        "\n",
        "   Then use `pd.DataFrame.drop()` to obtain the `test_dataset`."
      ]
    },
    {
      "cell_type": "code",
      "execution_count": 11,
      "metadata": {
        "id": "qn-IGhUE7_1H"
      },
      "outputs": [],
      "source": [
        "train_dataset = dataset.sample(frac = .80, random_state = 0) # YOUR CODE HERE\n",
        "test_dataset = dataset.drop(train_dataset.index)# YOUR CODE HERE "
      ]
    },
    {
      "cell_type": "markdown",
      "metadata": {
        "id": "J4ubs136WLNp"
      },
      "source": [
        "5. Review the joint distribution of a few pairs of columns from the training set. \n",
        "   \n",
        "   The top row suggests that the fuel efficiency (MPG) is a function of all the other parameters. The other rows indicate they are functions of each other."
      ]
    },
    {
      "cell_type": "code",
      "execution_count": 12,
      "metadata": {
        "colab": {
          "base_uri": "https://localhost:8080/",
          "height": 725
        },
        "id": "oRKO_x8gWKv-",
        "outputId": "c8f512f8-abfd-4c4b-fb45-2aba23a7fd22"
      },
      "outputs": [
        {
          "data": {
            "image/png": "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",
            "text/plain": [
              "<Figure size 720x720 with 20 Axes>"
            ]
          },
          "metadata": {
            "needs_background": "light"
          },
          "output_type": "display_data"
        }
      ],
      "source": [
        "sns.pairplot(train_dataset[['MPG', 'Cylinders', 'Displacement', 'Weight']], diag_kind='kde');"
      ]
    },
    {
      "cell_type": "markdown",
      "metadata": {
        "id": "gavKO_6DWRMP"
      },
      "source": [
        "Let's also check the overall statistics. Note how each feature covers a very different range:"
      ]
    },
    {
      "cell_type": "code",
      "execution_count": 13,
      "metadata": {
        "colab": {
          "base_uri": "https://localhost:8080/",
          "height": 352
        },
        "id": "yi2FzC3T21jR",
        "outputId": "f91f051c-a6df-4256-b61c-4eaf8dd08528"
      },
      "outputs": [
        {
          "data": {
            "text/html": [
              "<div>\n",
              "<style scoped>\n",
              "    .dataframe tbody tr th:only-of-type {\n",
              "        vertical-align: middle;\n",
              "    }\n",
              "\n",
              "    .dataframe tbody tr th {\n",
              "        vertical-align: top;\n",
              "    }\n",
              "\n",
              "    .dataframe thead th {\n",
              "        text-align: right;\n",
              "    }\n",
              "</style>\n",
              "<table border=\"1\" class=\"dataframe\">\n",
              "  <thead>\n",
              "    <tr style=\"text-align: right;\">\n",
              "      <th></th>\n",
              "      <th>count</th>\n",
              "      <th>mean</th>\n",
              "      <th>std</th>\n",
              "      <th>min</th>\n",
              "      <th>25%</th>\n",
              "      <th>50%</th>\n",
              "      <th>75%</th>\n",
              "      <th>max</th>\n",
              "    </tr>\n",
              "  </thead>\n",
              "  <tbody>\n",
              "    <tr>\n",
              "      <th>MPG</th>\n",
              "      <td>318.0</td>\n",
              "      <td>23.590566</td>\n",
              "      <td>7.913617</td>\n",
              "      <td>10.0</td>\n",
              "      <td>17.125</td>\n",
              "      <td>22.75</td>\n",
              "      <td>29.00</td>\n",
              "      <td>46.6</td>\n",
              "    </tr>\n",
              "    <tr>\n",
              "      <th>Cylinders</th>\n",
              "      <td>318.0</td>\n",
              "      <td>5.427673</td>\n",
              "      <td>1.682941</td>\n",
              "      <td>3.0</td>\n",
              "      <td>4.000</td>\n",
              "      <td>4.00</td>\n",
              "      <td>6.00</td>\n",
              "      <td>8.0</td>\n",
              "    </tr>\n",
              "    <tr>\n",
              "      <th>Displacement</th>\n",
              "      <td>318.0</td>\n",
              "      <td>193.061321</td>\n",
              "      <td>103.812742</td>\n",
              "      <td>70.0</td>\n",
              "      <td>100.250</td>\n",
              "      <td>151.00</td>\n",
              "      <td>259.50</td>\n",
              "      <td>455.0</td>\n",
              "    </tr>\n",
              "    <tr>\n",
              "      <th>Horsepower</th>\n",
              "      <td>313.0</td>\n",
              "      <td>104.067093</td>\n",
              "      <td>38.674662</td>\n",
              "      <td>46.0</td>\n",
              "      <td>75.000</td>\n",
              "      <td>92.00</td>\n",
              "      <td>120.00</td>\n",
              "      <td>230.0</td>\n",
              "    </tr>\n",
              "    <tr>\n",
              "      <th>Weight</th>\n",
              "      <td>318.0</td>\n",
              "      <td>2963.823899</td>\n",
              "      <td>844.749805</td>\n",
              "      <td>1613.0</td>\n",
              "      <td>2219.250</td>\n",
              "      <td>2792.50</td>\n",
              "      <td>3571.25</td>\n",
              "      <td>5140.0</td>\n",
              "    </tr>\n",
              "    <tr>\n",
              "      <th>Acceleration</th>\n",
              "      <td>318.0</td>\n",
              "      <td>15.595912</td>\n",
              "      <td>2.796282</td>\n",
              "      <td>8.0</td>\n",
              "      <td>13.900</td>\n",
              "      <td>15.50</td>\n",
              "      <td>17.30</td>\n",
              "      <td>24.8</td>\n",
              "    </tr>\n",
              "    <tr>\n",
              "      <th>Model Year</th>\n",
              "      <td>318.0</td>\n",
              "      <td>75.946541</td>\n",
              "      <td>3.705266</td>\n",
              "      <td>70.0</td>\n",
              "      <td>73.000</td>\n",
              "      <td>76.00</td>\n",
              "      <td>79.00</td>\n",
              "      <td>82.0</td>\n",
              "    </tr>\n",
              "    <tr>\n",
              "      <th>Europe</th>\n",
              "      <td>318.0</td>\n",
              "      <td>0.163522</td>\n",
              "      <td>0.370424</td>\n",
              "      <td>0.0</td>\n",
              "      <td>0.000</td>\n",
              "      <td>0.00</td>\n",
              "      <td>0.00</td>\n",
              "      <td>1.0</td>\n",
              "    </tr>\n",
              "    <tr>\n",
              "      <th>Japan</th>\n",
              "      <td>318.0</td>\n",
              "      <td>0.194969</td>\n",
              "      <td>0.396801</td>\n",
              "      <td>0.0</td>\n",
              "      <td>0.000</td>\n",
              "      <td>0.00</td>\n",
              "      <td>0.00</td>\n",
              "      <td>1.0</td>\n",
              "    </tr>\n",
              "    <tr>\n",
              "      <th>USA</th>\n",
              "      <td>318.0</td>\n",
              "      <td>0.641509</td>\n",
              "      <td>0.480313</td>\n",
              "      <td>0.0</td>\n",
              "      <td>0.000</td>\n",
              "      <td>1.00</td>\n",
              "      <td>1.00</td>\n",
              "      <td>1.0</td>\n",
              "    </tr>\n",
              "  </tbody>\n",
              "</table>\n",
              "</div>"
            ],
            "text/plain": [
              "              count         mean         std     min       25%      50%  \\\n",
              "MPG           318.0    23.590566    7.913617    10.0    17.125    22.75   \n",
              "Cylinders     318.0     5.427673    1.682941     3.0     4.000     4.00   \n",
              "Displacement  318.0   193.061321  103.812742    70.0   100.250   151.00   \n",
              "Horsepower    313.0   104.067093   38.674662    46.0    75.000    92.00   \n",
              "Weight        318.0  2963.823899  844.749805  1613.0  2219.250  2792.50   \n",
              "Acceleration  318.0    15.595912    2.796282     8.0    13.900    15.50   \n",
              "Model Year    318.0    75.946541    3.705266    70.0    73.000    76.00   \n",
              "Europe        318.0     0.163522    0.370424     0.0     0.000     0.00   \n",
              "Japan         318.0     0.194969    0.396801     0.0     0.000     0.00   \n",
              "USA           318.0     0.641509    0.480313     0.0     0.000     1.00   \n",
              "\n",
              "                  75%     max  \n",
              "MPG             29.00    46.6  \n",
              "Cylinders        6.00     8.0  \n",
              "Displacement   259.50   455.0  \n",
              "Horsepower     120.00   230.0  \n",
              "Weight        3571.25  5140.0  \n",
              "Acceleration    17.30    24.8  \n",
              "Model Year      79.00    82.0  \n",
              "Europe           0.00     1.0  \n",
              "Japan            0.00     1.0  \n",
              "USA              1.00     1.0  "
            ]
          },
          "execution_count": 13,
          "metadata": {},
          "output_type": "execute_result"
        }
      ],
      "source": [
        "train_dataset.describe().transpose()"
      ]
    },
    {
      "cell_type": "markdown",
      "metadata": {
        "id": "Db7Auq1yXUvh"
      },
      "source": [
        "5. Split features from labels\n",
        "\n",
        "  Separate the target value—the \"label\"—from the features. This label is the value that you will train the model to predict."
      ]
    },
    {
      "cell_type": "code",
      "execution_count": 14,
      "metadata": {
        "id": "t2sluJdCW7jN"
      },
      "outputs": [],
      "source": [
        "train_features = train_dataset.drop(axis = 1, labels = \"MPG\") # YOUR CODE HERE\n",
        "test_features = test_dataset.drop(axis = 1, labels = 'MPG') # YOUR CODE HERE\n",
        "\n",
        "train_labels = train_dataset['MPG'] # YOUR CODE HERE\n",
        "test_labels = test_dataset['MPG'] # YOUR CODE HERE"
      ]
    },
    {
      "cell_type": "code",
      "execution_count": 17,
      "metadata": {},
      "outputs": [
        {
          "name": "stdout",
          "output_type": "stream",
          "text": [
            "train_features shape: \n",
            " (318, 9)\n",
            "train_labels shape: \n",
            " (318,)\n",
            "\n",
            "test_features shape: \n",
            " (80, 9)\n",
            "test_lables shape: \n",
            " (80,)\n"
          ]
        }
      ],
      "source": [
        "print('train_features shape: \\n', train_features.shape)\n",
        "print('train_labels shape: \\n', train_labels.shape)\n",
        "\n",
        "print('\\ntest_features shape: \\n', test_features.shape)\n",
        "print('test_lables shape: \\n', test_labels.shape)"
      ]
    },
    {
      "cell_type": "markdown",
      "metadata": {
        "id": "mRklxK5s388r"
      },
      "source": [
        "# Task 2. Normalization Layer"
      ]
    },
    {
      "cell_type": "markdown",
      "metadata": {
        "id": "-ywmerQ6dSox"
      },
      "source": [
        "It is good practice to normalize features that use different scales and ranges. Although a model *might* converge without feature normalization, normalization makes training much more stable.\n",
        "\n",
        "Similar to scikit-learn, tensorflow.keras offers a list of [preprocessing layers](https://www.tensorflow.org/guide/keras/preprocessing_layers) so that you can build and export models that are truly end-to-end."
      ]
    },
    {
      "cell_type": "markdown",
      "metadata": {
        "id": "aFJ6ISropeoo"
      },
      "source": [
        "1. The Normalization layer ([`tf.keras.layers.Normalization`](https://www.tensorflow.org/api_docs/python/tf/keras/layers/Normalization) is a clean and simple way to add feature normalization into your model. The first step is to create the layer:"
      ]
    },
    {
      "cell_type": "code",
      "execution_count": 18,
      "metadata": {
        "id": "JlC5ooJrgjQF"
      },
      "outputs": [
        {
          "ename": "AttributeError",
          "evalue": "module 'tensorflow.keras.layers' has no attribute 'Normalization'",
          "output_type": "error",
          "traceback": [
            "\u001b[0;31m---------------------------------------------------------------------------\u001b[0m",
            "\u001b[0;31mAttributeError\u001b[0m                            Traceback (most recent call last)",
            "\u001b[1;32m/mnt/c/Users/crist/Documents/MLE-7/assignments/week-6-auto-ml/nb/fuel_efficiency.ipynb Cell 33'\u001b[0m in \u001b[0;36m<cell line: 1>\u001b[0;34m()\u001b[0m\n\u001b[0;32m----> <a href='vscode-notebook-cell://wsl%2Bubuntu/mnt/c/Users/crist/Documents/MLE-7/assignments/week-6-auto-ml/nb/fuel_efficiency.ipynb#ch0000032vscode-remote?line=0'>1</a>\u001b[0m normalizer \u001b[39m=\u001b[39m  tf\u001b[39m.\u001b[39;49mkeras\u001b[39m.\u001b[39;49mlayers\u001b[39m.\u001b[39;49mNormalization()\n",
            "\u001b[0;31mAttributeError\u001b[0m: module 'tensorflow.keras.layers' has no attribute 'Normalization'"
          ]
        }
      ],
      "source": [
        "normalizer =  tf.keras.layers.Normalization() # YOUR CODE HERE"
      ]
    },
    {
      "cell_type": "markdown",
      "metadata": {
        "id": "XYA2Ap6nVOha"
      },
      "source": [
        "2. Then, fit the state of the preprocessing layer to the data by calling [`Normalization.adapt`](https://www.tensorflow.org/guide/keras/preprocessing_layers#the_adapt_method):"
      ]
    },
    {
      "cell_type": "code",
      "execution_count": 14,
      "metadata": {
        "id": "CrBbbjbwV91f"
      },
      "outputs": [],
      "source": [
        "normalizer # YOUR CODE HERE"
      ]
    },
    {
      "cell_type": "markdown",
      "metadata": {
        "id": "GqryjQ_DMMHp"
      },
      "source": [
        "We can see the feature mean and variance are stored in the layer:"
      ]
    },
    {
      "cell_type": "code",
      "execution_count": 19,
      "metadata": {
        "colab": {
          "base_uri": "https://localhost:8080/"
        },
        "id": "lreV_KOML142",
        "outputId": "d3cf9083-39b7-4baa-8924-c5c1ae6d8ad6"
      },
      "outputs": [
        {
          "name": "stdout",
          "output_type": "stream",
          "text": [
            "feature mean: [   5.478  195.318  104.869 2990.252   15.559   75.898    0.178    0.197\n",
            "    0.624]\n",
            "\n",
            "feature variance: [     2.88   10850.413   1446.699 709896.9        7.755     13.467\n",
            "      0.147      0.158      0.235]\n"
          ]
        }
      ],
      "source": [
        "print(f'feature mean: {normalizer.mean.numpy().squeeze()}\\n')\n",
        "print(f'feature variance: {normalizer.variance.numpy().squeeze()}')"
      ]
    },
    {
      "cell_type": "markdown",
      "metadata": {
        "id": "oGWKaF9GSRuN"
      },
      "source": [
        "When the layer is called, it returns the input data, with each feature independently normalized:"
      ]
    },
    {
      "cell_type": "code",
      "execution_count": 20,
      "metadata": {
        "colab": {
          "base_uri": "https://localhost:8080/"
        },
        "id": "2l7zFL_XWIRu",
        "outputId": "46728b0f-ea25-49fd-fdff-7ea20a57275f"
      },
      "outputs": [
        {
          "name": "stdout",
          "output_type": "stream",
          "text": [
            "First example: [[   4.    90.    75.  2125.    14.5   74.     0.     0.     1. ]]\n",
            "\n",
            "Normalized: [[-0.87 -1.01 -0.79 -1.03 -0.38 -0.52 -0.47 -0.5   0.78]]\n"
          ]
        }
      ],
      "source": [
        "first = np.array(train_features[:1])\n",
        "\n",
        "with np.printoptions(precision=2, suppress=True):\n",
        "  print('First example:', first)\n",
        "  print()\n",
        "  print('Normalized:', normalizer(first).numpy())"
      ]
    },
    {
      "cell_type": "markdown",
      "metadata": {
        "id": "6o3CrycBXA2s"
      },
      "source": [
        "# Task 3. Linear regression\n",
        "\n",
        "Before building a deep neural network model, start with linear regression using all the features."
      ]
    },
    {
      "cell_type": "markdown",
      "metadata": {
        "id": "lFby9n0tnHkw"
      },
      "source": [
        "Training a model with `tf.keras` typically starts by defining the model architecture. Use a `tf.keras.Sequential` model, which [represents a sequence of steps](https://www.tensorflow.org/guide/keras/sequential_model).\n",
        "\n",
        "There are two steps in this multivariate linear regression model:\n",
        "\n",
        "- Normalize all the input features using the `tf.keras.layers.Normalization` preprocessing layer. You have defined this ealier as `normalizer`.\n",
        "- Apply a linear transformation ($y = mx+b$ where $m$ is a matrix and $b$ is a vector.) to produce 1 output using a linear layer ([`tf.keras.layers.Dense`](https://www.tensorflow.org/api_docs/python/tf/keras/layers/Dense)).\n",
        "\n",
        "The number of _inputs_ can either be set by the `input_shape` argument, or automatically when the model is run for the first time."
      ]
    },
    {
      "cell_type": "markdown",
      "metadata": {
        "id": "4NVlHJY2TWlC"
      },
      "source": [
        "1. Build the Keras Sequential model:"
      ]
    },
    {
      "cell_type": "code",
      "execution_count": 21,
      "metadata": {
        "id": "c0sXM7qLlKfZ"
      },
      "outputs": [],
      "source": [
        "linear_model = tf.keras.Sequential([\n",
        "    # YOUR CODE HERE\n",
        "    # YOUR CODE HERE\n",
        "])"
      ]
    },
    {
      "cell_type": "code",
      "execution_count": 22,
      "metadata": {
        "colab": {
          "base_uri": "https://localhost:8080/"
        },
        "id": "_iaY0wviy0FO",
        "outputId": "6d252dc0-bb4f-4beb-a65a-4f33f089413b"
      },
      "outputs": [
        {
          "name": "stdout",
          "output_type": "stream",
          "text": [
            "Model: \"sequential\"\n",
            "_________________________________________________________________\n",
            " Layer (type)                Output Shape              Param #   \n",
            "=================================================================\n",
            " normalization (Normalizatio  (None, 9)                19        \n",
            " n)                                                              \n",
            "                                                                 \n",
            " dense (Dense)               (None, 1)                 10        \n",
            "                                                                 \n",
            "=================================================================\n",
            "Total params: 29\n",
            "Trainable params: 10\n",
            "Non-trainable params: 19\n",
            "_________________________________________________________________\n"
          ]
        }
      ],
      "source": [
        "linear_model.summary()"
      ]
    },
    {
      "cell_type": "markdown",
      "metadata": {
        "id": "eObQu9fDnXGL"
      },
      "source": [
        "2. This model will predict `'MPG'` from all features in `train_features`. Run the untrained model on the first 10 data points / rows using `Model.predict()`. The output won't be good, but notice that it has the expected shape of `(10, 1)`:"
      ]
    },
    {
      "cell_type": "code",
      "execution_count": 23,
      "metadata": {
        "colab": {
          "base_uri": "https://localhost:8080/"
        },
        "id": "UfV1HS6bns-s",
        "outputId": "07820834-4a22-4740-a830-60a76707769a"
      },
      "outputs": [
        {
          "data": {
            "text/plain": [
              "array([[-0.777],\n",
              "       [-0.764],\n",
              "       [ 0.322],\n",
              "       [-0.16 ],\n",
              "       [ 1.354],\n",
              "       [-0.092],\n",
              "       [ 1.286],\n",
              "       [-1.557],\n",
              "       [-0.378],\n",
              "       [ 0.641]], dtype=float32)"
            ]
          },
          "execution_count": 23,
          "metadata": {},
          "output_type": "execute_result"
        }
      ],
      "source": [
        "linear_model # YOUR CODE HERE"
      ]
    },
    {
      "cell_type": "markdown",
      "metadata": {
        "id": "IFND0vL4y5OZ"
      },
      "source": [
        "3. When you call the model, its weight matrices will be built—check that the `kernel` weights (the $m$ in $y = mx + b$) have a shape of (9, 1):"
      ]
    },
    {
      "cell_type": "code",
      "execution_count": 24,
      "metadata": {
        "colab": {
          "base_uri": "https://localhost:8080/"
        },
        "id": "QaqBYReyzBgr",
        "outputId": "52de9f35-136d-4bf4-b8b1-bd1ede6450da"
      },
      "outputs": [
        {
          "data": {
            "text/plain": [
              "<tf.Variable 'dense/kernel:0' shape=(9, 1) dtype=float32, numpy=\n",
              "array([[ 0.463],\n",
              "       [ 0.235],\n",
              "       [-0.206],\n",
              "       [-0.037],\n",
              "       [-0.333],\n",
              "       [ 0.249],\n",
              "       [-0.262],\n",
              "       [ 0.731],\n",
              "       [-0.12 ]], dtype=float32)>"
            ]
          },
          "execution_count": 24,
          "metadata": {},
          "output_type": "execute_result"
        }
      ],
      "source": [
        "linear_model.layers[1].kernel"
      ]
    },
    {
      "cell_type": "markdown",
      "metadata": {
        "id": "CSkanJlmmFBX"
      },
      "source": [
        "4. Once the model is built, configure the training procedure using the Keras `Model.compile` method. The most important arguments to compile are the `loss` and the `optimizer`, since these define what will be optimized and how (using the `tf.keras.optimizers.Adam`).\n",
        "\n",
        "  Here's a list of built-in loss functions in [`tf.keras.losses`](https://www.tensorflow.org/api_docs/python/tf/keras/losses). For regression tasks, [common loss functions](https://towardsdatascience.com/understanding-the-3-most-common-loss-functions-for-machine-learning-regression-23e0ef3e14d3) include mean squared error (MSE) and mean absolute error (MAE). Here,  MAE is preferred such that the model is more robust against outliers. \n",
        "\n",
        "  For optimizers, gradient descent (check this video [Gradient Descent, Step-by-Step](https://www.youtube.com/watch?v=sDv4f4s2SB8) for a refresher) is the preferred way to optimize neural networks and many other machine learning algorithms. Read [an overview of graident descent optimizer algorithms](https://ruder.io/optimizing-gradient-descent/) for several popular gradient descent algorithms. Here, we use the popular [`tf.keras.optimizers.Adam`](https://www.tensorflow.org/api_docs/python/tf/keras/optimizers/Adam), and set the learning rate at 0.1 for faster learning.  "
      ]
    },
    {
      "cell_type": "code",
      "execution_count": 25,
      "metadata": {
        "id": "JxA_3lpOm-SK"
      },
      "outputs": [],
      "source": [
        "linear_model.compile(\n",
        "    optimizer= # YOUR CODE HERE\n",
        "    loss= # YOUR CODE HERE\n",
        "    )"
      ]
    },
    {
      "cell_type": "markdown",
      "metadata": {
        "id": "Z3q1I9TwnRSC"
      },
      "source": [
        "5. Use Keras `Model.fit` to execute the training for 100 epochs, set the verbose to 0 to suppress logging and keep 20% of the data for validation:"
      ]
    },
    {
      "cell_type": "code",
      "execution_count": 26,
      "metadata": {
        "colab": {
          "base_uri": "https://localhost:8080/"
        },
        "id": "-iSrNy59nRAp",
        "outputId": "8fcb01a0-ba4e-4d53-df03-591999d8409f"
      },
      "outputs": [
        {
          "name": "stdout",
          "output_type": "stream",
          "text": [
            "CPU times: user 4.43 s, sys: 160 ms, total: 4.59 s\n",
            "Wall time: 6.34 s\n"
          ]
        }
      ],
      "source": [
        "%%time\n",
        "history = # YOUR CODE HERE"
      ]
    },
    {
      "cell_type": "markdown",
      "metadata": {
        "id": "tQm3pc0FYPQB"
      },
      "source": [
        "6. Visualize the model's training progress using the stats stored in the `history` object:"
      ]
    },
    {
      "cell_type": "code",
      "execution_count": 27,
      "metadata": {
        "colab": {
          "base_uri": "https://localhost:8080/",
          "height": 201
        },
        "id": "YCAwD_y4AdC3",
        "outputId": "1eba3d95-e76e-47c8-86d4-15e28d8cdd88"
      },
      "outputs": [
        {
          "data": {
            "text/html": [
              "\n",
              "  <div id=\"df-93c73be8-691d-45d3-a607-d5ebc32e6085\">\n",
              "    <div class=\"colab-df-container\">\n",
              "      <div>\n",
              "<style scoped>\n",
              "    .dataframe tbody tr th:only-of-type {\n",
              "        vertical-align: middle;\n",
              "    }\n",
              "\n",
              "    .dataframe tbody tr th {\n",
              "        vertical-align: top;\n",
              "    }\n",
              "\n",
              "    .dataframe thead th {\n",
              "        text-align: right;\n",
              "    }\n",
              "</style>\n",
              "<table border=\"1\" class=\"dataframe\">\n",
              "  <thead>\n",
              "    <tr style=\"text-align: right;\">\n",
              "      <th></th>\n",
              "      <th>loss</th>\n",
              "      <th>val_loss</th>\n",
              "      <th>epoch</th>\n",
              "    </tr>\n",
              "  </thead>\n",
              "  <tbody>\n",
              "    <tr>\n",
              "      <th>95</th>\n",
              "      <td>2.491493</td>\n",
              "      <td>2.501380</td>\n",
              "      <td>95</td>\n",
              "    </tr>\n",
              "    <tr>\n",
              "      <th>96</th>\n",
              "      <td>2.479823</td>\n",
              "      <td>2.499941</td>\n",
              "      <td>96</td>\n",
              "    </tr>\n",
              "    <tr>\n",
              "      <th>97</th>\n",
              "      <td>2.464536</td>\n",
              "      <td>2.467970</td>\n",
              "      <td>97</td>\n",
              "    </tr>\n",
              "    <tr>\n",
              "      <th>98</th>\n",
              "      <td>2.483476</td>\n",
              "      <td>2.509633</td>\n",
              "      <td>98</td>\n",
              "    </tr>\n",
              "    <tr>\n",
              "      <th>99</th>\n",
              "      <td>2.474762</td>\n",
              "      <td>2.492450</td>\n",
              "      <td>99</td>\n",
              "    </tr>\n",
              "  </tbody>\n",
              "</table>\n",
              "</div>\n",
              "      <button class=\"colab-df-convert\" onclick=\"convertToInteractive('df-93c73be8-691d-45d3-a607-d5ebc32e6085')\"\n",
              "              title=\"Convert this dataframe to an interactive table.\"\n",
              "              style=\"display:none;\">\n",
              "        \n",
              "  <svg xmlns=\"http://www.w3.org/2000/svg\" height=\"24px\"viewBox=\"0 0 24 24\"\n",
              "       width=\"24px\">\n",
              "    <path d=\"M0 0h24v24H0V0z\" fill=\"none\"/>\n",
              "    <path d=\"M18.56 5.44l.94 2.06.94-2.06 2.06-.94-2.06-.94-.94-2.06-.94 2.06-2.06.94zm-11 1L8.5 8.5l.94-2.06 2.06-.94-2.06-.94L8.5 2.5l-.94 2.06-2.06.94zm10 10l.94 2.06.94-2.06 2.06-.94-2.06-.94-.94-2.06-.94 2.06-2.06.94z\"/><path d=\"M17.41 7.96l-1.37-1.37c-.4-.4-.92-.59-1.43-.59-.52 0-1.04.2-1.43.59L10.3 9.45l-7.72 7.72c-.78.78-.78 2.05 0 2.83L4 21.41c.39.39.9.59 1.41.59.51 0 1.02-.2 1.41-.59l7.78-7.78 2.81-2.81c.8-.78.8-2.07 0-2.86zM5.41 20L4 18.59l7.72-7.72 1.47 1.35L5.41 20z\"/>\n",
              "  </svg>\n",
              "      </button>\n",
              "      \n",
              "  <style>\n",
              "    .colab-df-container {\n",
              "      display:flex;\n",
              "      flex-wrap:wrap;\n",
              "      gap: 12px;\n",
              "    }\n",
              "\n",
              "    .colab-df-convert {\n",
              "      background-color: #E8F0FE;\n",
              "      border: none;\n",
              "      border-radius: 50%;\n",
              "      cursor: pointer;\n",
              "      display: none;\n",
              "      fill: #1967D2;\n",
              "      height: 32px;\n",
              "      padding: 0 0 0 0;\n",
              "      width: 32px;\n",
              "    }\n",
              "\n",
              "    .colab-df-convert:hover {\n",
              "      background-color: #E2EBFA;\n",
              "      box-shadow: 0px 1px 2px rgba(60, 64, 67, 0.3), 0px 1px 3px 1px rgba(60, 64, 67, 0.15);\n",
              "      fill: #174EA6;\n",
              "    }\n",
              "\n",
              "    [theme=dark] .colab-df-convert {\n",
              "      background-color: #3B4455;\n",
              "      fill: #D2E3FC;\n",
              "    }\n",
              "\n",
              "    [theme=dark] .colab-df-convert:hover {\n",
              "      background-color: #434B5C;\n",
              "      box-shadow: 0px 1px 3px 1px rgba(0, 0, 0, 0.15);\n",
              "      filter: drop-shadow(0px 1px 2px rgba(0, 0, 0, 0.3));\n",
              "      fill: #FFFFFF;\n",
              "    }\n",
              "  </style>\n",
              "\n",
              "      <script>\n",
              "        const buttonEl =\n",
              "          document.querySelector('#df-93c73be8-691d-45d3-a607-d5ebc32e6085 button.colab-df-convert');\n",
              "        buttonEl.style.display =\n",
              "          google.colab.kernel.accessAllowed ? 'block' : 'none';\n",
              "\n",
              "        async function convertToInteractive(key) {\n",
              "          const element = document.querySelector('#df-93c73be8-691d-45d3-a607-d5ebc32e6085');\n",
              "          const dataTable =\n",
              "            await google.colab.kernel.invokeFunction('convertToInteractive',\n",
              "                                                     [key], {});\n",
              "          if (!dataTable) return;\n",
              "\n",
              "          const docLinkHtml = 'Like what you see? Visit the ' +\n",
              "            '<a target=\"_blank\" href=https://colab.research.google.com/notebooks/data_table.ipynb>data table notebook</a>'\n",
              "            + ' to learn more about interactive tables.';\n",
              "          element.innerHTML = '';\n",
              "          dataTable['output_type'] = 'display_data';\n",
              "          await google.colab.output.renderOutput(dataTable, element);\n",
              "          const docLink = document.createElement('div');\n",
              "          docLink.innerHTML = docLinkHtml;\n",
              "          element.appendChild(docLink);\n",
              "        }\n",
              "      </script>\n",
              "    </div>\n",
              "  </div>\n",
              "  "
            ],
            "text/plain": [
              "        loss  val_loss  epoch\n",
              "95  2.491493  2.501380     95\n",
              "96  2.479823  2.499941     96\n",
              "97  2.464536  2.467970     97\n",
              "98  2.483476  2.509633     98\n",
              "99  2.474762  2.492450     99"
            ]
          },
          "execution_count": 27,
          "metadata": {},
          "output_type": "execute_result"
        }
      ],
      "source": [
        "hist = pd.DataFrame(history.history)\n",
        "hist['epoch'] = history.epoch\n",
        "hist.tail()"
      ]
    },
    {
      "cell_type": "code",
      "execution_count": 28,
      "metadata": {
        "id": "9E54UoZunqhc"
      },
      "outputs": [],
      "source": [
        "def plot_loss(history):\n",
        "  plt.plot(history.history['loss'], label='loss')\n",
        "  plt.plot(history.history['val_loss'], label='val_loss')\n",
        "  plt.ylim([0, 10])\n",
        "  plt.xlabel('Epoch')\n",
        "  plt.ylabel('Error [MPG]')\n",
        "  plt.legend()\n",
        "  plt.grid(True)"
      ]
    },
    {
      "cell_type": "markdown",
      "metadata": {
        "id": "fk81ixIgFcEU"
      },
      "source": [
        "Use `plot_loss(history)` provided to visualize the progression in loss function for training and validation data sets. "
      ]
    },
    {
      "cell_type": "code",
      "execution_count": 29,
      "metadata": {
        "colab": {
          "base_uri": "https://localhost:8080/",
          "height": 283
        },
        "id": "yYsQYrIZyqjz",
        "outputId": "0cf8a1e7-41a3-4fcc-b975-494f10e25582"
      },
      "outputs": [
        {
          "data": {
            "image/png": "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",
            "text/plain": [
              "<Figure size 432x288 with 1 Axes>"
            ]
          },
          "metadata": {
            "needs_background": "light"
          },
          "output_type": "display_data"
        }
      ],
      "source": [
        "# YOUR CODE HERE"
      ]
    },
    {
      "cell_type": "markdown",
      "metadata": {
        "id": "CMNrt8X2ebXd"
      },
      "source": [
        "7. Collect the results on the test set for later using [`Model.evaluate()`](https://www.tensorflow.org/api_docs/python/tf/keras/Model#evaluate)"
      ]
    },
    {
      "cell_type": "code",
      "execution_count": 30,
      "metadata": {
        "id": "kDZ8EvNYrDtx"
      },
      "outputs": [],
      "source": [
        "test_results = {}\n",
        "\n",
        "test_results['linear_model'] = # YOUR CODE HERE"
      ]
    },
    {
      "cell_type": "code",
      "execution_count": 31,
      "metadata": {
        "colab": {
          "base_uri": "https://localhost:8080/"
        },
        "id": "eh0trI_zGCT1",
        "outputId": "13a36931-1ddb-4233-eb50-bf420406e07c"
      },
      "outputs": [
        {
          "data": {
            "text/plain": [
              "{'linear_model': 2.508214235305786}"
            ]
          },
          "execution_count": 31,
          "metadata": {},
          "output_type": "execute_result"
        }
      ],
      "source": [
        "test_results"
      ]
    },
    {
      "cell_type": "markdown",
      "metadata": {
        "id": "SmjdzxKzEu1-"
      },
      "source": [
        "# Task 4. Regression with a deep neural network (DNN)"
      ]
    },
    {
      "cell_type": "markdown",
      "metadata": {
        "id": "DT_aHPsrzO1t"
      },
      "source": [
        "You just implemented a linear model for multiple inputs. Now, you are ready to implement multiple-input DNN models.\n",
        "\n",
        "The code is very similar except the model is expanded to include some \"hidden\" **non-linear** layers. The name \"hidden\" here just means not directly connected to the inputs or outputs."
      ]
    },
    {
      "cell_type": "markdown",
      "metadata": {
        "id": "6SWtkIjhrZwa"
      },
      "source": [
        "* The normalization layer, as before (with `normalizer` for a multiple-input model).\n",
        "* Two hidden, non-linear, [`Dense`](https://www.tensorflow.org/api_docs/python/tf/keras/layers/Dense) layers with the ReLU (`relu`) activation function nonlinearity. One way is to set parameter `activation` inside `Dense` Set the number of neurons at each layer to be 64. \n",
        "* A linear `Dense` single-output layer. "
      ]
    },
    {
      "cell_type": "markdown",
      "metadata": {
        "id": "CQ6btF_xJPpW"
      },
      "source": [
        "\n",
        "\n",
        "1. Include the model and `compile` method in the `build_and_compile_model` function below. "
      ]
    },
    {
      "cell_type": "code",
      "execution_count": 32,
      "metadata": {
        "id": "c26juK7ZG8j-"
      },
      "outputs": [],
      "source": [
        "def build_and_compile_model(norm):\n",
        "  model = tf.keras.Sequential # YOUR CODE HERE \n",
        "  model.compile(loss='mean_absolute_error',\n",
        "                optimizer=tf.keras.optimizers.Adam())\n",
        "  return model"
      ]
    },
    {
      "cell_type": "markdown",
      "metadata": {
        "id": "xvu9gtxTZR5V"
      },
      "source": [
        "2. Create a DNN model with `normalizer` (defined earlier) as the normalization layer:\n",
        "\n"
      ]
    },
    {
      "cell_type": "code",
      "execution_count": 33,
      "metadata": {
        "id": "cGbPb-PHGbhs"
      },
      "outputs": [],
      "source": [
        "dnn_model =  # YOUR CODE HERE"
      ]
    },
    {
      "cell_type": "markdown",
      "metadata": {
        "id": "Sj49Og4YGULr"
      },
      "source": [
        "3. Inspect the model using `Model.summary()`. This model has quite a few more trainable parameters than the linear models:"
      ]
    },
    {
      "cell_type": "code",
      "execution_count": 34,
      "metadata": {
        "colab": {
          "base_uri": "https://localhost:8080/"
        },
        "id": "ReAD0n6MsFK-",
        "outputId": "a0415bdb-56a2-4d2c-c97d-cfdb8f418b9f"
      },
      "outputs": [
        {
          "name": "stdout",
          "output_type": "stream",
          "text": [
            "Model: \"sequential_1\"\n",
            "_________________________________________________________________\n",
            " Layer (type)                Output Shape              Param #   \n",
            "=================================================================\n",
            " normalization (Normalizatio  (None, 9)                19        \n",
            " n)                                                              \n",
            "                                                                 \n",
            " dense_1 (Dense)             (None, 64)                640       \n",
            "                                                                 \n",
            " dense_2 (Dense)             (None, 64)                4160      \n",
            "                                                                 \n",
            " dense_3 (Dense)             (None, 1)                 65        \n",
            "                                                                 \n",
            "=================================================================\n",
            "Total params: 4,884\n",
            "Trainable params: 4,865\n",
            "Non-trainable params: 19\n",
            "_________________________________________________________________\n"
          ]
        }
      ],
      "source": [
        "# YOUR CODE HERE"
      ]
    },
    {
      "cell_type": "markdown",
      "metadata": {
        "id": "0-qWCsh6DlyH"
      },
      "source": [
        "4. Train the model with Keras `Model.fit`:"
      ]
    },
    {
      "cell_type": "code",
      "execution_count": 35,
      "metadata": {
        "colab": {
          "base_uri": "https://localhost:8080/"
        },
        "id": "sD7qHCmNIOY0",
        "outputId": "7c841737-74dd-46a3-9de5-34c01c55557b"
      },
      "outputs": [
        {
          "name": "stdout",
          "output_type": "stream",
          "text": [
            "CPU times: user 3.98 s, sys: 219 ms, total: 4.2 s\n",
            "Wall time: 3.83 s\n"
          ]
        }
      ],
      "source": [
        "%%time\n",
        "history = dnn_model.fit(\n",
        "    train_features,\n",
        "    train_labels,\n",
        "    validation_split=0.2,\n",
        "    verbose=0, epochs=100)"
      ]
    },
    {
      "cell_type": "markdown",
      "metadata": {
        "id": "dArGGxHxcKjN"
      },
      "source": [
        "5. Visualize the model's training progress using the stats stored in the history object. "
      ]
    },
    {
      "cell_type": "code",
      "execution_count": 36,
      "metadata": {
        "colab": {
          "base_uri": "https://localhost:8080/",
          "height": 283
        },
        "id": "NcF6UWjdCU8T",
        "outputId": "de9b3e3c-1708-40d0-f57d-2532cd2b3e48"
      },
      "outputs": [
        {
          "data": {
            "image/png": "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",
            "text/plain": [
              "<Figure size 432x288 with 1 Axes>"
            ]
          },
          "metadata": {
            "needs_background": "light"
          },
          "output_type": "display_data"
        }
      ],
      "source": [
        "plot_loss(history)"
      ]
    },
    {
      "cell_type": "markdown",
      "metadata": {
        "id": "lRIDHn59LTax"
      },
      "source": [
        "\n",
        "Do you think the DNN model is overfitting? What gives away? "
      ]
    },
    {
      "cell_type": "markdown",
      "metadata": {
        "id": "1GkjwtQ8LZ3W"
      },
      "source": [
        "  *YOUR ANSWER HERE*\n",
        "\n",
        "\n"
      ]
    },
    {
      "cell_type": "markdown",
      "metadata": {
        "id": "9dhMN7IUM12Q"
      },
      "source": [
        "6. Let's save the results for later comparison."
      ]
    },
    {
      "cell_type": "code",
      "execution_count": 37,
      "metadata": {
        "id": "bJjM0dU52XtN"
      },
      "outputs": [],
      "source": [
        "test_results['dnn_model'] = dnn_model.evaluate(test_features, test_labels, verbose=0)"
      ]
    },
    {
      "cell_type": "markdown",
      "metadata": {
        "id": "uiCucdPLfMkZ"
      },
      "source": [
        "# Task 5. Make predictions"
      ]
    },
    {
      "cell_type": "markdown",
      "metadata": {
        "id": "rDf1xebEfWBw"
      },
      "source": [
        "1. Since both models have been trained, we can review their test set performance:"
      ]
    },
    {
      "cell_type": "code",
      "execution_count": null,
      "metadata": {
        "colab": {
          "base_uri": "https://localhost:8080/",
          "height": 109
        },
        "id": "e5_ooufM5iH2",
        "outputId": "503945d9-d12c-48e3-a18e-d6ee71ca3887"
      },
      "outputs": [
        {
          "data": {
            "text/html": [
              "\n",
              "  <div id=\"df-81622802-130a-4b69-9fa3-0ea593a17ef1\">\n",
              "    <div class=\"colab-df-container\">\n",
              "      <div>\n",
              "<style scoped>\n",
              "    .dataframe tbody tr th:only-of-type {\n",
              "        vertical-align: middle;\n",
              "    }\n",
              "\n",
              "    .dataframe tbody tr th {\n",
              "        vertical-align: top;\n",
              "    }\n",
              "\n",
              "    .dataframe thead th {\n",
              "        text-align: right;\n",
              "    }\n",
              "</style>\n",
              "<table border=\"1\" class=\"dataframe\">\n",
              "  <thead>\n",
              "    <tr style=\"text-align: right;\">\n",
              "      <th></th>\n",
              "      <th>Mean absolute error [MPG]</th>\n",
              "    </tr>\n",
              "  </thead>\n",
              "  <tbody>\n",
              "    <tr>\n",
              "      <th>linear_model</th>\n",
              "      <td>2.531054</td>\n",
              "    </tr>\n",
              "    <tr>\n",
              "      <th>dnn_model</th>\n",
              "      <td>1.649145</td>\n",
              "    </tr>\n",
              "  </tbody>\n",
              "</table>\n",
              "</div>\n",
              "      <button class=\"colab-df-convert\" onclick=\"convertToInteractive('df-81622802-130a-4b69-9fa3-0ea593a17ef1')\"\n",
              "              title=\"Convert this dataframe to an interactive table.\"\n",
              "              style=\"display:none;\">\n",
              "        \n",
              "  <svg xmlns=\"http://www.w3.org/2000/svg\" height=\"24px\"viewBox=\"0 0 24 24\"\n",
              "       width=\"24px\">\n",
              "    <path d=\"M0 0h24v24H0V0z\" fill=\"none\"/>\n",
              "    <path d=\"M18.56 5.44l.94 2.06.94-2.06 2.06-.94-2.06-.94-.94-2.06-.94 2.06-2.06.94zm-11 1L8.5 8.5l.94-2.06 2.06-.94-2.06-.94L8.5 2.5l-.94 2.06-2.06.94zm10 10l.94 2.06.94-2.06 2.06-.94-2.06-.94-.94-2.06-.94 2.06-2.06.94z\"/><path d=\"M17.41 7.96l-1.37-1.37c-.4-.4-.92-.59-1.43-.59-.52 0-1.04.2-1.43.59L10.3 9.45l-7.72 7.72c-.78.78-.78 2.05 0 2.83L4 21.41c.39.39.9.59 1.41.59.51 0 1.02-.2 1.41-.59l7.78-7.78 2.81-2.81c.8-.78.8-2.07 0-2.86zM5.41 20L4 18.59l7.72-7.72 1.47 1.35L5.41 20z\"/>\n",
              "  </svg>\n",
              "      </button>\n",
              "      \n",
              "  <style>\n",
              "    .colab-df-container {\n",
              "      display:flex;\n",
              "      flex-wrap:wrap;\n",
              "      gap: 12px;\n",
              "    }\n",
              "\n",
              "    .colab-df-convert {\n",
              "      background-color: #E8F0FE;\n",
              "      border: none;\n",
              "      border-radius: 50%;\n",
              "      cursor: pointer;\n",
              "      display: none;\n",
              "      fill: #1967D2;\n",
              "      height: 32px;\n",
              "      padding: 0 0 0 0;\n",
              "      width: 32px;\n",
              "    }\n",
              "\n",
              "    .colab-df-convert:hover {\n",
              "      background-color: #E2EBFA;\n",
              "      box-shadow: 0px 1px 2px rgba(60, 64, 67, 0.3), 0px 1px 3px 1px rgba(60, 64, 67, 0.15);\n",
              "      fill: #174EA6;\n",
              "    }\n",
              "\n",
              "    [theme=dark] .colab-df-convert {\n",
              "      background-color: #3B4455;\n",
              "      fill: #D2E3FC;\n",
              "    }\n",
              "\n",
              "    [theme=dark] .colab-df-convert:hover {\n",
              "      background-color: #434B5C;\n",
              "      box-shadow: 0px 1px 3px 1px rgba(0, 0, 0, 0.15);\n",
              "      filter: drop-shadow(0px 1px 2px rgba(0, 0, 0, 0.3));\n",
              "      fill: #FFFFFF;\n",
              "    }\n",
              "  </style>\n",
              "\n",
              "      <script>\n",
              "        const buttonEl =\n",
              "          document.querySelector('#df-81622802-130a-4b69-9fa3-0ea593a17ef1 button.colab-df-convert');\n",
              "        buttonEl.style.display =\n",
              "          google.colab.kernel.accessAllowed ? 'block' : 'none';\n",
              "\n",
              "        async function convertToInteractive(key) {\n",
              "          const element = document.querySelector('#df-81622802-130a-4b69-9fa3-0ea593a17ef1');\n",
              "          const dataTable =\n",
              "            await google.colab.kernel.invokeFunction('convertToInteractive',\n",
              "                                                     [key], {});\n",
              "          if (!dataTable) return;\n",
              "\n",
              "          const docLinkHtml = 'Like what you see? Visit the ' +\n",
              "            '<a target=\"_blank\" href=https://colab.research.google.com/notebooks/data_table.ipynb>data table notebook</a>'\n",
              "            + ' to learn more about interactive tables.';\n",
              "          element.innerHTML = '';\n",
              "          dataTable['output_type'] = 'display_data';\n",
              "          await google.colab.output.renderOutput(dataTable, element);\n",
              "          const docLink = document.createElement('div');\n",
              "          docLink.innerHTML = docLinkHtml;\n",
              "          element.appendChild(docLink);\n",
              "        }\n",
              "      </script>\n",
              "    </div>\n",
              "  </div>\n",
              "  "
            ],
            "text/plain": [
              "              Mean absolute error [MPG]\n",
              "linear_model                   2.531054\n",
              "dnn_model                      1.649145"
            ]
          },
          "execution_count": 41,
          "metadata": {},
          "output_type": "execute_result"
        }
      ],
      "source": [
        "pd.DataFrame(test_results, index=['Mean absolute error [MPG]']).T"
      ]
    },
    {
      "cell_type": "markdown",
      "metadata": {
        "id": "DABIVzsCf-QI"
      },
      "source": [
        "These results match the validation error observed during training."
      ]
    },
    {
      "cell_type": "markdown",
      "metadata": {
        "id": "ft603OzXuEZC"
      },
      "source": [
        "2. We can now make predictions with the `dnn_model` on the test set using Keras `Model.predict` and review the loss. Use `.flatten()`."
      ]
    },
    {
      "cell_type": "code",
      "execution_count": null,
      "metadata": {
        "colab": {
          "base_uri": "https://localhost:8080/",
          "height": 283
        },
        "id": "Xe7RXH3N3CWU",
        "outputId": "5b08ebdc-a24b-4295-b7b8-53929e807a31"
      },
      "outputs": [
        {
          "data": {
            "image/png": "iVBORw0KGgoAAAANSUhEUgAAAQ8AAAEKCAYAAAAM4tCNAAAABHNCSVQICAgIfAhkiAAAAAlwSFlzAAALEgAACxIB0t1+/AAAADh0RVh0U29mdHdhcmUAbWF0cGxvdGxpYiB2ZXJzaW9uMy4yLjIsIGh0dHA6Ly9tYXRwbG90bGliLm9yZy+WH4yJAAAgAElEQVR4nO3de5hcdZ3n8fenu9MkIUACBIwNgXBZsnGABFoEYVmJi4goRGQBx9lBHsYwrriuMhnDyCg+uo9RvM3FHQ3gEEeBBBNCDIsRQ8QLAgbCLQEEISgNIQHTaSLdoS/f/eOcaqurT1Wdqq5TdU719/U8/XSdU7dfJ12f/p3fVWaGc85VqqXRBXDOZZOHh3OuKh4ezrmqeHg456ri4eGcq4qHh3OuKm1JvrikrcBrwCAwYGadkvYHlgOHA1uBC81sZ5LlcM7VXj1qHmeY2Vwz6wyPFwPrzexoYH147JzLmEZctpwHLAtvLwMWNKAMzrkxUpIjTCU9B+wEDPiOmS2V1G1mU8P7BezMHRc8dyGwEGDvvfc+cfbs2YmV07nxamDQePaV3bz2wm9fMbPplTw30TYP4DQz65J0EHCXpCfz7zQzkxSZXma2FFgK0NnZaRs3bky4qM6NL9t7+rj4uvt4Y1cfT3zh7OcrfX6ily1m1hV+3w7cBpwEvCxpBkD4fXuSZXDOjZYLjm27+rjx0pOqeo3EwkPS3pL2yd0G3gU8DqwBLgkfdglwe1JlcM6NVhgcJ83av6rXSfKy5WDgtqBZgzbgJjP7saTfACskXQY8D1yYYBmcc3lqFRyQYHiY2bPA8RHnXwXemdT7Ouei1TI4wEeYOjcu1Do4wMPDuaaXRHCAh4dzTS2p4AAPD+eaVpLBAR4ezjWlpIMDPDycazr1CA7w8HCuqdQrOMDDw7mmUc/gAA8P55pCvYMDPDycy7xGBAd4eDiXaY0KDvDwcC6zGhkc4OHhXCY1OjjAw8O5zElDcICHh3OZkpbgAA8P5zIjTcEBHh7OZULaggM8PJxLvTQGB3h4OJdqaQ0O8PBwLrXSHBzg4eFcKqU9OMDDw7nUyUJwgIeHc6mSleAADw/nUiNLwQEeHs6lQtaCAzw8nGu4LAYHeHg411BZDQ7w8HCuYbIcHODh4VxDZD04wMPDubprhuAADw/n6qpZggM8PJyrm2YKDvDwcK4umi04wMPDucQ1Y3CAh4dziWrW4IA6hIekVkmbJK0Nj2dJul/SM5KWS2pPugzONUIzBwfUp+bxCeCJvOMvA98ws6OAncBldSiDc3XV7MEBCYeHpEOAc4Drw2MB84Efhg9ZBixIsgzO1dt4CA6AtoRf/5vA3wP7hMcHAN1mNhAevwB0RD1R0kJgIcDMmTMTLqZztVHL4Fi9qYtr1z3Fi929vHnqJBaddQwL5kV+XBoisZqHpPcC283swWqeb2ZLzazTzDqnT59e49I5V3u1Do6rVj1GV3cvBnR193LVqsdYvamrdgUeoyRrHqcC50p6DzAR2Bf4J2CqpLaw9nEIkJ5/DeeqsHpTF0vufJJtPX0IuGL+UWO+VLl23VP09g+OONfbP8i1655KTe0jsZqHmV1lZoeY2eHAxcDdZvYhYANwQfiwS4DbkyqDc0lbvamLxSsfZVtPHwAGXP+L58ZcQ3ixu7ei843QiHEenwY+JekZgjaQGxpQBudqYsmdT9I3MDTiXK6GMBZvnjqpovONUJfwMLOfmdl7w9vPmtlJZnaUmf13M9tTjzI4V2vbe/qGaxyFxlpDWHTWMUya0Dri3KQJrSw665gxvW4tJd3b4lxTyjWOiuBSpdBYawi5do0097Z4eLimUM9uzfxelSvmH8X1v3huRONmrWoIC+Z1pCosCnl4uMzLdWvmPsC5bk2g5h++qO7YI6dPSXUNISkeHi7z6tWtWWwcR9prCEnxWbUu8+rRrTlehpxXwmseLvPePHUSXRFBUWmjZbF2Ew+OaB4eLvMWnXXMiDYPqLzRsli7ya7efpb9emviwZH2eSxRPDxc5tWiW7NYu8kX1m6hva0l8eCoV4NvLXl4uKYQp9Gy1F/3Yu0jA0PGTQlfqmRhHksUbzB140LULNVPLn+Yq1cHf+GLtY8cOKU98TaOLMxjieLh4caFqL/uBvzgvt+zelNX5HDw9tYWrj5nTuJly8I8ligeHm5cKPZX3GD48mDx2bNpaxEQ1Di+csFxdblsyMI8lije5uGaTlTbRrHuXAiCZXtPH8t+vZX2tpbE2zgKZWEeSxSZRU3rSZfOzk7buHFjo4vhMqCw5wKCv+InzNyPX/3uj5HPedO+E5m8VyvbdvVx2WmzWPVQV6Y+xLUg6UEz66zkOV7zcE2lWM/Ffc/uLPqcIbPh4Mif5JaVLtNG8TYP11SKtW0Mlqhh794zwI2XnsSqh7qKdpm60Tw8XFMp1kPRKkWeFwwPAMtql2mjlLxskfTPMV6jx8yurlF5nBuTYkPVi7V5nDnnoOHG0VrNkRkvytU8zgMeLPP1gSQL6FwlFszr4EvnH0vH1EkI6Jg6iS+dfyxbX42uPWx+8bXh21ntMm2Ucg2m3zCzZaUeIGlaDcvj3JgVdn1eu+6pkt20xZ43nnpbqlEyPMzsm+VeIM5jnKunqIlmxRRekozXhX2qUa7N4y3AkWa2Jjz+BrBfePe/mtlDCZfPuYpFdddG8UuSsSnX5rEEeCXv+CzgDoKNmz6bVKGcG4tSvSOFbSFey6heuTaPGWZ2b95xj5mtBJB0eXLFcq4y+UPSW6TIcR0dUyfxq8XzG1C65lQuPPbJPzCzk/MOD6p9cZyrXGEbR1Rw+CVK7ZW7bHlR0tsKT0o6GXgxmSI5V5lybRzTJk/wS5QElKt5fBpYLulGINc4eiLBBtUXJVgu54aVW9+z3AjQye1tHhwJKNdV+0BY87gC+HB4ejNwspm9nHDZ3Di3elMX16zZTHdv//C5qMlqpabbgw8vT0qcWbVvBh4FbjazJxIuj3NA9NT6nML1PReddQyLVz46arf6nGLDy7O4YnmalGzzkPRZYAXBEPQ7JH2kLqVy4165doz82sTbjzyAfSdNiHxcsYbSqDVNr1r1GKs3dY257ONFuZrHRcBcM3td0gHAj4Hrki+WG+/KXWq0SMxafAcH7zuRITN27xlgxeWnDA9Hj6pNlOvOzcKK5WlSLjz2mNnrAGb2qiSfwu8St3pTV9GxGjm5+7b19AHw8flHjdg7Nuo1y3XngrePVKJceBwhaU14W8CReceY2bmJlcyNG/k1gqmTJ7C7b6Doh1uCqLu+f9/zJZcPjDtk3affx1cuPM4rOP5qUgVx49PqTV1ceesjDA4FibDz9f7Ix7VKfO3C4/nk8ocj79/5ev/wc6N6ZOLUKHwgWWVKXoaY2T2lvko9V9JESQ9IekTSZkmfD8/PknS/pGckLZfUXssfyGXLZ257bDg4ShkyY8G8Dg7ed2Ks1y1cPrDUCmM+16U65WbVPlrqfjM7rsTde4D5ZrZb0gTgl5LuBD5FsE7ILZK+DVwG/FuF5XZN4k9vlL+UgODDv72nj6EKVvvPr20UW2HMA6N65S5bhgj2xbkJ+BEQuzXJgj0ddoeHE8IvA+YDfxmeXwZcg4eHK2FCi1h4+hFcfN197N4zEPt5+bUNX+in9sqNMJ0raTbwQYIA2RJ+/4mZlf1flNRKsFThUcC3gN8B3XnPfQGI/N+TtBBYCDBz5sxYP4zLHhH8RSnFML614ZnhVc4/ufzhkiNKIbr9whf6qa2yXa9m9qSZfc7MTiCofXwP+GScFzezQTObCxwCnATMjlswM1tqZp1m1jl9+vS4T3MZ86GTy/9hGBiCHa/tGV7lPGqt0QktYtrkCd5+UUdlh6dL6gAuBt4P7CQIjtsqeRMz65a0ATgFmCqpLax9HAL4kL5x7IsLjuW5HbuL7uaWYzBqHIdfgjRWuQbTewjW9FgBXAq8Gt7VLml/Myv6Py5pOtAfBsck4EzgywSrkF0A3EIwO/f2Mf8ULrNWb+riod/vKvu4Dl9rNHXK1TwOIwj9ywnbH0K5S9UjSjx3BrAsbPdoAVaY2VpJW4BbJH0R2ATcUG3hXfbFGbzl4y/SqVyD6eHVvrCZPQrMizj/LEH7h3NlB2+1SnzgRK9lpFG5WbVvKvcCcR7jXDHlhoMPmrHywS6f7ZpC5Xpb/l+M14jzGOdYvamLU5fczazFd3DqkrtZvakrsuekkG82nU7lwuN4ST0lvl4DDq5HQV22FVs/A2Dx2bNpa4neiDrHZ7umT7k2j9J/EpyLKaphtLd/kCV3PsnkvVppb2vhphIDwHy2a/r4+hyuLorVHLb19LFtV1/JAWDe25JOHh6uLorVHATDwQHFd7n33pb0ibMAsnNVyy3009XdGzmP5Yq8FcByfABYNsQKD0lHAi+Y2R5J7wCOA75nZt1JFs6lU9xVxwuX/ssPDhEEx5Xv8suRrIp72bISGJR0FLAUOJRgdq0bZypZdbzY6FEByy8/xYMj4+KGx1A4ke39wL+Y2SKC4edunCnWa3LlikdGBUixRtL8SW4uu+K2efRL+iDBRLb3heeiN8pwTa1YIAyaxd7JrWPqpFGLHpvBrt5+nyGbIXFrHpcSTKf/P2b2nKRZwH8kVyxXS1EjO6tVarxF4UjQRWcdw8S2kb9ikya0csbs6SMufXa+3k93b79vvpQxscLDzLaY2f8ys5vD4+fM7MvJFs3VQq13Ris3nDxqJ7fc2NFct+uGJ3eUnEnrw9GzIW5vy6kEa40eFj5HBMuUlpqS71KgWBtFtTuj5Z5z5YpHIvdWydVMtvf0Da85uvzyU0a0cRTbPiGfD0dPv7htHjcQrCD2IBBvuWuXCsU+hGP5cOYCJGo18kVnHTMcHPkjR/OV29U+9xiXbnHbPHaZ2Z1mtt3MXs19JVoyVxPFPoRj/XAWGwm6q7efty+5m2d3/InJ7a2RIVXu0seHo2dD3JrHBknXAqsI9mMBwMweSqRUrmaK7VdSiw9n4UjQZfdu5Zo1m4cHg72y+41RPTD5t69Zs5nu3pE7xAl88Z+MiBsebwu/d+ady+3B4lKsXosFb+/p4wtrt4wafl6sfWXBvA6uXffUqPAwYMOTO2paNpeMWOFhZmckXRCXnKTniuTaOAaKbBtZrH0jifYYVz+x2jwk7Sfp65I2hl9fk7Rf0oVz6ZffOFrqlylqjElS7TGuPuI2mH4XeA24MPzqAf49qUK5bFh279YRjaNDJR4bNcbE1+7INlmMjYMlPRzu/FbyXFI6Oztt48aN9XgrF1Nh4yjE2zoypyNsewHfvCkNJD1oZp3lH/lncRtMeyWdZma/DN/oVCrY9No1l2KNo0b8AMnVQr50/rH8arG3u2dR3MuWjwLfkrRV0vPAvwJ/m1yxXFqVaxw1GB770arSixr7MPRsi9vb8jDBSur7hsc9iZbKpVJ+4+iBU9p5Zfcbox7TMXXScE2icDGgKN6zkl3l9qr9KzP7vqRPFZwHwMy+nmDZXA3FXf2rmMIh5y+Glx2lBp/ljzEp1l3rPSvZVa7msXf4fZ+I++K2jbkGK6wB5O+ZEidASs1VKRdIuTEmUbUQ71nJtnL7tnwnvPlTM/tV/n1ho6nLgHIza0vVSpbdu5UvrN3CwJBx4JT2EZcZlQw+q9dIV1c/cXtb/gU4IcY5l0KlRnKWqpXs6u2PNVclLl8VvbmUa/M4BXg7ML2g3WNfwHeTy4hiU+DfPHVSyZ3cXtm9J/ZcFTf+lKt5tANTwsflt3v0ABckVSg3NoWXIWfMns7KB7si2xuKLcyzraev6Ot7D4mD8m0e9wD3SLrRzJ6vU5ncGERdhqx8sIsPnNjBhid3jGpvKNUT0gKRQ869h8RB/EFi10uamjuQNE3SuoTK5Mag2GXIzff/IbKhstjCPK2KDg7vIXE5cRtMD8zfHc7Mdko6KKEyuTEotTUCRHfT7tXWMiJwprS3svuN0QO7WqUR+8aOdeyIy7a44TEkaaaZ/R5A0mH4OI9UirM+aP6w8MKxF+2tLZHBATBkNiI4xjJ2xGVf3MuWzwC/lPQfkr4P/By4qtQTJB0qaYOkLZI2S/pEeH5/SXdJejr8Pm1sP4LLV2590JwXu3sjL3HeGBwqOiclv62j1NgRNz7E3bflxwRjOpYDtwAnmlm5No8B4EozmwOcDHxM0hxgMbDezI4G1ofHrkYKFyYuFQTFaiiDZmXX2fBVwFzJ8JA0O/x+AjATeDH8mhmeK8rMXsotkGxmrwFPAB3AecCy8GHLgAVj+QHcaAvmdfCrxfN5bsk5fO3C4yODYOHpR9DWEh0suZXQC1dGz78c8VXAXLk2jyuBjwBfi7gv9gLIkg4H5gH3Aweb2UvhXduAg4s8ZyGwEGDmzJlx3saFVm/qGrEy+V5tLcPrbLRKnH3sm/jWhmcip9XnahjlRoMmuSq7y4ZYK4mN6Q2kKcA9BPvcrpLUbWb53b47zaxku4evJBbf6k1dLLr1EfqLrLdRyrTJE/jc+94yKjSK9ap4b0vzqPlKYpLOL3W/ma0q8/wJwErgB3mPfVnSDDN7SdIMYHslBXalXbvuqaqCA2Bye1tkcJTqVfGwGL/KXba8L/x+EMEcl7vD4zOAewk2gYqkYNGPG4AnCtb9WANcAiwJv99eebFdMWNpsIx6bq33unXNo9zw9EsBJP0EmJNrqwhrDDeWee1Tgf8BPCYpN4HiHwhCY4Wky4DnCVZjd2OQf/nQIkVuQB1HVGOn96q4YuIOEjs0r5ET4GWC3peiwsWSiy1i+c6Y7+tKWL2pi8//aDM7X//zrmvVBkexxs5SM3Ld+BZ3kNh6SeskfVjSh4E7gJ8mVyxXTq4tIj84KpUbA9IqFd0f1vdWccXEXQD5CknvB04PTy01s9uSK5YrVNiz8ac9AyUXFi5H/LmWMmjGyge76Dxs/8hlBMFXAHOjxe6qDeezHG1mP5U0GWgNB38lbrx31cZZhbwSxfZWyV/53I0v1XTVxt2r9iPAD4HcmqYdwOrKiueqFdXjMRbF/lx4I6irRNw2j48R9J70AJjZ0wTdt64Oavmh7pg6iQ4fWu5qIG547DGz4R1+JLXhU/LrptiHWgpGhQp4074TOWifvUq+Tq6h0xtBXS3EDY97JP0DMEnSmcCtwI+SK5bLV2yavRn09Q9xzblvYfJerezeM8CBU9ojXyN/IZ/CmbdRE9+cKydWg2k4WvRvgHcRtLetA663pCfGhMZ7gykEjaZXrngkchxHW4tob2vhstNm8f37nh/VfTtpQquHgyup5nNbwhdtBTab2WzgumoL58ZmwbyOoiudDwwZHz1tFtf/4rlRDatTJ03gmnNHT3ZzbqzKhoeZDUp6Kn8ZQlcbcWalxhl6fuCUdlY91BXZI7P3XqMnuzlXC3GHp08DNkt6APhT7qSZnZtIqcaBOGuAFj4mKjjaW1u4+pw5RWsl3v3qkhI3PP4x0VKMQ3Fmq5Yb33HglHauPmdOyf1XvPvVJaXceh4Tgb8FjgIeA24ws4F6FKzZxZmtWqrWsOLyU0bsVu8re7l6K9dVuwzoJAiOs4lejtBVYerkCWXP7zcp+jFT2ltHBAeMXvjYu19d0spdtswxs2MBJN0APJB8kcaHYp3cff2DnLrkbl7s7qXIwudMaIvOfF/Zy9VTuZrH8IABv1yprV290VPpe/uH6OruxYBiqwl2j2EavnO1Uq7mcbyknvC2CEaY9oS3zcz2TbR0TSzOzm6lnutco5WseZhZq5ntG37tY2Ztebc9OMYg7s5uhbwR1KVF3K5aV2NRi+y8/sZA5MpgrRJDZr4Qj0sVD48UOee4Gfxw4wv0DQwNnyucl7J6U9dwg6qHiWskD48GiRph+sONL4zoYSlcW9R3pndpEndKvquxqNGjfQND9Pb/udaRW1t09aauos/xneldo3jNo47yJ7nFXcsgf8i676Hi0sRrHnWSu+ToqiA4cnJdur4zvUsTD486Gcsixrn9VXz5QJcmftlSJ2O5tMhNxfc9VFyaeHjUyVhGlOavdu7zV1xa+GVLnfiIUtdsvOZRpThLCOZbMK+DXb39fGHtFgaGjCl7tfL6nkGG8h4zoUVcdNKhbHhyh1+WuNTz8KhC1GCtRT98hGvWbGZXb3/kh357Tx/Lfr2V9rYWbrr0JE6atX/FAeRcmnh4VCGq56R/0OgOp9kXjvzc3tPHxdfdx7ZdfdwYBkfuPg8Ll1Xe5lGFOD0nucFdxYLDuazz8KhC3EFZXd29HhyuaXl4VCFuz0lbizw4XNNKLDwkfVfSdkmP553bX9Jdkp4Ov09L6v2TVLjY8LTJE5jQMnLBUQEtLfLgcE0r1l61Vb2wdDqwG/iemf1FeO4rwB/NbImkxcA0M/t0udfKwl61uZ6Tru5e2lpES4v4/mVv8+BwmVDNXrWJ1TzM7OfAHwtOn0ewnQPh9wVJvX+9LZjXwW3/8+0cMX1v2ttaPDhc06t3m8fBZvZSeHsbcHCxB0paKGmjpI07duyoT+nGwHtV3HjTsAZTC66Xil4zmdlSM+s0s87p06fXsWSV8+Bw41G9w+NlSTMAwu/b6/z+NefB4careofHGuCS8PYlwO11fv+a8uBw41mSXbU3A78GjpH0gqTLgCXAmZKeBv5beJxJHhxuvEtsbouZfbDIXe9M6j3rxYPDOR9hWjEPDucCHh4V8OBw7s88PGLy4HBuJA+PGDw4nBvNw6MMDw7nonl4lODB4VxxHh5FeHA4V5qHRwQPDufK8/Ao4MHhXDweHnk8OJyLz8Mj5MHhXGU8PPDgcK4a4z48PDicq864Dg8PDueqN27Dw4PDubEZl+HhweHc2I278PDgcK42xlV4eHA4VzvjJjw8OJyrrXERHh4cztVe04eHB4dzyWjq8PDgcC45TRseHhzOJaspw8ODw7nkNV14eHA4Vx9NFR4eHM7VT9OEhweHc/XVFOHhweFc/WU+PDw4nGuMTIeHB4dzjZPZ8PDgcK6xMhkeHhzONV7mwsODw7l0yFR4eHA4lx6ZCQ8PDufSpSHhIendkp6S9IykxeUePzBoHhzOpUzdw0NSK/At4GxgDvBBSXNKPefZV3Z7cDiXMo2oeZwEPGNmz5rZG8AtwHmlntA/aB4czqVMWwPeswP4Q97xC8DbCh8kaSGwMDzc87YjDni8DmWrhQOBVxpdiApkqbxZKitkq7zHVPqERoRHLGa2FFgKIGmjmXU2uEixZKmskK3yZqmskK3yStpY6XMacdnSBRyad3xIeM45lyGNCI/fAEdLmiWpHbgYWNOAcjjnxqDuly1mNiDpCmAd0Ap818w2l3na0uRLVjNZKitkq7xZKitkq7wVl1VmlkRBnHNNLjMjTJ1z6eLh4ZyrSqrDo9Jh7PUm6buStkt6PO/c/pLukvR0+H1aI8uYI+lQSRskbZG0WdInwvNpLe9ESQ9IeiQs7+fD87Mk3R/+TiwPG91TQVKrpE2S1obHaS7rVkmPSXo4101b6e9CasOjmmHsDXAj8O6Cc4uB9WZ2NLA+PE6DAeBKM5sDnAx8LPz3TGt59wDzzex4YC7wbkknA18GvmFmRwE7gcsaWMZCnwCeyDtOc1kBzjCzuXljUSr7XTCzVH4BpwDr8o6vAq5qdLkiynk48Hje8VPAjPD2DOCpRpexSLlvB87MQnmBycBDBCORXwHaon5HGlzGQ8IP3HxgLaC0ljUsz1bgwIJzFf0upLbmQfQw9o4GlaUSB5vZS+HtbcDBjSxMFEmHA/OA+0lxecPLgIeB7cBdwO+AbjMbCB+Spt+JbwJ/DwyFxweQ3rICGPATSQ+GU0Ggwt+F1A5PbwZmZpJS1RcuaQqwEvjfZtYjafi+tJXXzAaBuZKmArcBsxtcpEiS3gtsN7MHJb2j0eWJ6TQz65J0EHCXpCfz74zzu5DmmkdWh7G/LGkGQPh9e4PLM0zSBILg+IGZrQpPp7a8OWbWDWwgqPpPlZT7o5eW34lTgXMlbSWYJT4f+CfSWVYAzKwr/L6dIJhPosLfhTSHR1aHsa8BLglvX0LQttBwCqoYNwBPmNnX8+5Ka3mnhzUOJE0iaJ95giBELggflorymtlVZnaImR1O8Ht6t5l9iBSWFUDS3pL2yd0G3gU8TqW/C41uuCnTqPMe4LcE17qfaXR5Isp3M/AS0E9wTXsZwbXueuBp4KfA/o0uZ1jW0wiucx8FHg6/3pPi8h4HbArL+zjw2fD8EcADwDPArcBejS5rQbnfAaxNc1nDcj0Sfm3OfbYq/V3w4enOuaqk+bLFOZdiHh7Ouap4eDjnquLh4ZyrioeHc64qHh7Ouap4eKScpAPCadMPS9omqSvveMxTvCV9TtKXCs7NlfREiedcI+nvxvreJV4/N128Mzz+maTfK28svaTVknaHtw+X1Bv+m2yR9G1JLeF9R0taK+l34TyODZJOD++7KJwuvzapn6WZeXiknJm9asG06bnAtwmmeM8Nv97IG/5crZuBiwrOXRyeb6QzzCx/O4BugmHghCNPZxQ8/nfhv9FxBEs4LJA0EbgDWGpmR5rZicDHCQZJYWbLgb9J9sdoXh4eGSTpxvCv6/3AVwprApIeD2fOIumvwkV1Hpb0nXCdlGFm9ltgp6T8jbcuBG6W9BFJvwkX5FkpaXJEWX6WV0M4MJzfkZsRe234/EclXR6enyHp52F5Hpf0X2L+2LcQhBrA+cCqqAdZMIv1XuAo4EPAr81sTd79j5vZjTHf05Xg4ZFdhwBvN7NPFXuApP9MUKs4NfyrPEjwgSp0M+EHM1xw549m9jSwyszeasGCPE9Q2WI2lwG7zOytwFuBj0iaBfwlwboWc4HjCYbJx7EeOD0Mv4uB5VEPCgPuncBjwFsI1gFxCfAp+dl1qwVT1kt5J3Ai8JuwuWAS0TMllwP3SrqSkZcsfyHpi8BUYArBdhlxvQs4TlJuYth+wNEEEx6/G87wXW1mccNjEPhlWL5JZrY1fzkB4Mhw7Q8DbjezOyWdmf8ASbeFZfitmZ1fwc/iInh4ZNef8m4PMLIWOTH8LmCZmV1V6oXM7A+SngP+K/ABgqnvECyzuMDMHpH0YYJJX4Xy33ti3nkBHzezUYETNlieA9wo6etm9r1S5T1q83IAAAFASURBVMtzC8H08Wsi7su1eeTbDJyeOzCz94eXWF+N+X6uBL9saQ5bgRMAJJ0AzArPrwcuCBd8yS1we1iR17gZ+AbwrJm9EJ7bB3gprCVEXe7k3vvE8PYFeefXAR8Nn4uk/xROBT8MeNnMrgOuz5U7pl8AXyJ+Y+5NwKmSzs07N6rdxlXHax7NYSXw15I2Eywt+FsAM9si6WqC5eZaCJYO+BjwfMRr3Ar8M0FvRM4/hq+3I/y+T8TzvgqsULCU3R15568nWN/1obCLdQewgKD2skhSP7Ab+Ou4P6QFU8Bj1xrMrFfBKl9fl/RN4GXgNeCLcV/DFedT8l3qhD02nWb2Sh3e6x3A35nZe5N+r2bjly0ujXYA63NdwEmRdBHwfwm2RXAV8pqHc64qXvNwzlXFw8M5VxUPD+dcVTw8nHNV+f8n48GB+HXOGwAAAABJRU5ErkJggg==",
            "text/plain": [
              "<Figure size 432x288 with 1 Axes>"
            ]
          },
          "metadata": {
            "needs_background": "light"
          },
          "output_type": "display_data"
        }
      ],
      "source": [
        "test_predictions = # YOUR CODE HERE\n",
        "\n",
        "a = plt.axes(aspect='equal')\n",
        "plt.scatter(test_labels, test_predictions)\n",
        "plt.xlabel('True Values [MPG]')\n",
        "plt.ylabel('Predictions [MPG]')\n",
        "lims = [0, 50]\n",
        "plt.xlim(lims)\n",
        "plt.ylim(lims)\n",
        "_ = plt.plot(lims, lims)\n"
      ]
    },
    {
      "cell_type": "markdown",
      "metadata": {
        "id": "19wyogbOSU5t"
      },
      "source": [
        "3. It appears that the model predicts reasonably well. Now, check the error distribution:"
      ]
    },
    {
      "cell_type": "code",
      "execution_count": null,
      "metadata": {
        "colab": {
          "base_uri": "https://localhost:8080/",
          "height": 278
        },
        "id": "f-OHX4DiXd8x",
        "outputId": "007fbd9d-d29a-4fee-ffc9-1727851b0252"
      },
      "outputs": [
        {
          "data": {
            "image/png": "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",
            "text/plain": [
              "<Figure size 432x288 with 1 Axes>"
            ]
          },
          "metadata": {
            "needs_background": "light"
          },
          "output_type": "display_data"
        }
      ],
      "source": [
        "error = # YOUR CODE HERE\n",
        "plt.hist(error, bins=25)\n",
        "plt.xlabel('Prediction Error [MPG]')\n",
        "_ = plt.ylabel('Count')"
      ]
    },
    {
      "cell_type": "markdown",
      "metadata": {
        "id": "KSyaHUfDT-mZ"
      },
      "source": [
        "4. Save it for later use with `Model.save`:"
      ]
    },
    {
      "cell_type": "code",
      "execution_count": null,
      "metadata": {
        "colab": {
          "base_uri": "https://localhost:8080/"
        },
        "id": "4-WwLlmfT-mb",
        "outputId": "1620fdfd-de57-459d-c1ed-5ede3abef18f"
      },
      "outputs": [
        {
          "name": "stdout",
          "output_type": "stream",
          "text": [
            "INFO:tensorflow:Assets written to: dnn_model/assets\n"
          ]
        }
      ],
      "source": [
        "dnn_model.save('dnn_model')"
      ]
    },
    {
      "cell_type": "markdown",
      "metadata": {
        "id": "Benlnl8UT-me"
      },
      "source": [
        "5. Reload the model with `Model.load_model`; it gives identical output:"
      ]
    },
    {
      "cell_type": "code",
      "execution_count": null,
      "metadata": {
        "id": "dyyyj2zVT-mf"
      },
      "outputs": [],
      "source": [
        "reloaded = # YOUR CODE HERE\n",
        "\n",
        "test_results['reloaded'] = reloaded.evaluate(\n",
        "    test_features, test_labels, verbose=0)"
      ]
    },
    {
      "cell_type": "code",
      "execution_count": null,
      "metadata": {
        "colab": {
          "base_uri": "https://localhost:8080/",
          "height": 140
        },
        "id": "f_GchJ2tg-2o",
        "outputId": "9e9fa251-163a-4667-9e48-c5b88b637b7f"
      },
      "outputs": [
        {
          "data": {
            "text/html": [
              "\n",
              "  <div id=\"df-a5ac99e1-5baa-4be2-804f-0e2aff9170db\">\n",
              "    <div class=\"colab-df-container\">\n",
              "      <div>\n",
              "<style scoped>\n",
              "    .dataframe tbody tr th:only-of-type {\n",
              "        vertical-align: middle;\n",
              "    }\n",
              "\n",
              "    .dataframe tbody tr th {\n",
              "        vertical-align: top;\n",
              "    }\n",
              "\n",
              "    .dataframe thead th {\n",
              "        text-align: right;\n",
              "    }\n",
              "</style>\n",
              "<table border=\"1\" class=\"dataframe\">\n",
              "  <thead>\n",
              "    <tr style=\"text-align: right;\">\n",
              "      <th></th>\n",
              "      <th>Mean absolute error [MPG]</th>\n",
              "    </tr>\n",
              "  </thead>\n",
              "  <tbody>\n",
              "    <tr>\n",
              "      <th>linear_model</th>\n",
              "      <td>2.531054</td>\n",
              "    </tr>\n",
              "    <tr>\n",
              "      <th>dnn_model</th>\n",
              "      <td>1.649145</td>\n",
              "    </tr>\n",
              "    <tr>\n",
              "      <th>reloaded</th>\n",
              "      <td>1.649145</td>\n",
              "    </tr>\n",
              "  </tbody>\n",
              "</table>\n",
              "</div>\n",
              "      <button class=\"colab-df-convert\" onclick=\"convertToInteractive('df-a5ac99e1-5baa-4be2-804f-0e2aff9170db')\"\n",
              "              title=\"Convert this dataframe to an interactive table.\"\n",
              "              style=\"display:none;\">\n",
              "        \n",
              "  <svg xmlns=\"http://www.w3.org/2000/svg\" height=\"24px\"viewBox=\"0 0 24 24\"\n",
              "       width=\"24px\">\n",
              "    <path d=\"M0 0h24v24H0V0z\" fill=\"none\"/>\n",
              "    <path d=\"M18.56 5.44l.94 2.06.94-2.06 2.06-.94-2.06-.94-.94-2.06-.94 2.06-2.06.94zm-11 1L8.5 8.5l.94-2.06 2.06-.94-2.06-.94L8.5 2.5l-.94 2.06-2.06.94zm10 10l.94 2.06.94-2.06 2.06-.94-2.06-.94-.94-2.06-.94 2.06-2.06.94z\"/><path d=\"M17.41 7.96l-1.37-1.37c-.4-.4-.92-.59-1.43-.59-.52 0-1.04.2-1.43.59L10.3 9.45l-7.72 7.72c-.78.78-.78 2.05 0 2.83L4 21.41c.39.39.9.59 1.41.59.51 0 1.02-.2 1.41-.59l7.78-7.78 2.81-2.81c.8-.78.8-2.07 0-2.86zM5.41 20L4 18.59l7.72-7.72 1.47 1.35L5.41 20z\"/>\n",
              "  </svg>\n",
              "      </button>\n",
              "      \n",
              "  <style>\n",
              "    .colab-df-container {\n",
              "      display:flex;\n",
              "      flex-wrap:wrap;\n",
              "      gap: 12px;\n",
              "    }\n",
              "\n",
              "    .colab-df-convert {\n",
              "      background-color: #E8F0FE;\n",
              "      border: none;\n",
              "      border-radius: 50%;\n",
              "      cursor: pointer;\n",
              "      display: none;\n",
              "      fill: #1967D2;\n",
              "      height: 32px;\n",
              "      padding: 0 0 0 0;\n",
              "      width: 32px;\n",
              "    }\n",
              "\n",
              "    .colab-df-convert:hover {\n",
              "      background-color: #E2EBFA;\n",
              "      box-shadow: 0px 1px 2px rgba(60, 64, 67, 0.3), 0px 1px 3px 1px rgba(60, 64, 67, 0.15);\n",
              "      fill: #174EA6;\n",
              "    }\n",
              "\n",
              "    [theme=dark] .colab-df-convert {\n",
              "      background-color: #3B4455;\n",
              "      fill: #D2E3FC;\n",
              "    }\n",
              "\n",
              "    [theme=dark] .colab-df-convert:hover {\n",
              "      background-color: #434B5C;\n",
              "      box-shadow: 0px 1px 3px 1px rgba(0, 0, 0, 0.15);\n",
              "      filter: drop-shadow(0px 1px 2px rgba(0, 0, 0, 0.3));\n",
              "      fill: #FFFFFF;\n",
              "    }\n",
              "  </style>\n",
              "\n",
              "      <script>\n",
              "        const buttonEl =\n",
              "          document.querySelector('#df-a5ac99e1-5baa-4be2-804f-0e2aff9170db button.colab-df-convert');\n",
              "        buttonEl.style.display =\n",
              "          google.colab.kernel.accessAllowed ? 'block' : 'none';\n",
              "\n",
              "        async function convertToInteractive(key) {\n",
              "          const element = document.querySelector('#df-a5ac99e1-5baa-4be2-804f-0e2aff9170db');\n",
              "          const dataTable =\n",
              "            await google.colab.kernel.invokeFunction('convertToInteractive',\n",
              "                                                     [key], {});\n",
              "          if (!dataTable) return;\n",
              "\n",
              "          const docLinkHtml = 'Like what you see? Visit the ' +\n",
              "            '<a target=\"_blank\" href=https://colab.research.google.com/notebooks/data_table.ipynb>data table notebook</a>'\n",
              "            + ' to learn more about interactive tables.';\n",
              "          element.innerHTML = '';\n",
              "          dataTable['output_type'] = 'display_data';\n",
              "          await google.colab.output.renderOutput(dataTable, element);\n",
              "          const docLink = document.createElement('div');\n",
              "          docLink.innerHTML = docLinkHtml;\n",
              "          element.appendChild(docLink);\n",
              "        }\n",
              "      </script>\n",
              "    </div>\n",
              "  </div>\n",
              "  "
            ],
            "text/plain": [
              "              Mean absolute error [MPG]\n",
              "linear_model                   2.531054\n",
              "dnn_model                      1.649145\n",
              "reloaded                       1.649145"
            ]
          },
          "execution_count": 46,
          "metadata": {},
          "output_type": "execute_result"
        }
      ],
      "source": [
        "pd.DataFrame(test_results, index=['Mean absolute error [MPG]']).T"
      ]
    },
    {
      "cell_type": "markdown",
      "metadata": {
        "id": "jKeDqQVlgEvL"
      },
      "source": [
        "# Task 6. Nonlinearity"
      ]
    },
    {
      "cell_type": "markdown",
      "metadata": {
        "id": "bi4qB9oDPU4j"
      },
      "source": [
        "We mentioned that the `relu` activation function introduce non-linearity; let's visualize it. Yet there are six numerical features and 1 categorical features, it is impossible to plot all the dimensions on a 2D plot; we need to simplify/isolate it. \n",
        "\n",
        "Note: in this task, code is provided; the focus in on understanding. "
      ]
    },
    {
      "cell_type": "markdown",
      "metadata": {
        "id": "0WZj2vEGQwOL"
      },
      "source": [
        "1. We focus on the relationship between feature `Displacement` and target `MPG`. \n",
        "  \n",
        "  To do so, create a new dataset of the same size as `train_features`, but all other features are set at their median values; then set the `Displacement` between 0 and 500. "
      ]
    },
    {
      "cell_type": "code",
      "execution_count": null,
      "metadata": {
        "id": "nXcntGZv-CeV"
      },
      "outputs": [],
      "source": [
        "fake = np.outer(np.ones(train_features.shape[0]), train_features.median())\n",
        "fake = pd.DataFrame(fake, columns = train_features.columns)\n",
        "fake.Displacement = np.linspace(0, 500, train_features.shape[0])"
      ]
    },
    {
      "cell_type": "markdown",
      "metadata": {
        "id": "zwYXI7n1VIF3"
      },
      "source": [
        "2. Create a plotting function to a) visualize real values between `Displacement` and `MPG` from the training dataset in scatter plot b) overlay the predicted MPG from Displacement varying from 0 to 500, but holding all other features constant. "
      ]
    },
    {
      "cell_type": "code",
      "execution_count": null,
      "metadata": {
        "id": "zXDFyU4v-mak"
      },
      "outputs": [],
      "source": [
        "def plot_displacement(x, y):\n",
        "  plt.scatter(train_features['Displacement'], train_labels, label='Data')\n",
        "  plt.plot(x, y, color='k', label='Predictions')\n",
        "  plt.xlabel('Displacement')\n",
        "  plt.ylabel('MPG')\n",
        "  plt.legend()"
      ]
    },
    {
      "cell_type": "markdown",
      "metadata": {
        "id": "nLXZ7QsmVl_i"
      },
      "source": [
        "3. Visualize predicted MPG using the linear model."
      ]
    },
    {
      "cell_type": "code",
      "execution_count": null,
      "metadata": {
        "colab": {
          "base_uri": "https://localhost:8080/",
          "height": 278
        },
        "id": "Q0M1mhutB9YQ",
        "outputId": "f8d55ffc-3c56-4446-b20f-e035ccc52eb5"
      },
      "outputs": [
        {
          "data": {
            "image/png": "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",
            "text/plain": [
              "<Figure size 432x288 with 1 Axes>"
            ]
          },
          "metadata": {
            "needs_background": "light"
          },
          "output_type": "display_data"
        }
      ],
      "source": [
        "plot_displacement(fake.Displacement, linear_model(fake))"
      ]
    },
    {
      "cell_type": "markdown",
      "metadata": {
        "id": "S6Iw161_VvsP"
      },
      "source": [
        "4. Visualize predicted MPG using the neural network model. Do you see an improvement/non-linearity from the linear model? "
      ]
    },
    {
      "cell_type": "code",
      "execution_count": null,
      "metadata": {
        "colab": {
          "base_uri": "https://localhost:8080/",
          "height": 278
        },
        "id": "fXe9lxlvBWbk",
        "outputId": "2ba4aa37-2763-4950-ffa5-6047cd324251"
      },
      "outputs": [
        {
          "data": {
            "image/png": "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",
            "text/plain": [
              "<Figure size 432x288 with 1 Axes>"
            ]
          },
          "metadata": {
            "needs_background": "light"
          },
          "output_type": "display_data"
        }
      ],
      "source": [
        "plot_displacement(fake.Displacement, dnn_model.predict(fake))"
      ]
    },
    {
      "cell_type": "markdown",
      "metadata": {
        "id": "pXWsMH5gR5pE"
      },
      "source": [
        "5. What are the other activation functions? Check the list of [activations](https://www.tensorflow.org/api_docs/python/tf/keras/activations). \n",
        "  \n",
        "   Optional. Modify the DNN model with a different activation function, and fit it on the data; does it perform better? "
      ]
    },
    {
      "cell_type": "markdown",
      "metadata": {
        "id": "vgGQuV-yqYZH"
      },
      "source": [
        "6. Overfitting is a common problem for DNN models, how should we deal with it? Check [Regularizers](https://www.tensorflow.org/api_docs/python/tf/keras/regularizers) on tf.keras. Any other techiniques that are invented for neural networks?"
      ]
    },
    {
      "cell_type": "markdown",
      "metadata": {
        "id": "06DnCpbACGNM"
      },
      "source": [
        "# Task 7. AutoML - TPOT"
      ]
    },
    {
      "cell_type": "markdown",
      "metadata": {
        "id": "djIwpag8DsEu"
      },
      "source": [
        "1. Instantiate and train a TPOT auto-ML regressor.\n",
        "\n",
        "    The parameters are set fairly arbitrarily (if time permits, you shall experiment with different sets of parameters after reading [what each parameter does](http://epistasislab.github.io/tpot/api/#regression)). Use these parameter values:\n",
        "\n",
        "    `generations`: 10\n",
        "\n",
        "    `population_size`: 40\n",
        "\n",
        "    `scoring`: negative mean absolute error; read more in [scoring functions in TPOT](http://epistasislab.github.io/tpot/using/#scoring-functions)\n",
        "\n",
        "    `verbosity`: 2 (so you can see each generation's performance)\n",
        "\n",
        "    The final line with create a Python script `tpot_products_pipeline.py` with the code to create the optimal model found by TPOT."
      ]
    },
    {
      "cell_type": "code",
      "execution_count": null,
      "metadata": {
        "colab": {
          "base_uri": "https://localhost:8080/",
          "height": 481,
          "referenced_widgets": [
            "c767f2e0a8cb4d8687f609d0b209de21",
            "3a73817b51154818aec1aa58ed90c9ad",
            "cc844d5c9827400eb8b604c4dd4e337c",
            "3796764122af455e86aa77e7a00cee77",
            "bb8c917681ce4974ae6f4f09be303889",
            "5deedbc2113442ccacfa90845d826d56",
            "9b33a4581f294da2835007f6cc5b864d",
            "b2160d57b0f945a08e27b891451e78cc",
            "d7ca1f73a7c049e2a262d421477ce798",
            "cc66f464f47d4c39a9feb2b827c960be",
            "4ecb1de356e54e08962275ef4b56cdf4"
          ]
        },
        "id": "IvJpNXHg_RS5",
        "outputId": "499cedf9-f016-47e2-aaab-334df556dda6"
      },
      "outputs": [
        {
          "data": {
            "application/vnd.jupyter.widget-view+json": {
              "model_id": "c767f2e0a8cb4d8687f609d0b209de21",
              "version_major": 2,
              "version_minor": 0
            },
            "text/plain": [
              "Optimization Progress:   0%|          | 0/440 [00:00<?, ?pipeline/s]"
            ]
          },
          "metadata": {},
          "output_type": "display_data"
        },
        {
          "name": "stdout",
          "output_type": "stream",
          "text": [
            "\n",
            "Generation 1 - Current best internal CV score: -2.0391493673159626\n",
            "\n",
            "Generation 2 - Current best internal CV score: -2.0391493673159626\n",
            "\n",
            "Generation 3 - Current best internal CV score: -2.0391493673159626\n",
            "\n",
            "Generation 4 - Current best internal CV score: -2.0391493673159626\n",
            "\n",
            "Generation 5 - Current best internal CV score: -1.9760831555452802\n",
            "\n",
            "Generation 6 - Current best internal CV score: -1.9399572887864829\n",
            "\n",
            "Generation 7 - Current best internal CV score: -1.9399572887864829\n",
            "\n",
            "Generation 8 - Current best internal CV score: -1.9399572887864829\n",
            "\n",
            "Generation 9 - Current best internal CV score: -1.9399572887864829\n",
            "\n",
            "Generation 10 - Current best internal CV score: -1.9132874807987714\n",
            "\n",
            "Best pipeline: ExtraTreesRegressor(LassoLarsCV(input_matrix, normalize=False), bootstrap=False, max_features=0.7000000000000001, min_samples_leaf=1, min_samples_split=6, n_estimators=100)\n",
            "Tpop score on test data: -1.74\n",
            "CPU times: user 7min 39s, sys: 1min 15s, total: 8min 54s\n",
            "Wall time: 7min 43s\n"
          ]
        },
        {
          "name": "stderr",
          "output_type": "stream",
          "text": [
            "/usr/local/lib/python3.7/dist-packages/sklearn/base.py:451: UserWarning: X does not have valid feature names, but LassoLarsCV was fitted with feature names\n",
            "  \"X does not have valid feature names, but\"\n"
          ]
        }
      ],
      "source": [
        "%%time\n",
        "from tpot import TPOTRegressor\n",
        "tpot = TPOTRegressor(generations=10, \n",
        "                     population_size=40,\n",
        "                     scoring=# YOUR CODE HERE\n",
        "                     verbosity=2,\n",
        "                     random_state=42)\n",
        "tpot.fit(train_features, train_labels)\n",
        "print(f\"Tpop score on test data: {tpot.score(test_features, test_labels):.2f}\")\n",
        "tpot.export('tpot_mpg_pipeline.py')"
      ]
    },
    {
      "cell_type": "markdown",
      "metadata": {
        "id": "1Ne0SBfZIwsF"
      },
      "source": [
        "2. Examine the model pipeline that TPOT regressor offers. If you see any model, function, or class that are not familiar, look them up! \n",
        "\n",
        "  Note: There is randomness to the way the TPOT searches, so it's possible you won't have exactly the same result as your classmate. "
      ]
    },
    {
      "cell_type": "code",
      "execution_count": null,
      "metadata": {
        "colab": {
          "base_uri": "https://localhost:8080/"
        },
        "id": "3LdJz0Bfg7Sg",
        "outputId": "689d3e9e-5fa5-41e8-be86-070879dc0481"
      },
      "outputs": [
        {
          "name": "stdout",
          "output_type": "stream",
          "text": [
            "import numpy as np\n",
            "import pandas as pd\n",
            "from sklearn.ensemble import ExtraTreesRegressor\n",
            "from sklearn.linear_model import LassoLarsCV\n",
            "from sklearn.model_selection import train_test_split\n",
            "from sklearn.pipeline import make_pipeline, make_union\n",
            "from tpot.builtins import StackingEstimator\n",
            "from tpot.export_utils import set_param_recursive\n",
            "\n",
            "# NOTE: Make sure that the outcome column is labeled 'target' in the data file\n",
            "tpot_data = pd.read_csv('PATH/TO/DATA/FILE', sep='COLUMN_SEPARATOR', dtype=np.float64)\n",
            "features = tpot_data.drop('target', axis=1)\n",
            "training_features, testing_features, training_target, testing_target = \\\n",
            "            train_test_split(features, tpot_data['target'], random_state=42)\n",
            "\n",
            "# Average CV score on the training set was: -1.9132874807987714\n",
            "exported_pipeline = make_pipeline(\n",
            "    StackingEstimator(estimator=LassoLarsCV(normalize=False)),\n",
            "    ExtraTreesRegressor(bootstrap=False, max_features=0.7000000000000001, min_samples_leaf=1, min_samples_split=6, n_estimators=100)\n",
            ")\n",
            "# Fix random state for all the steps in exported pipeline\n",
            "set_param_recursive(exported_pipeline.steps, 'random_state', 42)\n",
            "\n",
            "exported_pipeline.fit(training_features, training_target)\n",
            "results = exported_pipeline.predict(testing_features)\n"
          ]
        }
      ],
      "source": [
        "cat tpot_mpg_pipeline.py"
      ]
    },
    {
      "cell_type": "markdown",
      "metadata": {
        "id": "hNsj_X6zJzb5"
      },
      "source": [
        "3. Optional. Take the appropriate lines (e.g., updating path to data and the variable names) from `tpot_mpg_pipeline.py` to build a model on our training set and make predictions on the test set. Save the predictions as `y_pred`, and compute appropriate evaluation metric. You may find that for this simple data set, the nueral network we built outperforms the tree-based model, yet note it is not a conclusion that we can be generalized for all tabular data. "
      ]
    },
    {
      "cell_type": "markdown",
      "metadata": {
        "id": "tDZ_9p6L_U9L"
      },
      "source": [
        "# Additional Resources"
      ]
    },
    {
      "cell_type": "markdown",
      "metadata": {
        "id": "6dtjRavkXunK"
      },
      "source": [
        "- [Tensorflow playground](https://playground.tensorflow.org/) for an interactive experience to understand how nueral networkds work.\n",
        "\n",
        "- [An Introduction to Deep Learning for Tabular Data](https://www.fast.ai/2018/04/29/categorical-embeddings/) covers embeddings for categorical variables. \n",
        "\n",
        "- [Imbalanced classification: credit card fraud detection](https://keras.io/examples/structured_data/imbalanced_classification/) demonstrates using `class_weight` to handle imbalanced classification problems. "
      ]
    },
    {
      "cell_type": "markdown",
      "metadata": {
        "heading_collapsed": true,
        "id": "RTRCN3xsXunK"
      },
      "source": [
        "# Acknowledgement and Copyright"
      ]
    },
    {
      "cell_type": "markdown",
      "metadata": {
        "id": "riVFgcSTmY0R"
      },
      "source": [
        "##### Acknowledgement"
      ]
    },
    {
      "cell_type": "markdown",
      "metadata": {
        "id": "higVWuZMmc7w"
      },
      "source": [
        "This notebook is adapted from [tensorflow/keras tuorial - regression](https://www.tensorflow.org/tutorials/keras/regression)"
      ]
    },
    {
      "cell_type": "markdown",
      "metadata": {
        "heading_collapsed": true,
        "hidden": true,
        "id": "MJuKft5yXunK"
      },
      "source": [
        "##### Copyright 2018 The TensorFlow Authors."
      ]
    },
    {
      "cell_type": "markdown",
      "metadata": {
        "cellView": "form",
        "hidden": true,
        "id": "AwOEIRJC6Une"
      },
      "source": [
        "@title Licensed under the Apache License, Version 2.0 (the \"License\");\n",
        "you may not use this file except in compliance with the License.\n",
        "You may obtain a copy of the License at\n",
        "\n",
        "https://www.apache.org/licenses/LICENSE-2.0\n",
        "\n",
        "Unless required by applicable law or agreed to in writing, software\n",
        "distributed under the License is distributed on an \"AS IS\" BASIS,\n",
        "WITHOUT WARRANTIES OR CONDITIONS OF ANY KIND, either express or implied.\n",
        "See the License for the specific language governing permissions and\n",
        "limitations under the License."
      ]
    },
    {
      "cell_type": "markdown",
      "metadata": {
        "cellView": "form",
        "hidden": true,
        "id": "KyPEtTqk6VdG"
      },
      "source": [
        "@title MIT License\n",
        "\n",
        "Copyright (c) 2017 François Chollet\n",
        "\n",
        "Permission is hereby granted, free of charge, to any person obtaining a\n",
        "copy of this software and associated documentation files (the \"Software\"),\n",
        "to deal in the Software without restriction, including without limitation\n",
        "the rights to use, copy, modify, merge, publish, distribute, sublicense,\n",
        "and/or sell copies of the Software, and to permit persons to whom the\n",
        "Software is furnished to do so, subject to the following conditions:\n",
        "\n",
        "The above copyright notice and this permission notice shall be included in\n",
        "all copies or substantial portions of the Software.\n",
        "\n",
        "THE SOFTWARE IS PROVIDED \"AS IS\", WITHOUT WARRANTY OF ANY KIND, EXPRESS OR\n",
        "IMPLIED, INCLUDING BUT NOT LIMITED TO THE WARRANTIES OF MERCHANTABILITY,\n",
        "FITNESS FOR A PARTICULAR PURPOSE AND NONINFRINGEMENT. IN NO EVENT SHALL\n",
        "THE AUTHORS OR COPYRIGHT HOLDERS BE LIABLE FOR ANY CLAIM, DAMAGES OR OTHER\n",
        "LIABILITY, WHETHER IN AN ACTION OF CONTRACT, TORT OR OTHERWISE, ARISING\n",
        "FROM, OUT OF OR IN CONNECTION WITH THE SOFTWARE OR THE USE OR OTHER\n",
        "DEALINGS IN THE SOFTWARE."
      ]
    }
  ],
  "metadata": {
    "colab": {
      "collapsed_sections": [],
      "name": "fuel-efficiency-solution.ipynb",
      "provenance": []
    },
    "kernelspec": {
      "display_name": "Python 3.9.12 ('py39_12')",
      "language": "python",
      "name": "python3"
    },
    "language_info": {
      "codemirror_mode": {
        "name": "ipython",
        "version": 3
      },
      "file_extension": ".py",
      "mimetype": "text/x-python",
      "name": "python",
      "nbconvert_exporter": "python",
      "pygments_lexer": "ipython3",
      "version": "3.9.12"
    },
    "toc": {
      "base_numbering": 1,
      "nav_menu": {},
      "number_sections": true,
      "sideBar": true,
      "skip_h1_title": false,
      "title_cell": "Table of Contents",
      "title_sidebar": "Contents",
      "toc_cell": false,
      "toc_position": {},
      "toc_section_display": true,
      "toc_window_display": true
    },
    "widgets": {
      "application/vnd.jupyter.widget-state+json": {
        "3796764122af455e86aa77e7a00cee77": {
          "model_module": "@jupyter-widgets/controls",
          "model_module_version": "1.5.0",
          "model_name": "HTMLModel",
          "state": {
            "_dom_classes": [],
            "_model_module": "@jupyter-widgets/controls",
            "_model_module_version": "1.5.0",
            "_model_name": "HTMLModel",
            "_view_count": null,
            "_view_module": "@jupyter-widgets/controls",
            "_view_module_version": "1.5.0",
            "_view_name": "HTMLView",
            "description": "",
            "description_tooltip": null,
            "layout": "IPY_MODEL_cc66f464f47d4c39a9feb2b827c960be",
            "placeholder": "​",
            "style": "IPY_MODEL_4ecb1de356e54e08962275ef4b56cdf4",
            "value": " 440/440 [07:38&lt;00:00,  1.07pipeline/s]"
          }
        },
        "3a73817b51154818aec1aa58ed90c9ad": {
          "model_module": "@jupyter-widgets/controls",
          "model_module_version": "1.5.0",
          "model_name": "HTMLModel",
          "state": {
            "_dom_classes": [],
            "_model_module": "@jupyter-widgets/controls",
            "_model_module_version": "1.5.0",
            "_model_name": "HTMLModel",
            "_view_count": null,
            "_view_module": "@jupyter-widgets/controls",
            "_view_module_version": "1.5.0",
            "_view_name": "HTMLView",
            "description": "",
            "description_tooltip": null,
            "layout": "IPY_MODEL_5deedbc2113442ccacfa90845d826d56",
            "placeholder": "​",
            "style": "IPY_MODEL_9b33a4581f294da2835007f6cc5b864d",
            "value": "Optimization Progress: 100%"
          }
        },
        "4ecb1de356e54e08962275ef4b56cdf4": {
          "model_module": "@jupyter-widgets/controls",
          "model_module_version": "1.5.0",
          "model_name": "DescriptionStyleModel",
          "state": {
            "_model_module": "@jupyter-widgets/controls",
            "_model_module_version": "1.5.0",
            "_model_name": "DescriptionStyleModel",
            "_view_count": null,
            "_view_module": "@jupyter-widgets/base",
            "_view_module_version": "1.2.0",
            "_view_name": "StyleView",
            "description_width": ""
          }
        },
        "5deedbc2113442ccacfa90845d826d56": {
          "model_module": "@jupyter-widgets/base",
          "model_module_version": "1.2.0",
          "model_name": "LayoutModel",
          "state": {
            "_model_module": "@jupyter-widgets/base",
            "_model_module_version": "1.2.0",
            "_model_name": "LayoutModel",
            "_view_count": null,
            "_view_module": "@jupyter-widgets/base",
            "_view_module_version": "1.2.0",
            "_view_name": "LayoutView",
            "align_content": null,
            "align_items": null,
            "align_self": null,
            "border": null,
            "bottom": null,
            "display": null,
            "flex": null,
            "flex_flow": null,
            "grid_area": null,
            "grid_auto_columns": null,
            "grid_auto_flow": null,
            "grid_auto_rows": null,
            "grid_column": null,
            "grid_gap": null,
            "grid_row": null,
            "grid_template_areas": null,
            "grid_template_columns": null,
            "grid_template_rows": null,
            "height": null,
            "justify_content": null,
            "justify_items": null,
            "left": null,
            "margin": null,
            "max_height": null,
            "max_width": null,
            "min_height": null,
            "min_width": null,
            "object_fit": null,
            "object_position": null,
            "order": null,
            "overflow": null,
            "overflow_x": null,
            "overflow_y": null,
            "padding": null,
            "right": null,
            "top": null,
            "visibility": null,
            "width": null
          }
        },
        "9b33a4581f294da2835007f6cc5b864d": {
          "model_module": "@jupyter-widgets/controls",
          "model_module_version": "1.5.0",
          "model_name": "DescriptionStyleModel",
          "state": {
            "_model_module": "@jupyter-widgets/controls",
            "_model_module_version": "1.5.0",
            "_model_name": "DescriptionStyleModel",
            "_view_count": null,
            "_view_module": "@jupyter-widgets/base",
            "_view_module_version": "1.2.0",
            "_view_name": "StyleView",
            "description_width": ""
          }
        },
        "b2160d57b0f945a08e27b891451e78cc": {
          "model_module": "@jupyter-widgets/base",
          "model_module_version": "1.2.0",
          "model_name": "LayoutModel",
          "state": {
            "_model_module": "@jupyter-widgets/base",
            "_model_module_version": "1.2.0",
            "_model_name": "LayoutModel",
            "_view_count": null,
            "_view_module": "@jupyter-widgets/base",
            "_view_module_version": "1.2.0",
            "_view_name": "LayoutView",
            "align_content": null,
            "align_items": null,
            "align_self": null,
            "border": null,
            "bottom": null,
            "display": null,
            "flex": null,
            "flex_flow": null,
            "grid_area": null,
            "grid_auto_columns": null,
            "grid_auto_flow": null,
            "grid_auto_rows": null,
            "grid_column": null,
            "grid_gap": null,
            "grid_row": null,
            "grid_template_areas": null,
            "grid_template_columns": null,
            "grid_template_rows": null,
            "height": null,
            "justify_content": null,
            "justify_items": null,
            "left": null,
            "margin": null,
            "max_height": null,
            "max_width": null,
            "min_height": null,
            "min_width": null,
            "object_fit": null,
            "object_position": null,
            "order": null,
            "overflow": null,
            "overflow_x": null,
            "overflow_y": null,
            "padding": null,
            "right": null,
            "top": null,
            "visibility": null,
            "width": null
          }
        },
        "bb8c917681ce4974ae6f4f09be303889": {
          "model_module": "@jupyter-widgets/base",
          "model_module_version": "1.2.0",
          "model_name": "LayoutModel",
          "state": {
            "_model_module": "@jupyter-widgets/base",
            "_model_module_version": "1.2.0",
            "_model_name": "LayoutModel",
            "_view_count": null,
            "_view_module": "@jupyter-widgets/base",
            "_view_module_version": "1.2.0",
            "_view_name": "LayoutView",
            "align_content": null,
            "align_items": null,
            "align_self": null,
            "border": null,
            "bottom": null,
            "display": null,
            "flex": null,
            "flex_flow": null,
            "grid_area": null,
            "grid_auto_columns": null,
            "grid_auto_flow": null,
            "grid_auto_rows": null,
            "grid_column": null,
            "grid_gap": null,
            "grid_row": null,
            "grid_template_areas": null,
            "grid_template_columns": null,
            "grid_template_rows": null,
            "height": null,
            "justify_content": null,
            "justify_items": null,
            "left": null,
            "margin": null,
            "max_height": null,
            "max_width": null,
            "min_height": null,
            "min_width": null,
            "object_fit": null,
            "object_position": null,
            "order": null,
            "overflow": null,
            "overflow_x": null,
            "overflow_y": null,
            "padding": null,
            "right": null,
            "top": null,
            "visibility": null,
            "width": null
          }
        },
        "c767f2e0a8cb4d8687f609d0b209de21": {
          "model_module": "@jupyter-widgets/controls",
          "model_module_version": "1.5.0",
          "model_name": "HBoxModel",
          "state": {
            "_dom_classes": [],
            "_model_module": "@jupyter-widgets/controls",
            "_model_module_version": "1.5.0",
            "_model_name": "HBoxModel",
            "_view_count": null,
            "_view_module": "@jupyter-widgets/controls",
            "_view_module_version": "1.5.0",
            "_view_name": "HBoxView",
            "box_style": "",
            "children": [
              "IPY_MODEL_3a73817b51154818aec1aa58ed90c9ad",
              "IPY_MODEL_cc844d5c9827400eb8b604c4dd4e337c",
              "IPY_MODEL_3796764122af455e86aa77e7a00cee77"
            ],
            "layout": "IPY_MODEL_bb8c917681ce4974ae6f4f09be303889"
          }
        },
        "cc66f464f47d4c39a9feb2b827c960be": {
          "model_module": "@jupyter-widgets/base",
          "model_module_version": "1.2.0",
          "model_name": "LayoutModel",
          "state": {
            "_model_module": "@jupyter-widgets/base",
            "_model_module_version": "1.2.0",
            "_model_name": "LayoutModel",
            "_view_count": null,
            "_view_module": "@jupyter-widgets/base",
            "_view_module_version": "1.2.0",
            "_view_name": "LayoutView",
            "align_content": null,
            "align_items": null,
            "align_self": null,
            "border": null,
            "bottom": null,
            "display": null,
            "flex": null,
            "flex_flow": null,
            "grid_area": null,
            "grid_auto_columns": null,
            "grid_auto_flow": null,
            "grid_auto_rows": null,
            "grid_column": null,
            "grid_gap": null,
            "grid_row": null,
            "grid_template_areas": null,
            "grid_template_columns": null,
            "grid_template_rows": null,
            "height": null,
            "justify_content": null,
            "justify_items": null,
            "left": null,
            "margin": null,
            "max_height": null,
            "max_width": null,
            "min_height": null,
            "min_width": null,
            "object_fit": null,
            "object_position": null,
            "order": null,
            "overflow": null,
            "overflow_x": null,
            "overflow_y": null,
            "padding": null,
            "right": null,
            "top": null,
            "visibility": null,
            "width": null
          }
        },
        "cc844d5c9827400eb8b604c4dd4e337c": {
          "model_module": "@jupyter-widgets/controls",
          "model_module_version": "1.5.0",
          "model_name": "FloatProgressModel",
          "state": {
            "_dom_classes": [],
            "_model_module": "@jupyter-widgets/controls",
            "_model_module_version": "1.5.0",
            "_model_name": "FloatProgressModel",
            "_view_count": null,
            "_view_module": "@jupyter-widgets/controls",
            "_view_module_version": "1.5.0",
            "_view_name": "ProgressView",
            "bar_style": "",
            "description": "",
            "description_tooltip": null,
            "layout": "IPY_MODEL_b2160d57b0f945a08e27b891451e78cc",
            "max": 440,
            "min": 0,
            "orientation": "horizontal",
            "style": "IPY_MODEL_d7ca1f73a7c049e2a262d421477ce798",
            "value": 440
          }
        },
        "d7ca1f73a7c049e2a262d421477ce798": {
          "model_module": "@jupyter-widgets/controls",
          "model_module_version": "1.5.0",
          "model_name": "ProgressStyleModel",
          "state": {
            "_model_module": "@jupyter-widgets/controls",
            "_model_module_version": "1.5.0",
            "_model_name": "ProgressStyleModel",
            "_view_count": null,
            "_view_module": "@jupyter-widgets/base",
            "_view_module_version": "1.2.0",
            "_view_name": "StyleView",
            "bar_color": null,
            "description_width": ""
          }
        }
      }
    }
  },
  "nbformat": 4,
  "nbformat_minor": 0
}
