{
  "cells": [
    {
      "cell_type": "markdown",
      "metadata": {
        "id": "2TPf8CY_Xumr"
      },
      "source": [
        "<p align = \"center\" draggable=”false” ><img src=\"https://user-images.githubusercontent.com/37101144/161836199-fdb0219d-0361-4988-bf26-48b0fad160a3.png\" \n",
        "     width=\"200px\"\n",
        "     height=\"auto\"/>\n",
        "</p>"
      ]
    },
    {
      "cell_type": "markdown",
      "metadata": {
        "id": "92kCWnfbXumv"
      },
      "source": [
        "# Fuel efficiency prediction"
      ]
    },
    {
      "cell_type": "markdown",
      "metadata": {
        "id": "AHp3M9ZmrIxj"
      },
      "source": [
        "Provided with the classic [Auto MPG](https://archive.ics.uci.edu/ml/datasets/auto+mpg) dataset, we will predict the **fuel efficiency** of the late-1970s and early 1980s automobiles, leveraging features such as cylinders, displacement, horsepower, weight, etc. \n",
        "\n",
        "It is a very small dataset and there are only a few features. We will first build a linear model and a neural network, evaluate their performances, and then leverage an auto-machine learning (AutoML) library called [TPOT](https://github.com/EpistasisLab/tpot) to see how it can be used to search over many ML model acchitectures."
      ]
    },
    {
      "cell_type": "markdown",
      "metadata": {
        "id": "PxVwvxwii96J"
      },
      "source": [
        "# Learning Objectives"
      ]
    },
    {
      "cell_type": "markdown",
      "metadata": {
        "id": "9YCC4uUnXumw"
      },
      "source": [
        "By the end of this session, you will be able to\n",
        "\n",
        "- understand the core building blocks of a neural network\n",
        "- understand what dense and activation layers do\n",
        "- build, train, and evaluate neural networks\n",
        "- perform AutoML to search for optimal tree-based pipeline for a regression task "
      ]
    },
    {
      "cell_type": "markdown",
      "metadata": {
        "id": "P7PFU9Oza7-O"
      },
      "source": [
        "Note: [State of Data Science and Machine Learning 2021](https://www.kaggle.com/kaggle-survey-2021) by Kaggle shows that the most commonly used algorithms were linear and logtistic regressions, followed closely by decision trees, random forests, and gradient boosting machines (are you surprised?). Multilayer perceptron, or artificial neural networks are not yet the popular tools for tabular/structured data; see more technical reasons in papers: [Deep Neural Networks and Tabular Data: A Survey](https://arxiv.org/abs/2110.01889), [Tabular Data: Deep Learning is Not All You Need](https://arxiv.org/abs/2106.03253). For this assignment, the main purpose is for you to get familiar with the basic building blocks in constructing neural networks before we dive into more specialized neural network architectures.\n"
      ]
    },
    {
      "cell_type": "code",
      "execution_count": 1,
      "metadata": {
        "id": "moB4tpEHxKB3",
        "colab": {
          "base_uri": "https://localhost:8080/"
        },
        "outputId": "4290f0eb-167d-44e3-dba5-0a61500a3178"
      },
      "outputs": [
        {
          "output_type": "stream",
          "name": "stdout",
          "text": [
            "\u001b[K     |████████████████████████████████| 87 kB 2.7 MB/s \n",
            "\u001b[K     |████████████████████████████████| 160 kB 10.0 MB/s \n",
            "\u001b[K     |████████████████████████████████| 192.9 MB 72 kB/s \n",
            "\u001b[?25h  Building wheel for stopit (setup.py) ... \u001b[?25l\u001b[?25hdone\n"
          ]
        }
      ],
      "source": [
        "!pip install -q seaborn ## Use seaborn for pairplot\n",
        "!pip install -q tpot  # Use TPOT for automl"
      ]
    },
    {
      "cell_type": "code",
      "execution_count": 2,
      "metadata": {
        "id": "1rRo8oNqZ-Rj"
      },
      "outputs": [],
      "source": [
        "import numpy as np\n",
        "import pandas as pd\n",
        "import matplotlib.pyplot as plt\n",
        "import seaborn as sns\n",
        "\n",
        "# Make NumPy printouts easier to read.\n",
        "np.set_printoptions(precision=3, suppress=True)"
      ]
    },
    {
      "cell_type": "code",
      "execution_count": 3,
      "metadata": {
        "colab": {
          "base_uri": "https://localhost:8080/"
        },
        "id": "9xQKvCJ85kCQ",
        "outputId": "9f9d2bd4-6a02-4c7f-ccb6-1795969cd68a"
      },
      "outputs": [
        {
          "output_type": "stream",
          "name": "stdout",
          "text": [
            "2.8.2\n"
          ]
        }
      ],
      "source": [
        "import tensorflow as tf\n",
        "from tensorflow import keras\n",
        "from tensorflow.keras import layers\n",
        "\n",
        "print(tf.__version__)"
      ]
    },
    {
      "cell_type": "markdown",
      "metadata": {
        "id": "EIdT9iu_Z4Rb"
      },
      "source": [
        "# Task 1. Data: Auto MPG dataset"
      ]
    },
    {
      "cell_type": "markdown",
      "metadata": {
        "id": "F_72b0LCNbjx"
      },
      "source": [
        "1. The dataset is available from the [UCI Machine Learning Repository](https://archive.ics.uci.edu/ml/). First download and import the dataset using `pandas`:\n"
      ]
    },
    {
      "cell_type": "code",
      "execution_count": 4,
      "metadata": {
        "id": "CiX2FI4gZtTt"
      },
      "outputs": [],
      "source": [
        "url = 'http://archive.ics.uci.edu/ml/machine-learning-databases/auto-mpg/auto-mpg.data'\n",
        "column_names = [\n",
        "  'MPG', 'Cylinders', 'Displacement', 'Horsepower', 'Weight',\n",
        "  'Acceleration', 'Model Year', 'Origin'\n",
        "  ]\n",
        "\n",
        "dataset = pd.read_csv(url, names=column_names, na_values='?', \n",
        "                      comment='\\t', sep=' ', skipinitialspace=True)"
      ]
    },
    {
      "cell_type": "code",
      "execution_count": 5,
      "metadata": {
        "colab": {
          "base_uri": "https://localhost:8080/",
          "height": 206
        },
        "id": "2oY3pMPagJrO",
        "outputId": "ba532275-71e2-4549-8ad7-9c66bf910c48"
      },
      "outputs": [
        {
          "output_type": "execute_result",
          "data": {
            "text/plain": [
              "      MPG  Cylinders  Displacement  Horsepower  Weight  Acceleration  \\\n",
              "393  27.0          4         140.0        86.0  2790.0          15.6   \n",
              "394  44.0          4          97.0        52.0  2130.0          24.6   \n",
              "395  32.0          4         135.0        84.0  2295.0          11.6   \n",
              "396  28.0          4         120.0        79.0  2625.0          18.6   \n",
              "397  31.0          4         119.0        82.0  2720.0          19.4   \n",
              "\n",
              "     Model Year  Origin  \n",
              "393          82       1  \n",
              "394          82       2  \n",
              "395          82       1  \n",
              "396          82       1  \n",
              "397          82       1  "
            ],
            "text/html": [
              "\n",
              "  <div id=\"df-8a143789-b8bf-4b09-ba6f-1dca2e2a424f\">\n",
              "    <div class=\"colab-df-container\">\n",
              "      <div>\n",
              "<style scoped>\n",
              "    .dataframe tbody tr th:only-of-type {\n",
              "        vertical-align: middle;\n",
              "    }\n",
              "\n",
              "    .dataframe tbody tr th {\n",
              "        vertical-align: top;\n",
              "    }\n",
              "\n",
              "    .dataframe thead th {\n",
              "        text-align: right;\n",
              "    }\n",
              "</style>\n",
              "<table border=\"1\" class=\"dataframe\">\n",
              "  <thead>\n",
              "    <tr style=\"text-align: right;\">\n",
              "      <th></th>\n",
              "      <th>MPG</th>\n",
              "      <th>Cylinders</th>\n",
              "      <th>Displacement</th>\n",
              "      <th>Horsepower</th>\n",
              "      <th>Weight</th>\n",
              "      <th>Acceleration</th>\n",
              "      <th>Model Year</th>\n",
              "      <th>Origin</th>\n",
              "    </tr>\n",
              "  </thead>\n",
              "  <tbody>\n",
              "    <tr>\n",
              "      <th>393</th>\n",
              "      <td>27.0</td>\n",
              "      <td>4</td>\n",
              "      <td>140.0</td>\n",
              "      <td>86.0</td>\n",
              "      <td>2790.0</td>\n",
              "      <td>15.6</td>\n",
              "      <td>82</td>\n",
              "      <td>1</td>\n",
              "    </tr>\n",
              "    <tr>\n",
              "      <th>394</th>\n",
              "      <td>44.0</td>\n",
              "      <td>4</td>\n",
              "      <td>97.0</td>\n",
              "      <td>52.0</td>\n",
              "      <td>2130.0</td>\n",
              "      <td>24.6</td>\n",
              "      <td>82</td>\n",
              "      <td>2</td>\n",
              "    </tr>\n",
              "    <tr>\n",
              "      <th>395</th>\n",
              "      <td>32.0</td>\n",
              "      <td>4</td>\n",
              "      <td>135.0</td>\n",
              "      <td>84.0</td>\n",
              "      <td>2295.0</td>\n",
              "      <td>11.6</td>\n",
              "      <td>82</td>\n",
              "      <td>1</td>\n",
              "    </tr>\n",
              "    <tr>\n",
              "      <th>396</th>\n",
              "      <td>28.0</td>\n",
              "      <td>4</td>\n",
              "      <td>120.0</td>\n",
              "      <td>79.0</td>\n",
              "      <td>2625.0</td>\n",
              "      <td>18.6</td>\n",
              "      <td>82</td>\n",
              "      <td>1</td>\n",
              "    </tr>\n",
              "    <tr>\n",
              "      <th>397</th>\n",
              "      <td>31.0</td>\n",
              "      <td>4</td>\n",
              "      <td>119.0</td>\n",
              "      <td>82.0</td>\n",
              "      <td>2720.0</td>\n",
              "      <td>19.4</td>\n",
              "      <td>82</td>\n",
              "      <td>1</td>\n",
              "    </tr>\n",
              "  </tbody>\n",
              "</table>\n",
              "</div>\n",
              "      <button class=\"colab-df-convert\" onclick=\"convertToInteractive('df-8a143789-b8bf-4b09-ba6f-1dca2e2a424f')\"\n",
              "              title=\"Convert this dataframe to an interactive table.\"\n",
              "              style=\"display:none;\">\n",
              "        \n",
              "  <svg xmlns=\"http://www.w3.org/2000/svg\" height=\"24px\"viewBox=\"0 0 24 24\"\n",
              "       width=\"24px\">\n",
              "    <path d=\"M0 0h24v24H0V0z\" fill=\"none\"/>\n",
              "    <path d=\"M18.56 5.44l.94 2.06.94-2.06 2.06-.94-2.06-.94-.94-2.06-.94 2.06-2.06.94zm-11 1L8.5 8.5l.94-2.06 2.06-.94-2.06-.94L8.5 2.5l-.94 2.06-2.06.94zm10 10l.94 2.06.94-2.06 2.06-.94-2.06-.94-.94-2.06-.94 2.06-2.06.94z\"/><path d=\"M17.41 7.96l-1.37-1.37c-.4-.4-.92-.59-1.43-.59-.52 0-1.04.2-1.43.59L10.3 9.45l-7.72 7.72c-.78.78-.78 2.05 0 2.83L4 21.41c.39.39.9.59 1.41.59.51 0 1.02-.2 1.41-.59l7.78-7.78 2.81-2.81c.8-.78.8-2.07 0-2.86zM5.41 20L4 18.59l7.72-7.72 1.47 1.35L5.41 20z\"/>\n",
              "  </svg>\n",
              "      </button>\n",
              "      \n",
              "  <style>\n",
              "    .colab-df-container {\n",
              "      display:flex;\n",
              "      flex-wrap:wrap;\n",
              "      gap: 12px;\n",
              "    }\n",
              "\n",
              "    .colab-df-convert {\n",
              "      background-color: #E8F0FE;\n",
              "      border: none;\n",
              "      border-radius: 50%;\n",
              "      cursor: pointer;\n",
              "      display: none;\n",
              "      fill: #1967D2;\n",
              "      height: 32px;\n",
              "      padding: 0 0 0 0;\n",
              "      width: 32px;\n",
              "    }\n",
              "\n",
              "    .colab-df-convert:hover {\n",
              "      background-color: #E2EBFA;\n",
              "      box-shadow: 0px 1px 2px rgba(60, 64, 67, 0.3), 0px 1px 3px 1px rgba(60, 64, 67, 0.15);\n",
              "      fill: #174EA6;\n",
              "    }\n",
              "\n",
              "    [theme=dark] .colab-df-convert {\n",
              "      background-color: #3B4455;\n",
              "      fill: #D2E3FC;\n",
              "    }\n",
              "\n",
              "    [theme=dark] .colab-df-convert:hover {\n",
              "      background-color: #434B5C;\n",
              "      box-shadow: 0px 1px 3px 1px rgba(0, 0, 0, 0.15);\n",
              "      filter: drop-shadow(0px 1px 2px rgba(0, 0, 0, 0.3));\n",
              "      fill: #FFFFFF;\n",
              "    }\n",
              "  </style>\n",
              "\n",
              "      <script>\n",
              "        const buttonEl =\n",
              "          document.querySelector('#df-8a143789-b8bf-4b09-ba6f-1dca2e2a424f button.colab-df-convert');\n",
              "        buttonEl.style.display =\n",
              "          google.colab.kernel.accessAllowed ? 'block' : 'none';\n",
              "\n",
              "        async function convertToInteractive(key) {\n",
              "          const element = document.querySelector('#df-8a143789-b8bf-4b09-ba6f-1dca2e2a424f');\n",
              "          const dataTable =\n",
              "            await google.colab.kernel.invokeFunction('convertToInteractive',\n",
              "                                                     [key], {});\n",
              "          if (!dataTable) return;\n",
              "\n",
              "          const docLinkHtml = 'Like what you see? Visit the ' +\n",
              "            '<a target=\"_blank\" href=https://colab.research.google.com/notebooks/data_table.ipynb>data table notebook</a>'\n",
              "            + ' to learn more about interactive tables.';\n",
              "          element.innerHTML = '';\n",
              "          dataTable['output_type'] = 'display_data';\n",
              "          await google.colab.output.renderOutput(dataTable, element);\n",
              "          const docLink = document.createElement('div');\n",
              "          docLink.innerHTML = docLinkHtml;\n",
              "          element.appendChild(docLink);\n",
              "        }\n",
              "      </script>\n",
              "    </div>\n",
              "  </div>\n",
              "  "
            ]
          },
          "metadata": {},
          "execution_count": 5
        }
      ],
      "source": [
        "dataset.tail()"
      ]
    },
    {
      "cell_type": "markdown",
      "metadata": {
        "id": "3MWuJTKEDM-f"
      },
      "source": [
        "2. The dataset contains a few unknown values, we drop those rows to keep this initial tutorial simple. Use `pd.DataFrame.dropna()`:"
      ]
    },
    {
      "cell_type": "code",
      "source": [
        "dataset.shape"
      ],
      "metadata": {
        "colab": {
          "base_uri": "https://localhost:8080/"
        },
        "id": "rJ5EDUgW68bN",
        "outputId": "7fa8c457-9282-49c6-b534-e64dadaf56d3"
      },
      "execution_count": 6,
      "outputs": [
        {
          "output_type": "execute_result",
          "data": {
            "text/plain": [
              "(398, 8)"
            ]
          },
          "metadata": {},
          "execution_count": 6
        }
      ]
    },
    {
      "cell_type": "code",
      "execution_count": 7,
      "metadata": {
        "id": "4ZUDosChC1UN"
      },
      "outputs": [],
      "source": [
        "dataset = dataset.dropna() # YOUR CODE HERE"
      ]
    },
    {
      "cell_type": "code",
      "source": [
        "dataset.shape"
      ],
      "metadata": {
        "colab": {
          "base_uri": "https://localhost:8080/"
        },
        "id": "GSz_4QkC7D2S",
        "outputId": "86ee87b2-d471-4d93-d5c8-8de630949852"
      },
      "execution_count": 8,
      "outputs": [
        {
          "output_type": "execute_result",
          "data": {
            "text/plain": [
              "(392, 8)"
            ]
          },
          "metadata": {},
          "execution_count": 8
        }
      ]
    },
    {
      "cell_type": "markdown",
      "metadata": {
        "id": "8XKitwaH4v8h"
      },
      "source": [
        "3. The `\"Origin\"` column is categorical, not numeric. So the next step is to one-hot encode the values in the column with [pd.get_dummies](https://pandas.pydata.org/docs/reference/api/pandas.get_dummies.html)."
      ]
    },
    {
      "cell_type": "code",
      "execution_count": 9,
      "metadata": {
        "id": "gWNTD2QjBWFJ"
      },
      "outputs": [],
      "source": [
        "dataset['Origin'] = dataset['Origin'].replace({1: 'USA', 2: 'Europe', 3: 'Japan'})"
      ]
    },
    {
      "cell_type": "code",
      "execution_count": 10,
      "metadata": {
        "colab": {
          "base_uri": "https://localhost:8080/",
          "height": 206
        },
        "id": "ulXz4J7PAUzk",
        "outputId": "eed07329-3145-43d5-8fa0-c185b8bbb2db"
      },
      "outputs": [
        {
          "output_type": "execute_result",
          "data": {
            "text/plain": [
              "      MPG  Cylinders  Displacement  Horsepower  Weight  Acceleration  \\\n",
              "393  27.0          4         140.0        86.0  2790.0          15.6   \n",
              "394  44.0          4          97.0        52.0  2130.0          24.6   \n",
              "395  32.0          4         135.0        84.0  2295.0          11.6   \n",
              "396  28.0          4         120.0        79.0  2625.0          18.6   \n",
              "397  31.0          4         119.0        82.0  2720.0          19.4   \n",
              "\n",
              "     Model Year  Europe  Japan  USA  \n",
              "393          82       0      0    1  \n",
              "394          82       1      0    0  \n",
              "395          82       0      0    1  \n",
              "396          82       0      0    1  \n",
              "397          82       0      0    1  "
            ],
            "text/html": [
              "\n",
              "  <div id=\"df-81c366a1-d1b2-4454-abe6-cbdaf1accb2f\">\n",
              "    <div class=\"colab-df-container\">\n",
              "      <div>\n",
              "<style scoped>\n",
              "    .dataframe tbody tr th:only-of-type {\n",
              "        vertical-align: middle;\n",
              "    }\n",
              "\n",
              "    .dataframe tbody tr th {\n",
              "        vertical-align: top;\n",
              "    }\n",
              "\n",
              "    .dataframe thead th {\n",
              "        text-align: right;\n",
              "    }\n",
              "</style>\n",
              "<table border=\"1\" class=\"dataframe\">\n",
              "  <thead>\n",
              "    <tr style=\"text-align: right;\">\n",
              "      <th></th>\n",
              "      <th>MPG</th>\n",
              "      <th>Cylinders</th>\n",
              "      <th>Displacement</th>\n",
              "      <th>Horsepower</th>\n",
              "      <th>Weight</th>\n",
              "      <th>Acceleration</th>\n",
              "      <th>Model Year</th>\n",
              "      <th>Europe</th>\n",
              "      <th>Japan</th>\n",
              "      <th>USA</th>\n",
              "    </tr>\n",
              "  </thead>\n",
              "  <tbody>\n",
              "    <tr>\n",
              "      <th>393</th>\n",
              "      <td>27.0</td>\n",
              "      <td>4</td>\n",
              "      <td>140.0</td>\n",
              "      <td>86.0</td>\n",
              "      <td>2790.0</td>\n",
              "      <td>15.6</td>\n",
              "      <td>82</td>\n",
              "      <td>0</td>\n",
              "      <td>0</td>\n",
              "      <td>1</td>\n",
              "    </tr>\n",
              "    <tr>\n",
              "      <th>394</th>\n",
              "      <td>44.0</td>\n",
              "      <td>4</td>\n",
              "      <td>97.0</td>\n",
              "      <td>52.0</td>\n",
              "      <td>2130.0</td>\n",
              "      <td>24.6</td>\n",
              "      <td>82</td>\n",
              "      <td>1</td>\n",
              "      <td>0</td>\n",
              "      <td>0</td>\n",
              "    </tr>\n",
              "    <tr>\n",
              "      <th>395</th>\n",
              "      <td>32.0</td>\n",
              "      <td>4</td>\n",
              "      <td>135.0</td>\n",
              "      <td>84.0</td>\n",
              "      <td>2295.0</td>\n",
              "      <td>11.6</td>\n",
              "      <td>82</td>\n",
              "      <td>0</td>\n",
              "      <td>0</td>\n",
              "      <td>1</td>\n",
              "    </tr>\n",
              "    <tr>\n",
              "      <th>396</th>\n",
              "      <td>28.0</td>\n",
              "      <td>4</td>\n",
              "      <td>120.0</td>\n",
              "      <td>79.0</td>\n",
              "      <td>2625.0</td>\n",
              "      <td>18.6</td>\n",
              "      <td>82</td>\n",
              "      <td>0</td>\n",
              "      <td>0</td>\n",
              "      <td>1</td>\n",
              "    </tr>\n",
              "    <tr>\n",
              "      <th>397</th>\n",
              "      <td>31.0</td>\n",
              "      <td>4</td>\n",
              "      <td>119.0</td>\n",
              "      <td>82.0</td>\n",
              "      <td>2720.0</td>\n",
              "      <td>19.4</td>\n",
              "      <td>82</td>\n",
              "      <td>0</td>\n",
              "      <td>0</td>\n",
              "      <td>1</td>\n",
              "    </tr>\n",
              "  </tbody>\n",
              "</table>\n",
              "</div>\n",
              "      <button class=\"colab-df-convert\" onclick=\"convertToInteractive('df-81c366a1-d1b2-4454-abe6-cbdaf1accb2f')\"\n",
              "              title=\"Convert this dataframe to an interactive table.\"\n",
              "              style=\"display:none;\">\n",
              "        \n",
              "  <svg xmlns=\"http://www.w3.org/2000/svg\" height=\"24px\"viewBox=\"0 0 24 24\"\n",
              "       width=\"24px\">\n",
              "    <path d=\"M0 0h24v24H0V0z\" fill=\"none\"/>\n",
              "    <path d=\"M18.56 5.44l.94 2.06.94-2.06 2.06-.94-2.06-.94-.94-2.06-.94 2.06-2.06.94zm-11 1L8.5 8.5l.94-2.06 2.06-.94-2.06-.94L8.5 2.5l-.94 2.06-2.06.94zm10 10l.94 2.06.94-2.06 2.06-.94-2.06-.94-.94-2.06-.94 2.06-2.06.94z\"/><path d=\"M17.41 7.96l-1.37-1.37c-.4-.4-.92-.59-1.43-.59-.52 0-1.04.2-1.43.59L10.3 9.45l-7.72 7.72c-.78.78-.78 2.05 0 2.83L4 21.41c.39.39.9.59 1.41.59.51 0 1.02-.2 1.41-.59l7.78-7.78 2.81-2.81c.8-.78.8-2.07 0-2.86zM5.41 20L4 18.59l7.72-7.72 1.47 1.35L5.41 20z\"/>\n",
              "  </svg>\n",
              "      </button>\n",
              "      \n",
              "  <style>\n",
              "    .colab-df-container {\n",
              "      display:flex;\n",
              "      flex-wrap:wrap;\n",
              "      gap: 12px;\n",
              "    }\n",
              "\n",
              "    .colab-df-convert {\n",
              "      background-color: #E8F0FE;\n",
              "      border: none;\n",
              "      border-radius: 50%;\n",
              "      cursor: pointer;\n",
              "      display: none;\n",
              "      fill: #1967D2;\n",
              "      height: 32px;\n",
              "      padding: 0 0 0 0;\n",
              "      width: 32px;\n",
              "    }\n",
              "\n",
              "    .colab-df-convert:hover {\n",
              "      background-color: #E2EBFA;\n",
              "      box-shadow: 0px 1px 2px rgba(60, 64, 67, 0.3), 0px 1px 3px 1px rgba(60, 64, 67, 0.15);\n",
              "      fill: #174EA6;\n",
              "    }\n",
              "\n",
              "    [theme=dark] .colab-df-convert {\n",
              "      background-color: #3B4455;\n",
              "      fill: #D2E3FC;\n",
              "    }\n",
              "\n",
              "    [theme=dark] .colab-df-convert:hover {\n",
              "      background-color: #434B5C;\n",
              "      box-shadow: 0px 1px 3px 1px rgba(0, 0, 0, 0.15);\n",
              "      filter: drop-shadow(0px 1px 2px rgba(0, 0, 0, 0.3));\n",
              "      fill: #FFFFFF;\n",
              "    }\n",
              "  </style>\n",
              "\n",
              "      <script>\n",
              "        const buttonEl =\n",
              "          document.querySelector('#df-81c366a1-d1b2-4454-abe6-cbdaf1accb2f button.colab-df-convert');\n",
              "        buttonEl.style.display =\n",
              "          google.colab.kernel.accessAllowed ? 'block' : 'none';\n",
              "\n",
              "        async function convertToInteractive(key) {\n",
              "          const element = document.querySelector('#df-81c366a1-d1b2-4454-abe6-cbdaf1accb2f');\n",
              "          const dataTable =\n",
              "            await google.colab.kernel.invokeFunction('convertToInteractive',\n",
              "                                                     [key], {});\n",
              "          if (!dataTable) return;\n",
              "\n",
              "          const docLinkHtml = 'Like what you see? Visit the ' +\n",
              "            '<a target=\"_blank\" href=https://colab.research.google.com/notebooks/data_table.ipynb>data table notebook</a>'\n",
              "            + ' to learn more about interactive tables.';\n",
              "          element.innerHTML = '';\n",
              "          dataTable['output_type'] = 'display_data';\n",
              "          await google.colab.output.renderOutput(dataTable, element);\n",
              "          const docLink = document.createElement('div');\n",
              "          docLink.innerHTML = docLinkHtml;\n",
              "          element.appendChild(docLink);\n",
              "        }\n",
              "      </script>\n",
              "    </div>\n",
              "  </div>\n",
              "  "
            ]
          },
          "metadata": {},
          "execution_count": 10
        }
      ],
      "source": [
        "dataset = pd.get_dummies(dataset, columns=['Origin'], prefix='', prefix_sep='')\n",
        "dataset.tail()"
      ]
    },
    {
      "cell_type": "markdown",
      "metadata": {
        "id": "Cuym4yvk76vU"
      },
      "source": [
        "4. Split the data into training and test sets. To reduce the module importing overhead, instead of `sklearn.model_selection.train_test_split()`, use `pd.DataFrame.sample()` to save 80% of the data aside to `train_dataset`, set the random state to be 0 for reproducibility. \n",
        "\n",
        "   Then use `pd.DataFrame.drop()` to obtain the `test_dataset`."
      ]
    },
    {
      "cell_type": "code",
      "execution_count": 11,
      "metadata": {
        "id": "qn-IGhUE7_1H"
      },
      "outputs": [],
      "source": [
        "train_dataset = dataset.sample(frac=0.8, random_state=0) # YOUR CODE HERE\n",
        "test_dataset = dataset.drop(train_dataset.index) # YOUR CODE HERE "
      ]
    },
    {
      "cell_type": "markdown",
      "metadata": {
        "id": "J4ubs136WLNp"
      },
      "source": [
        "5. Review the joint distribution of a few pairs of columns from the training set. \n",
        "   \n",
        "   The top row suggests that the fuel efficiency (MPG) is a function of all the other parameters. The other rows indicate they are functions of each other."
      ]
    },
    {
      "cell_type": "code",
      "execution_count": 12,
      "metadata": {
        "colab": {
          "base_uri": "https://localhost:8080/",
          "height": 726
        },
        "id": "oRKO_x8gWKv-",
        "outputId": "c69d23eb-ff8f-4cb1-ce9a-ebaaabfd7baf"
      },
      "outputs": [
        {
          "output_type": "display_data",
          "data": {
            "text/plain": [
              "<Figure size 720x720 with 20 Axes>"
            ],
            "image/png": "[encoded data removed]"
          },
          "metadata": {
            "needs_background": "light"
          }
        }
      ],
      "source": [
        "sns.pairplot(train_dataset[['MPG', 'Cylinders', 'Displacement', 'Weight']], diag_kind='kde');"
      ]
    },
    {
      "cell_type": "markdown",
      "metadata": {
        "id": "gavKO_6DWRMP"
      },
      "source": [
        "Let's also check the overall statistics. Note how each feature covers a very different range:"
      ]
    },
    {
      "cell_type": "code",
      "execution_count": 13,
      "metadata": {
        "colab": {
          "base_uri": "https://localhost:8080/",
          "height": 363
        },
        "id": "yi2FzC3T21jR",
        "outputId": "cdfe72c8-0dc5-4fa5-809e-249fe5d37deb"
      },
      "outputs": [
        {
          "output_type": "execute_result",
          "data": {
            "text/plain": [
              "              count         mean         std     min      25%     50%  \\\n",
              "MPG           314.0    23.310510    7.728652    10.0    17.00    22.0   \n",
              "Cylinders     314.0     5.477707    1.699788     3.0     4.00     4.0   \n",
              "Displacement  314.0   195.318471  104.331589    68.0   105.50   151.0   \n",
              "Horsepower    314.0   104.869427   38.096214    46.0    76.25    94.5   \n",
              "Weight        314.0  2990.251592  843.898596  1649.0  2256.50  2822.5   \n",
              "Acceleration  314.0    15.559236    2.789230     8.0    13.80    15.5   \n",
              "Model Year    314.0    75.898089    3.675642    70.0    73.00    76.0   \n",
              "Europe        314.0     0.178344    0.383413     0.0     0.00     0.0   \n",
              "Japan         314.0     0.197452    0.398712     0.0     0.00     0.0   \n",
              "USA           314.0     0.624204    0.485101     0.0     0.00     1.0   \n",
              "\n",
              "                  75%     max  \n",
              "MPG             28.95    46.6  \n",
              "Cylinders        8.00     8.0  \n",
              "Displacement   265.75   455.0  \n",
              "Horsepower     128.00   225.0  \n",
              "Weight        3608.00  5140.0  \n",
              "Acceleration    17.20    24.8  \n",
              "Model Year      79.00    82.0  \n",
              "Europe           0.00     1.0  \n",
              "Japan            0.00     1.0  \n",
              "USA              1.00     1.0  "
            ],
            "text/html": [
              "\n",
              "  <div id=\"df-7ac96904-a179-45a3-bba7-743327a545c4\">\n",
              "    <div class=\"colab-df-container\">\n",
              "      <div>\n",
              "<style scoped>\n",
              "    .dataframe tbody tr th:only-of-type {\n",
              "        vertical-align: middle;\n",
              "    }\n",
              "\n",
              "    .dataframe tbody tr th {\n",
              "        vertical-align: top;\n",
              "    }\n",
              "\n",
              "    .dataframe thead th {\n",
              "        text-align: right;\n",
              "    }\n",
              "</style>\n",
              "<table border=\"1\" class=\"dataframe\">\n",
              "  <thead>\n",
              "    <tr style=\"text-align: right;\">\n",
              "      <th></th>\n",
              "      <th>count</th>\n",
              "      <th>mean</th>\n",
              "      <th>std</th>\n",
              "      <th>min</th>\n",
              "      <th>25%</th>\n",
              "      <th>50%</th>\n",
              "      <th>75%</th>\n",
              "      <th>max</th>\n",
              "    </tr>\n",
              "  </thead>\n",
              "  <tbody>\n",
              "    <tr>\n",
              "      <th>MPG</th>\n",
              "      <td>314.0</td>\n",
              "      <td>23.310510</td>\n",
              "      <td>7.728652</td>\n",
              "      <td>10.0</td>\n",
              "      <td>17.00</td>\n",
              "      <td>22.0</td>\n",
              "      <td>28.95</td>\n",
              "      <td>46.6</td>\n",
              "    </tr>\n",
              "    <tr>\n",
              "      <th>Cylinders</th>\n",
              "      <td>314.0</td>\n",
              "      <td>5.477707</td>\n",
              "      <td>1.699788</td>\n",
              "      <td>3.0</td>\n",
              "      <td>4.00</td>\n",
              "      <td>4.0</td>\n",
              "      <td>8.00</td>\n",
              "      <td>8.0</td>\n",
              "    </tr>\n",
              "    <tr>\n",
              "      <th>Displacement</th>\n",
              "      <td>314.0</td>\n",
              "      <td>195.318471</td>\n",
              "      <td>104.331589</td>\n",
              "      <td>68.0</td>\n",
              "      <td>105.50</td>\n",
              "      <td>151.0</td>\n",
              "      <td>265.75</td>\n",
              "      <td>455.0</td>\n",
              "    </tr>\n",
              "    <tr>\n",
              "      <th>Horsepower</th>\n",
              "      <td>314.0</td>\n",
              "      <td>104.869427</td>\n",
              "      <td>38.096214</td>\n",
              "      <td>46.0</td>\n",
              "      <td>76.25</td>\n",
              "      <td>94.5</td>\n",
              "      <td>128.00</td>\n",
              "      <td>225.0</td>\n",
              "    </tr>\n",
              "    <tr>\n",
              "      <th>Weight</th>\n",
              "      <td>314.0</td>\n",
              "      <td>2990.251592</td>\n",
              "      <td>843.898596</td>\n",
              "      <td>1649.0</td>\n",
              "      <td>2256.50</td>\n",
              "      <td>2822.5</td>\n",
              "      <td>3608.00</td>\n",
              "      <td>5140.0</td>\n",
              "    </tr>\n",
              "    <tr>\n",
              "      <th>Acceleration</th>\n",
              "      <td>314.0</td>\n",
              "      <td>15.559236</td>\n",
              "      <td>2.789230</td>\n",
              "      <td>8.0</td>\n",
              "      <td>13.80</td>\n",
              "      <td>15.5</td>\n",
              "      <td>17.20</td>\n",
              "      <td>24.8</td>\n",
              "    </tr>\n",
              "    <tr>\n",
              "      <th>Model Year</th>\n",
              "      <td>314.0</td>\n",
              "      <td>75.898089</td>\n",
              "      <td>3.675642</td>\n",
              "      <td>70.0</td>\n",
              "      <td>73.00</td>\n",
              "      <td>76.0</td>\n",
              "      <td>79.00</td>\n",
              "      <td>82.0</td>\n",
              "    </tr>\n",
              "    <tr>\n",
              "      <th>Europe</th>\n",
              "      <td>314.0</td>\n",
              "      <td>0.178344</td>\n",
              "      <td>0.383413</td>\n",
              "      <td>0.0</td>\n",
              "      <td>0.00</td>\n",
              "      <td>0.0</td>\n",
              "      <td>0.00</td>\n",
              "      <td>1.0</td>\n",
              "    </tr>\n",
              "    <tr>\n",
              "      <th>Japan</th>\n",
              "      <td>314.0</td>\n",
              "      <td>0.197452</td>\n",
              "      <td>0.398712</td>\n",
              "      <td>0.0</td>\n",
              "      <td>0.00</td>\n",
              "      <td>0.0</td>\n",
              "      <td>0.00</td>\n",
              "      <td>1.0</td>\n",
              "    </tr>\n",
              "    <tr>\n",
              "      <th>USA</th>\n",
              "      <td>314.0</td>\n",
              "      <td>0.624204</td>\n",
              "      <td>0.485101</td>\n",
              "      <td>0.0</td>\n",
              "      <td>0.00</td>\n",
              "      <td>1.0</td>\n",
              "      <td>1.00</td>\n",
              "      <td>1.0</td>\n",
              "    </tr>\n",
              "  </tbody>\n",
              "</table>\n",
              "</div>\n",
              "      <button class=\"colab-df-convert\" onclick=\"convertToInteractive('df-7ac96904-a179-45a3-bba7-743327a545c4')\"\n",
              "              title=\"Convert this dataframe to an interactive table.\"\n",
              "              style=\"display:none;\">\n",
              "        \n",
              "  <svg xmlns=\"http://www.w3.org/2000/svg\" height=\"24px\"viewBox=\"0 0 24 24\"\n",
              "       width=\"24px\">\n",
              "    <path d=\"M0 0h24v24H0V0z\" fill=\"none\"/>\n",
              "    <path d=\"M18.56 5.44l.94 2.06.94-2.06 2.06-.94-2.06-.94-.94-2.06-.94 2.06-2.06.94zm-11 1L8.5 8.5l.94-2.06 2.06-.94-2.06-.94L8.5 2.5l-.94 2.06-2.06.94zm10 10l.94 2.06.94-2.06 2.06-.94-2.06-.94-.94-2.06-.94 2.06-2.06.94z\"/><path d=\"M17.41 7.96l-1.37-1.37c-.4-.4-.92-.59-1.43-.59-.52 0-1.04.2-1.43.59L10.3 9.45l-7.72 7.72c-.78.78-.78 2.05 0 2.83L4 21.41c.39.39.9.59 1.41.59.51 0 1.02-.2 1.41-.59l7.78-7.78 2.81-2.81c.8-.78.8-2.07 0-2.86zM5.41 20L4 18.59l7.72-7.72 1.47 1.35L5.41 20z\"/>\n",
              "  </svg>\n",
              "      </button>\n",
              "      \n",
              "  <style>\n",
              "    .colab-df-container {\n",
              "      display:flex;\n",
              "      flex-wrap:wrap;\n",
              "      gap: 12px;\n",
              "    }\n",
              "\n",
              "    .colab-df-convert {\n",
              "      background-color: #E8F0FE;\n",
              "      border: none;\n",
              "      border-radius: 50%;\n",
              "      cursor: pointer;\n",
              "      display: none;\n",
              "      fill: #1967D2;\n",
              "      height: 32px;\n",
              "      padding: 0 0 0 0;\n",
              "      width: 32px;\n",
              "    }\n",
              "\n",
              "    .colab-df-convert:hover {\n",
              "      background-color: #E2EBFA;\n",
              "      box-shadow: 0px 1px 2px rgba(60, 64, 67, 0.3), 0px 1px 3px 1px rgba(60, 64, 67, 0.15);\n",
              "      fill: #174EA6;\n",
              "    }\n",
              "\n",
              "    [theme=dark] .colab-df-convert {\n",
              "      background-color: #3B4455;\n",
              "      fill: #D2E3FC;\n",
              "    }\n",
              "\n",
              "    [theme=dark] .colab-df-convert:hover {\n",
              "      background-color: #434B5C;\n",
              "      box-shadow: 0px 1px 3px 1px rgba(0, 0, 0, 0.15);\n",
              "      filter: drop-shadow(0px 1px 2px rgba(0, 0, 0, 0.3));\n",
              "      fill: #FFFFFF;\n",
              "    }\n",
              "  </style>\n",
              "\n",
              "      <script>\n",
              "        const buttonEl =\n",
              "          document.querySelector('#df-7ac96904-a179-45a3-bba7-743327a545c4 button.colab-df-convert');\n",
              "        buttonEl.style.display =\n",
              "          google.colab.kernel.accessAllowed ? 'block' : 'none';\n",
              "\n",
              "        async function convertToInteractive(key) {\n",
              "          const element = document.querySelector('#df-7ac96904-a179-45a3-bba7-743327a545c4');\n",
              "          const dataTable =\n",
              "            await google.colab.kernel.invokeFunction('convertToInteractive',\n",
              "                                                     [key], {});\n",
              "          if (!dataTable) return;\n",
              "\n",
              "          const docLinkHtml = 'Like what you see? Visit the ' +\n",
              "            '<a target=\"_blank\" href=https://colab.research.google.com/notebooks/data_table.ipynb>data table notebook</a>'\n",
              "            + ' to learn more about interactive tables.';\n",
              "          element.innerHTML = '';\n",
              "          dataTable['output_type'] = 'display_data';\n",
              "          await google.colab.output.renderOutput(dataTable, element);\n",
              "          const docLink = document.createElement('div');\n",
              "          docLink.innerHTML = docLinkHtml;\n",
              "          element.appendChild(docLink);\n",
              "        }\n",
              "      </script>\n",
              "    </div>\n",
              "  </div>\n",
              "  "
            ]
          },
          "metadata": {},
          "execution_count": 13
        }
      ],
      "source": [
        "train_dataset.describe().transpose()"
      ]
    },
    {
      "cell_type": "markdown",
      "metadata": {
        "id": "Db7Auq1yXUvh"
      },
      "source": [
        "5. Split features from labels\n",
        "\n",
        "  Separate the target value—the \"label\"—from the features. This label is the value that you will train the model to predict."
      ]
    },
    {
      "cell_type": "code",
      "execution_count": 14,
      "metadata": {
        "id": "t2sluJdCW7jN"
      },
      "outputs": [],
      "source": [
        "train_features = train_dataset.drop(columns='MPG', axis=1) # YOUR CODE HERE\n",
        "test_features = test_dataset.drop(columns='MPG', axis=1) # YOUR CODE HERE\n",
        "# train_features = train_dataset.copy()\n",
        "# test_features = test_dataset.copy()\n",
        "\n",
        "train_labels = train_dataset.MPG # YOUR CODE HERE\n",
        "# ^ this gives a series - do pop('MPG')\n",
        "test_labels = test_dataset.MPG # YOUR CODE HERE"
      ]
    },
    {
      "cell_type": "code",
      "source": [
        "print(\"Train_X, \", train_dataset.shape)\n",
        "print(\"Train_y, \", train_labels.shape)\n",
        "\n",
        "print(\"Test_X, \", test_dataset.shape)\n",
        "print(\"Test_y, \", test_labels.shape)"
      ],
      "metadata": {
        "colab": {
          "base_uri": "https://localhost:8080/"
        },
        "id": "LzLRe9gbBbI_",
        "outputId": "b9f54d0c-fcad-45c3-d4f7-52fb59ea1451"
      },
      "execution_count": 15,
      "outputs": [
        {
          "output_type": "stream",
          "name": "stdout",
          "text": [
            "Train_X,  (314, 10)\n",
            "Train_y,  (314,)\n",
            "Test_X,  (78, 10)\n",
            "Test_y,  (78,)\n"
          ]
        }
      ]
    },
    {
      "cell_type": "markdown",
      "metadata": {
        "id": "mRklxK5s388r"
      },
      "source": [
        "# Task 2. Normalization Layer"
      ]
    },
    {
      "cell_type": "markdown",
      "metadata": {
        "id": "-ywmerQ6dSox"
      },
      "source": [
        "It is good practice to normalize features that use different scales and ranges. Although a model *might* converge without feature normalization, normalization makes training much more stable.\n",
        "\n",
        "Similar to scikit-learn, tensorflow.keras offers a list of [preprocessing layers](https://www.tensorflow.org/guide/keras/preprocessing_layers) so that you can build and export models that are truly end-to-end."
      ]
    },
    {
      "cell_type": "markdown",
      "metadata": {
        "id": "aFJ6ISropeoo"
      },
      "source": [
        "1. The Normalization layer ([`tf.keras.layers.Normalization`](https://www.tensorflow.org/api_docs/python/tf/keras/layers/Normalization) is a clean and simple way to add feature normalization into your model. The first step is to create the layer:"
      ]
    },
    {
      "cell_type": "code",
      "execution_count": 16,
      "metadata": {
        "id": "JlC5ooJrgjQF"
      },
      "outputs": [],
      "source": [
        "normalizer =  tf.keras.layers.Normalization() # YOUR CODE HERE"
      ]
    },
    {
      "cell_type": "markdown",
      "metadata": {
        "id": "XYA2Ap6nVOha"
      },
      "source": [
        "2. Then, fit the state of the preprocessing layer to the data by calling [`Normalization.adapt`](https://www.tensorflow.org/guide/keras/preprocessing_layers#the_adapt_method):"
      ]
    },
    {
      "cell_type": "code",
      "execution_count": 17,
      "metadata": {
        "id": "CrBbbjbwV91f"
      },
      "outputs": [],
      "source": [
        "normalizer.adapt(np.array(train_features)) # YOUR CODE HERE"
      ]
    },
    {
      "cell_type": "markdown",
      "metadata": {
        "id": "GqryjQ_DMMHp"
      },
      "source": [
        "We can see the feature mean and variance are stored in the layer:"
      ]
    },
    {
      "cell_type": "code",
      "execution_count": 18,
      "metadata": {
        "colab": {
          "base_uri": "https://localhost:8080/"
        },
        "id": "lreV_KOML142",
        "outputId": "86a55d3f-d43e-437b-caba-403c0fd8fb31"
      },
      "outputs": [
        {
          "output_type": "stream",
          "name": "stdout",
          "text": [
            "feature name: Index(['Cylinders', 'Displacement', 'Horsepower', 'Weight', 'Acceleration',\n",
            "       'Model Year', 'Europe', 'Japan', 'USA'],\n",
            "      dtype='object')\n",
            "\n",
            "feature mean: [   5.478  195.318  104.869 2990.252   15.559   75.898    0.178    0.197\n",
            "    0.624]\n",
            "\n",
            "feature variance: [     2.88   10850.413   1446.699 709896.9        7.755     13.467\n",
            "      0.147      0.158      0.235]\n"
          ]
        }
      ],
      "source": [
        "print(f'feature name: {train_features.columns}\\n')\n",
        "print(f'feature mean: {normalizer.mean.numpy().squeeze()}\\n')\n",
        "print(f'feature variance: {normalizer.variance.numpy().squeeze()}')"
      ]
    },
    {
      "cell_type": "markdown",
      "metadata": {
        "id": "oGWKaF9GSRuN"
      },
      "source": [
        "When the layer is called, it returns the input data, with each feature independently normalized:"
      ]
    },
    {
      "cell_type": "code",
      "execution_count": 19,
      "metadata": {
        "colab": {
          "base_uri": "https://localhost:8080/"
        },
        "id": "2l7zFL_XWIRu",
        "outputId": "f82f0ee3-e867-4c4a-e8ff-c583156c47b9"
      },
      "outputs": [
        {
          "output_type": "stream",
          "name": "stdout",
          "text": [
            "First example: [[   4.    90.    75.  2125.    14.5   74.     0.     0.     1. ]]\n",
            "\n",
            "Normalized: [[-0.87 -1.01 -0.79 -1.03 -0.38 -0.52 -0.47 -0.5   0.78]]\n"
          ]
        }
      ],
      "source": [
        "first = np.array(train_features[:1])\n",
        "\n",
        "with np.printoptions(precision=2, suppress=True):\n",
        "  print('First example:', first)\n",
        "  print()\n",
        "  print('Normalized:', normalizer(first).numpy())"
      ]
    },
    {
      "cell_type": "markdown",
      "source": [
        "First example: [[   4.    90.    75.  2125.    14.5   74.     0.     0.     1. ]]\n",
        "\n",
        "Normalized: [[-0.87 -1.01 -0.79 -1.03 -0.38 -0.52 -0.47 -0.5   0.78]]"
      ],
      "metadata": {
        "id": "usIMnYppcOy2"
      }
    },
    {
      "cell_type": "markdown",
      "metadata": {
        "id": "6o3CrycBXA2s"
      },
      "source": [
        "# Task 3. Linear regression\n",
        "\n",
        "Before building a deep neural network model, start with linear regression using all the features."
      ]
    },
    {
      "cell_type": "markdown",
      "metadata": {
        "id": "lFby9n0tnHkw"
      },
      "source": [
        "Training a model with `tf.keras` typically starts by defining the model architecture. Use a `tf.keras.Sequential` model, which [represents a sequence of steps](https://www.tensorflow.org/guide/keras/sequential_model).\n",
        "\n",
        "There are two steps in this multivariate linear regression model:\n",
        "\n",
        "- Normalize all the input features using the `tf.keras.layers.Normalization` preprocessing layer. You have defined this ealier as `normalizer`.\n",
        "- Apply a linear transformation ($y = mx+b$ where $m$ is a matrix and $b$ is a vector.) to produce 1 output using a linear layer ([`tf.keras.layers.Dense`](https://www.tensorflow.org/api_docs/python/tf/keras/layers/Dense)).\n",
        "\n",
        "The number of _inputs_ can either be set by the `input_shape` argument, or automatically when the model is run for the first time."
      ]
    },
    {
      "cell_type": "markdown",
      "metadata": {
        "id": "4NVlHJY2TWlC"
      },
      "source": [
        "1. Build the Keras Sequential model:"
      ]
    },
    {
      "cell_type": "code",
      "execution_count": 20,
      "metadata": {
        "id": "c0sXM7qLlKfZ"
      },
      "outputs": [],
      "source": [
        "linear_model = tf.keras.Sequential([\n",
        "    normalizer, # Normalizer - YOUR CODE HERE\n",
        "    tf.keras.layers.Dense(units=1) # Linear Transformation - YOUR CODE HERE\n",
        "])"
      ]
    },
    {
      "cell_type": "code",
      "execution_count": 21,
      "metadata": {
        "colab": {
          "base_uri": "https://localhost:8080/"
        },
        "id": "_iaY0wviy0FO",
        "outputId": "3b5f6356-66ec-4347-e391-007136304b7d"
      },
      "outputs": [
        {
          "output_type": "stream",
          "name": "stdout",
          "text": [
            "Model: \"sequential\"\n",
            "_________________________________________________________________\n",
            " Layer (type)                Output Shape              Param #   \n",
            "=================================================================\n",
            " normalization (Normalizatio  (None, 9)                19        \n",
            " n)                                                              \n",
            "                                                                 \n",
            " dense (Dense)               (None, 1)                 10        \n",
            "                                                                 \n",
            "=================================================================\n",
            "Total params: 29\n",
            "Trainable params: 10\n",
            "Non-trainable params: 19\n",
            "_________________________________________________________________\n"
          ]
        }
      ],
      "source": [
        "linear_model.summary()"
      ]
    },
    {
      "cell_type": "markdown",
      "metadata": {
        "id": "eObQu9fDnXGL"
      },
      "source": [
        "2. This model will predict `'MPG'` from all features in `train_features`. Run the untrained model on the first 10 data points / rows using `Model.predict()`. The output won't be good, but notice that it has the expected shape of `(10, 1)`:"
      ]
    },
    {
      "cell_type": "code",
      "execution_count": 22,
      "metadata": {
        "colab": {
          "base_uri": "https://localhost:8080/"
        },
        "id": "UfV1HS6bns-s",
        "outputId": "2fddfda7-25d9-425e-a82d-3dd1f9f5a643"
      },
      "outputs": [
        {
          "output_type": "execute_result",
          "data": {
            "text/plain": [
              "array([[ 1.235],\n",
              "       [ 0.105],\n",
              "       [-2.106],\n",
              "       [ 0.709],\n",
              "       [ 2.421],\n",
              "       [-0.464],\n",
              "       [ 2.64 ],\n",
              "       [-0.359],\n",
              "       [ 0.003],\n",
              "       [ 2.627]], dtype=float32)"
            ]
          },
          "metadata": {},
          "execution_count": 22
        }
      ],
      "source": [
        "linear_model.predict(train_features.head(10)) # YOUR CODE HERE"
      ]
    },
    {
      "cell_type": "markdown",
      "metadata": {
        "id": "IFND0vL4y5OZ"
      },
      "source": [
        "3. When you call the model, its weight matrices will be built—check that the `kernel` weights (the $m$ in $y = mx + b$) have a shape of (9, 1):"
      ]
    },
    {
      "cell_type": "code",
      "execution_count": 23,
      "metadata": {
        "colab": {
          "base_uri": "https://localhost:8080/"
        },
        "id": "QaqBYReyzBgr",
        "outputId": "a318448f-800e-4a1e-e552-36c0c49ec5a8"
      },
      "outputs": [
        {
          "output_type": "execute_result",
          "data": {
            "text/plain": [
              "<tf.Variable 'dense/kernel:0' shape=(9, 1) dtype=float32, numpy=\n",
              "array([[ 0.034],\n",
              "       [-0.582],\n",
              "       [-0.477],\n",
              "       [-0.377],\n",
              "       [ 0.025],\n",
              "       [-0.273],\n",
              "       [-0.246],\n",
              "       [ 0.559],\n",
              "       [-0.069]], dtype=float32)>"
            ]
          },
          "metadata": {},
          "execution_count": 23
        }
      ],
      "source": [
        "linear_model.layers[1].kernel"
      ]
    },
    {
      "cell_type": "markdown",
      "metadata": {
        "id": "CSkanJlmmFBX"
      },
      "source": [
        "4. Once the model is built, configure the training procedure using the Keras `Model.compile` method. The most important arguments to compile are the `loss` and the `optimizer`, since these define what will be optimized and how (using the `tf.keras.optimizers.Adam`).\n",
        "\n",
        "  Here's a list of built-in loss functions in [`tf.keras.losses`](https://www.tensorflow.org/api_docs/python/tf/keras/losses). For regression tasks, [common loss functions](https://towardsdatascience.com/understanding-the-3-most-common-loss-functions-for-machine-learning-regression-23e0ef3e14d3) include mean squared error (MSE) and mean absolute error (MAE). Here,  MAE is preferred such that the model is more robust against outliers. \n",
        "\n",
        "  For optimizers, gradient descent (check this video [Gradient Descent, Step-by-Step](https://www.youtube.com/watch?v=sDv4f4s2SB8) for a refresher) is the preferred way to optimize neural networks and many other machine learning algorithms. Read [an overview of graident descent optimizer algorithms](https://ruder.io/optimizing-gradient-descent/) for several popular gradient descent algorithms. Here, we use the popular [`tf.keras.optimizers.Adam`](https://www.tensorflow.org/api_docs/python/tf/keras/optimizers/Adam), and set the learning rate at **0.1** for faster learning.  "
      ]
    },
    {
      "cell_type": "code",
      "execution_count": 24,
      "metadata": {
        "id": "JxA_3lpOm-SK"
      },
      "outputs": [],
      "source": [
        "linear_model.compile(\n",
        "    optimizer = tf.keras.optimizers.Adam(learning_rate=0.1), # YOUR CODE HERE\n",
        "    loss = MeanAbsoluteError() # YOUR CODE HERE\n",
        "    # can drop tf.keras.losses\n",
        "    )"
      ]
    },
    {
      "cell_type": "markdown",
      "metadata": {
        "id": "Z3q1I9TwnRSC"
      },
      "source": [
        "5. Use Keras `Model.fit` to execute the training for 100 epochs, set the verbose to 0 to suppress logging and keep 20% of the data for validation:"
      ]
    },
    {
      "cell_type": "code",
      "execution_count": 25,
      "metadata": {
        "colab": {
          "base_uri": "https://localhost:8080/"
        },
        "id": "-iSrNy59nRAp",
        "outputId": "b27e482d-65ca-4df4-c896-ebcdc2f86415"
      },
      "outputs": [
        {
          "output_type": "stream",
          "name": "stdout",
          "text": [
            "CPU times: user 3.9 s, sys: 195 ms, total: 4.1 s\n",
            "Wall time: 5.6 s\n"
          ]
        }
      ],
      "source": [
        "%%time\n",
        "history = linear_model.fit(x = train_features, y = train_labels, \n",
        "                             verbose = 0, validation_split = 0.2, epochs = 100) # YOUR CODE HERE"
      ]
    },
    {
      "cell_type": "markdown",
      "metadata": {
        "id": "tQm3pc0FYPQB"
      },
      "source": [
        "6. Visualize the model's training progress using the stats stored in the `history` object:"
      ]
    },
    {
      "cell_type": "code",
      "execution_count": 26,
      "metadata": {
        "colab": {
          "base_uri": "https://localhost:8080/",
          "height": 206
        },
        "id": "YCAwD_y4AdC3",
        "outputId": "2eafab29-b6bf-44af-bea9-4d1baf99c20c"
      },
      "outputs": [
        {
          "output_type": "execute_result",
          "data": {
            "text/plain": [
              "        loss  val_loss  epoch\n",
              "95  2.501747  2.474171     95\n",
              "96  2.515332  2.509894     96\n",
              "97  2.501811  2.460206     97\n",
              "98  2.511675  2.519094     98\n",
              "99  2.467741  2.468451     99"
            ],
            "text/html": [
              "\n",
              "  <div id=\"df-01f593f9-7223-4cb0-9e03-6fdacb977678\">\n",
              "    <div class=\"colab-df-container\">\n",
              "      <div>\n",
              "<style scoped>\n",
              "    .dataframe tbody tr th:only-of-type {\n",
              "        vertical-align: middle;\n",
              "    }\n",
              "\n",
              "    .dataframe tbody tr th {\n",
              "        vertical-align: top;\n",
              "    }\n",
              "\n",
              "    .dataframe thead th {\n",
              "        text-align: right;\n",
              "    }\n",
              "</style>\n",
              "<table border=\"1\" class=\"dataframe\">\n",
              "  <thead>\n",
              "    <tr style=\"text-align: right;\">\n",
              "      <th></th>\n",
              "      <th>loss</th>\n",
              "      <th>val_loss</th>\n",
              "      <th>epoch</th>\n",
              "    </tr>\n",
              "  </thead>\n",
              "  <tbody>\n",
              "    <tr>\n",
              "      <th>95</th>\n",
              "      <td>2.501747</td>\n",
              "      <td>2.474171</td>\n",
              "      <td>95</td>\n",
              "    </tr>\n",
              "    <tr>\n",
              "      <th>96</th>\n",
              "      <td>2.515332</td>\n",
              "      <td>2.509894</td>\n",
              "      <td>96</td>\n",
              "    </tr>\n",
              "    <tr>\n",
              "      <th>97</th>\n",
              "      <td>2.501811</td>\n",
              "      <td>2.460206</td>\n",
              "      <td>97</td>\n",
              "    </tr>\n",
              "    <tr>\n",
              "      <th>98</th>\n",
              "      <td>2.511675</td>\n",
              "      <td>2.519094</td>\n",
              "      <td>98</td>\n",
              "    </tr>\n",
              "    <tr>\n",
              "      <th>99</th>\n",
              "      <td>2.467741</td>\n",
              "      <td>2.468451</td>\n",
              "      <td>99</td>\n",
              "    </tr>\n",
              "  </tbody>\n",
              "</table>\n",
              "</div>\n",
              "      <button class=\"colab-df-convert\" onclick=\"convertToInteractive('df-01f593f9-7223-4cb0-9e03-6fdacb977678')\"\n",
              "              title=\"Convert this dataframe to an interactive table.\"\n",
              "              style=\"display:none;\">\n",
              "        \n",
              "  <svg xmlns=\"http://www.w3.org/2000/svg\" height=\"24px\"viewBox=\"0 0 24 24\"\n",
              "       width=\"24px\">\n",
              "    <path d=\"M0 0h24v24H0V0z\" fill=\"none\"/>\n",
              "    <path d=\"M18.56 5.44l.94 2.06.94-2.06 2.06-.94-2.06-.94-.94-2.06-.94 2.06-2.06.94zm-11 1L8.5 8.5l.94-2.06 2.06-.94-2.06-.94L8.5 2.5l-.94 2.06-2.06.94zm10 10l.94 2.06.94-2.06 2.06-.94-2.06-.94-.94-2.06-.94 2.06-2.06.94z\"/><path d=\"M17.41 7.96l-1.37-1.37c-.4-.4-.92-.59-1.43-.59-.52 0-1.04.2-1.43.59L10.3 9.45l-7.72 7.72c-.78.78-.78 2.05 0 2.83L4 21.41c.39.39.9.59 1.41.59.51 0 1.02-.2 1.41-.59l7.78-7.78 2.81-2.81c.8-.78.8-2.07 0-2.86zM5.41 20L4 18.59l7.72-7.72 1.47 1.35L5.41 20z\"/>\n",
              "  </svg>\n",
              "      </button>\n",
              "      \n",
              "  <style>\n",
              "    .colab-df-container {\n",
              "      display:flex;\n",
              "      flex-wrap:wrap;\n",
              "      gap: 12px;\n",
              "    }\n",
              "\n",
              "    .colab-df-convert {\n",
              "      background-color: #E8F0FE;\n",
              "      border: none;\n",
              "      border-radius: 50%;\n",
              "      cursor: pointer;\n",
              "      display: none;\n",
              "      fill: #1967D2;\n",
              "      height: 32px;\n",
              "      padding: 0 0 0 0;\n",
              "      width: 32px;\n",
              "    }\n",
              "\n",
              "    .colab-df-convert:hover {\n",
              "      background-color: #E2EBFA;\n",
              "      box-shadow: 0px 1px 2px rgba(60, 64, 67, 0.3), 0px 1px 3px 1px rgba(60, 64, 67, 0.15);\n",
              "      fill: #174EA6;\n",
              "    }\n",
              "\n",
              "    [theme=dark] .colab-df-convert {\n",
              "      background-color: #3B4455;\n",
              "      fill: #D2E3FC;\n",
              "    }\n",
              "\n",
              "    [theme=dark] .colab-df-convert:hover {\n",
              "      background-color: #434B5C;\n",
              "      box-shadow: 0px 1px 3px 1px rgba(0, 0, 0, 0.15);\n",
              "      filter: drop-shadow(0px 1px 2px rgba(0, 0, 0, 0.3));\n",
              "      fill: #FFFFFF;\n",
              "    }\n",
              "  </style>\n",
              "\n",
              "      <script>\n",
              "        const buttonEl =\n",
              "          document.querySelector('#df-01f593f9-7223-4cb0-9e03-6fdacb977678 button.colab-df-convert');\n",
              "        buttonEl.style.display =\n",
              "          google.colab.kernel.accessAllowed ? 'block' : 'none';\n",
              "\n",
              "        async function convertToInteractive(key) {\n",
              "          const element = document.querySelector('#df-01f593f9-7223-4cb0-9e03-6fdacb977678');\n",
              "          const dataTable =\n",
              "            await google.colab.kernel.invokeFunction('convertToInteractive',\n",
              "                                                     [key], {});\n",
              "          if (!dataTable) return;\n",
              "\n",
              "          const docLinkHtml = 'Like what you see? Visit the ' +\n",
              "            '<a target=\"_blank\" href=https://colab.research.google.com/notebooks/data_table.ipynb>data table notebook</a>'\n",
              "            + ' to learn more about interactive tables.';\n",
              "          element.innerHTML = '';\n",
              "          dataTable['output_type'] = 'display_data';\n",
              "          await google.colab.output.renderOutput(dataTable, element);\n",
              "          const docLink = document.createElement('div');\n",
              "          docLink.innerHTML = docLinkHtml;\n",
              "          element.appendChild(docLink);\n",
              "        }\n",
              "      </script>\n",
              "    </div>\n",
              "  </div>\n",
              "  "
            ]
          },
          "metadata": {},
          "execution_count": 26
        }
      ],
      "source": [
        "hist = pd.DataFrame(history.history)\n",
        "hist['epoch'] = history.epoch\n",
        "hist.tail()"
      ]
    },
    {
      "cell_type": "markdown",
      "source": [
        "Expected output:\n",
        "\n",
        "loss\tval_loss\tepoch\n",
        "\n",
        "95\t2.484853\t2.475189\t95\n",
        "\n",
        "96\t2.487327\t2.448350\t96\n",
        "\n",
        "97\t2.475775\t2.502283\t97\n",
        "\n",
        "98\t2.477453\t2.459303\t98\n",
        "\n",
        "99\t2.477690\t2.496802\t99"
      ],
      "metadata": {
        "id": "nAAMQ1a_eV0j"
      }
    },
    {
      "cell_type": "code",
      "execution_count": 27,
      "metadata": {
        "id": "9E54UoZunqhc"
      },
      "outputs": [],
      "source": [
        "def plot_loss(history):\n",
        "  plt.plot(history.history['loss'], label='loss')\n",
        "  plt.plot(history.history['val_loss'], label='val_loss')\n",
        "  plt.ylim([0, 10])\n",
        "  plt.xlabel('Epoch')\n",
        "  plt.ylabel('Error [MPG]')\n",
        "  plt.legend()\n",
        "  plt.grid(True)"
      ]
    },
    {
      "cell_type": "markdown",
      "metadata": {
        "id": "fk81ixIgFcEU"
      },
      "source": [
        "Use `plot_loss(history)` provided to visualize the progression in loss function for training and validation data sets. "
      ]
    },
    {
      "cell_type": "code",
      "execution_count": 28,
      "metadata": {
        "colab": {
          "base_uri": "https://localhost:8080/",
          "height": 283
        },
        "id": "yYsQYrIZyqjz",
        "outputId": "dc328369-46de-4394-a0d4-b6c340d0bd27"
      },
      "outputs": [
        {
          "output_type": "display_data",
          "data": {
            "text/plain": [
              "<Figure size 432x288 with 1 Axes>"
            ],
            "image/png": "[encoded data removed]"
          },
          "metadata": {
            "needs_background": "light"
          }
        }
      ],
      "source": [
        "# YOUR CODE HERE\n",
        "plot_loss(history)"
      ]
    },
    {
      "cell_type": "markdown",
      "source": [
        "Original for comparison:\n",
        "\n",
        "![FuelNotebookGraph01.png](data:image/png;base64,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)"
      ],
      "metadata": {
        "id": "t3V7AdDtewMV"
      }
    },
    {
      "cell_type": "markdown",
      "metadata": {
        "id": "CMNrt8X2ebXd"
      },
      "source": [
        "7. Collect the results on the test set for later using [`Model.evaluate()`](https://www.tensorflow.org/api_docs/python/tf/keras/Model#evaluate)"
      ]
    },
    {
      "cell_type": "code",
      "execution_count": 29,
      "metadata": {
        "id": "kDZ8EvNYrDtx",
        "colab": {
          "base_uri": "https://localhost:8080/"
        },
        "outputId": "45065eb7-ba32-46e4-9687-ab4c49a3bc74"
      },
      "outputs": [
        {
          "output_type": "stream",
          "name": "stdout",
          "text": [
            "3/3 [==============================] - 0s 4ms/step - loss: 2.4539\n"
          ]
        }
      ],
      "source": [
        "test_results = {}\n",
        "\n",
        "test_results['linear_model'] = linear_model.evaluate(test_features, test_labels)# YOUR CODE HERE"
      ]
    },
    {
      "cell_type": "code",
      "execution_count": 30,
      "metadata": {
        "colab": {
          "base_uri": "https://localhost:8080/"
        },
        "id": "eh0trI_zGCT1",
        "outputId": "26d214b3-cc4a-4e25-d0e4-9a82e2754eba"
      },
      "outputs": [
        {
          "output_type": "execute_result",
          "data": {
            "text/plain": [
              "{'linear_model': 2.4538707733154297}"
            ]
          },
          "metadata": {},
          "execution_count": 30
        }
      ],
      "source": [
        "test_results"
      ]
    },
    {
      "cell_type": "markdown",
      "metadata": {
        "id": "SmjdzxKzEu1-"
      },
      "source": [
        "# Task 4. Regression with a deep neural network (DNN)"
      ]
    },
    {
      "cell_type": "markdown",
      "metadata": {
        "id": "DT_aHPsrzO1t"
      },
      "source": [
        "You just implemented a linear model for multiple inputs. Now, you are ready to implement multiple-input DNN models.\n",
        "\n",
        "The code is very similar except the model is expanded to include some \"hidden\" **non-linear** layers. The name \"hidden\" here just means not directly connected to the inputs or outputs."
      ]
    },
    {
      "cell_type": "markdown",
      "metadata": {
        "id": "6SWtkIjhrZwa"
      },
      "source": [
        "* The normalization layer, as before (with `normalizer` for a multiple-input model).\n",
        "* Two hidden, non-linear, [`Dense`](https://www.tensorflow.org/api_docs/python/tf/keras/layers/Dense) layers with the ReLU (`relu`) activation function nonlinearity. One way is to set parameter `activation` inside `Dense` Set the number of neurons at each layer to be 64. \n",
        "* A linear `Dense` single-output layer. "
      ]
    },
    {
      "cell_type": "markdown",
      "metadata": {
        "id": "CQ6btF_xJPpW"
      },
      "source": [
        "\n",
        "\n",
        "1. Include the model and `compile` method in the `build_and_compile_model` function below. "
      ]
    },
    {
      "cell_type": "code",
      "execution_count": 31,
      "metadata": {
        "id": "c26juK7ZG8j-"
      },
      "outputs": [],
      "source": [
        "def build_and_compile_model(norm):\n",
        "  model = tf.keras.Sequential([\n",
        "      norm,\n",
        "      tf.keras.layers.Dense(units=64, activation='relu'),\n",
        "      tf.keras.layers.Dense(units=64, activation='relu'),\n",
        "      tf.keras.layers.Dense(units=1)\n",
        "  ]) # YOUR CODE HERE \n",
        "  model.compile(loss='mean_absolute_error',\n",
        "                optimizer = tf.keras.optimizers.Adam()) # can use default lr\n",
        "  return model"
      ]
    },
    {
      "cell_type": "markdown",
      "metadata": {
        "id": "xvu9gtxTZR5V"
      },
      "source": [
        "2. Create a DNN model with `normalizer` (defined earlier) as the normalization layer:\n",
        "\n"
      ]
    },
    {
      "cell_type": "code",
      "execution_count": 32,
      "metadata": {
        "id": "cGbPb-PHGbhs"
      },
      "outputs": [],
      "source": [
        "dnn_model =  build_and_compile_model(normalizer) # YOUR CODE HERE"
      ]
    },
    {
      "cell_type": "markdown",
      "metadata": {
        "id": "Sj49Og4YGULr"
      },
      "source": [
        "3. Inspect the model using `Model.summary()`. This model has quite a few more trainable parameters than the linear models:"
      ]
    },
    {
      "cell_type": "code",
      "execution_count": 33,
      "metadata": {
        "colab": {
          "base_uri": "https://localhost:8080/"
        },
        "id": "ReAD0n6MsFK-",
        "outputId": "4f1cbde4-ed6a-4a38-ea6d-9e981e709bce"
      },
      "outputs": [
        {
          "output_type": "stream",
          "name": "stdout",
          "text": [
            "Model: \"sequential_1\"\n",
            "_________________________________________________________________\n",
            " Layer (type)                Output Shape              Param #   \n",
            "=================================================================\n",
            " normalization (Normalizatio  (None, 9)                19        \n",
            " n)                                                              \n",
            "                                                                 \n",
            " dense_1 (Dense)             (None, 64)                640       \n",
            "                                                                 \n",
            " dense_2 (Dense)             (None, 64)                4160      \n",
            "                                                                 \n",
            " dense_3 (Dense)             (None, 1)                 65        \n",
            "                                                                 \n",
            "=================================================================\n",
            "Total params: 4,884\n",
            "Trainable params: 4,865\n",
            "Non-trainable params: 19\n",
            "_________________________________________________________________\n"
          ]
        }
      ],
      "source": [
        "dnn_model.summary() # YOUR CODE HERE"
      ]
    },
    {
      "cell_type": "markdown",
      "source": [
        "Original output for comparison:\n",
        "\n",
        "Model: \"sequential_1\"\n",
        "_________________________________________________________________\n",
        " #### Layer (type)                Output Shape              Param #   \n",
        "=================================================================\n",
        " \n",
        " normalization_3 (Normalizat  (None, 9)                19        \n",
        " ion)                                                            \n",
        "                                                                 \n",
        " dense_19 (Dense)            (None, 64)                640       \n",
        "                                                                 \n",
        " dense_20 (Dense)            (None, 64)                4160      \n",
        "                                                                 \n",
        " dense_21 (Dense)            (None, 1)                 65        \n",
        "                                                                 \n",
        "=================================================================\n",
        "\n",
        "Total params: 4,884\n",
        "\n",
        "Trainable params: 4,865\n",
        "\n",
        "Non-trainable params: 19\n",
        "_________________________________________________________________"
      ],
      "metadata": {
        "id": "eqLxxSyNhUtu"
      }
    },
    {
      "cell_type": "markdown",
      "metadata": {
        "id": "0-qWCsh6DlyH"
      },
      "source": [
        "4. Train the model with Keras `Model.fit`:"
      ]
    },
    {
      "cell_type": "code",
      "execution_count": 34,
      "metadata": {
        "colab": {
          "base_uri": "https://localhost:8080/"
        },
        "id": "sD7qHCmNIOY0",
        "outputId": "8ff9d593-8548-49a8-ea67-00e5a5e53445"
      },
      "outputs": [
        {
          "output_type": "stream",
          "name": "stdout",
          "text": [
            "CPU times: user 6.15 s, sys: 223 ms, total: 6.37 s\n",
            "Wall time: 11.5 s\n"
          ]
        }
      ],
      "source": [
        "%%time\n",
        "history = dnn_model.fit(\n",
        "    train_features,\n",
        "    train_labels,\n",
        "    validation_split = 0.2,\n",
        "    verbose = 0, epochs = 100)"
      ]
    },
    {
      "cell_type": "markdown",
      "metadata": {
        "id": "dArGGxHxcKjN"
      },
      "source": [
        "5. Visualize the model's training progress using the stats stored in the history object. "
      ]
    },
    {
      "cell_type": "code",
      "execution_count": 35,
      "metadata": {
        "colab": {
          "base_uri": "https://localhost:8080/",
          "height": 283
        },
        "id": "NcF6UWjdCU8T",
        "outputId": "5ebc3ea6-fd29-4169-ed93-3baa8bc10d42"
      },
      "outputs": [
        {
          "output_type": "display_data",
          "data": {
            "text/plain": [
              "<Figure size 432x288 with 1 Axes>"
            ],
            "image/png": "[encoded data removed]"
          },
          "metadata": {
            "needs_background": "light"
          }
        }
      ],
      "source": [
        "plot_loss(history)"
      ]
    },
    {
      "cell_type": "markdown",
      "source": [
        "Original for comparison:\n",
        "\n",
        "![FuelNotebookGraph02-RegDNN.png](data:image/png;base64,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)"
      ],
      "metadata": {
        "id": "lm9sRoWNiNfG"
      }
    },
    {
      "cell_type": "markdown",
      "metadata": {
        "id": "lRIDHn59LTax"
      },
      "source": [
        "\n",
        "Do you think the DNN model is overfitting? What gives away? "
      ]
    },
    {
      "cell_type": "markdown",
      "metadata": {
        "id": "1GkjwtQ8LZ3W"
      },
      "source": [
        "**No, the DNN model is not overfitting. If it was overfitting the validation loss would start to increase.**\n",
        "\n",
        "\n"
      ]
    },
    {
      "cell_type": "markdown",
      "metadata": {
        "id": "9dhMN7IUM12Q"
      },
      "source": [
        "6. Let's save the results for later comparison."
      ]
    },
    {
      "cell_type": "code",
      "execution_count": 36,
      "metadata": {
        "id": "bJjM0dU52XtN",
        "colab": {
          "base_uri": "https://localhost:8080/"
        },
        "outputId": "da48c6e9-f14c-420d-d9b1-3f5027ea80a4"
      },
      "outputs": [
        {
          "output_type": "stream",
          "name": "stdout",
          "text": [
            "3/3 [==============================] - 0s 5ms/step - loss: 1.6623\n"
          ]
        }
      ],
      "source": [
        "test_results['dnn_model'] = dnn_model.evaluate(test_features, test_labels, verbose=1)"
      ]
    },
    {
      "cell_type": "markdown",
      "metadata": {
        "id": "uiCucdPLfMkZ"
      },
      "source": [
        "# Task 5. Make predictions"
      ]
    },
    {
      "cell_type": "markdown",
      "metadata": {
        "id": "rDf1xebEfWBw"
      },
      "source": [
        "1. Since both models have been trained, we can review their test set performance:"
      ]
    },
    {
      "cell_type": "code",
      "execution_count": 37,
      "metadata": {
        "colab": {
          "base_uri": "https://localhost:8080/",
          "height": 112
        },
        "id": "e5_ooufM5iH2",
        "outputId": "ac9b1a18-07ea-4cda-8d8b-be006eaa57b6"
      },
      "outputs": [
        {
          "output_type": "execute_result",
          "data": {
            "text/plain": [
              "              Mean absolute error [MPG]\n",
              "linear_model                   2.453871\n",
              "dnn_model                      1.662310"
            ],
            "text/html": [
              "\n",
              "  <div id=\"df-c2e064b7-a0f5-413d-b0db-0fc1d4f46c46\">\n",
              "    <div class=\"colab-df-container\">\n",
              "      <div>\n",
              "<style scoped>\n",
              "    .dataframe tbody tr th:only-of-type {\n",
              "        vertical-align: middle;\n",
              "    }\n",
              "\n",
              "    .dataframe tbody tr th {\n",
              "        vertical-align: top;\n",
              "    }\n",
              "\n",
              "    .dataframe thead th {\n",
              "        text-align: right;\n",
              "    }\n",
              "</style>\n",
              "<table border=\"1\" class=\"dataframe\">\n",
              "  <thead>\n",
              "    <tr style=\"text-align: right;\">\n",
              "      <th></th>\n",
              "      <th>Mean absolute error [MPG]</th>\n",
              "    </tr>\n",
              "  </thead>\n",
              "  <tbody>\n",
              "    <tr>\n",
              "      <th>linear_model</th>\n",
              "      <td>2.453871</td>\n",
              "    </tr>\n",
              "    <tr>\n",
              "      <th>dnn_model</th>\n",
              "      <td>1.662310</td>\n",
              "    </tr>\n",
              "  </tbody>\n",
              "</table>\n",
              "</div>\n",
              "      <button class=\"colab-df-convert\" onclick=\"convertToInteractive('df-c2e064b7-a0f5-413d-b0db-0fc1d4f46c46')\"\n",
              "              title=\"Convert this dataframe to an interactive table.\"\n",
              "              style=\"display:none;\">\n",
              "        \n",
              "  <svg xmlns=\"http://www.w3.org/2000/svg\" height=\"24px\"viewBox=\"0 0 24 24\"\n",
              "       width=\"24px\">\n",
              "    <path d=\"M0 0h24v24H0V0z\" fill=\"none\"/>\n",
              "    <path d=\"M18.56 5.44l.94 2.06.94-2.06 2.06-.94-2.06-.94-.94-2.06-.94 2.06-2.06.94zm-11 1L8.5 8.5l.94-2.06 2.06-.94-2.06-.94L8.5 2.5l-.94 2.06-2.06.94zm10 10l.94 2.06.94-2.06 2.06-.94-2.06-.94-.94-2.06-.94 2.06-2.06.94z\"/><path d=\"M17.41 7.96l-1.37-1.37c-.4-.4-.92-.59-1.43-.59-.52 0-1.04.2-1.43.59L10.3 9.45l-7.72 7.72c-.78.78-.78 2.05 0 2.83L4 21.41c.39.39.9.59 1.41.59.51 0 1.02-.2 1.41-.59l7.78-7.78 2.81-2.81c.8-.78.8-2.07 0-2.86zM5.41 20L4 18.59l7.72-7.72 1.47 1.35L5.41 20z\"/>\n",
              "  </svg>\n",
              "      </button>\n",
              "      \n",
              "  <style>\n",
              "    .colab-df-container {\n",
              "      display:flex;\n",
              "      flex-wrap:wrap;\n",
              "      gap: 12px;\n",
              "    }\n",
              "\n",
              "    .colab-df-convert {\n",
              "      background-color: #E8F0FE;\n",
              "      border: none;\n",
              "      border-radius: 50%;\n",
              "      cursor: pointer;\n",
              "      display: none;\n",
              "      fill: #1967D2;\n",
              "      height: 32px;\n",
              "      padding: 0 0 0 0;\n",
              "      width: 32px;\n",
              "    }\n",
              "\n",
              "    .colab-df-convert:hover {\n",
              "      background-color: #E2EBFA;\n",
              "      box-shadow: 0px 1px 2px rgba(60, 64, 67, 0.3), 0px 1px 3px 1px rgba(60, 64, 67, 0.15);\n",
              "      fill: #174EA6;\n",
              "    }\n",
              "\n",
              "    [theme=dark] .colab-df-convert {\n",
              "      background-color: #3B4455;\n",
              "      fill: #D2E3FC;\n",
              "    }\n",
              "\n",
              "    [theme=dark] .colab-df-convert:hover {\n",
              "      background-color: #434B5C;\n",
              "      box-shadow: 0px 1px 3px 1px rgba(0, 0, 0, 0.15);\n",
              "      filter: drop-shadow(0px 1px 2px rgba(0, 0, 0, 0.3));\n",
              "      fill: #FFFFFF;\n",
              "    }\n",
              "  </style>\n",
              "\n",
              "      <script>\n",
              "        const buttonEl =\n",
              "          document.querySelector('#df-c2e064b7-a0f5-413d-b0db-0fc1d4f46c46 button.colab-df-convert');\n",
              "        buttonEl.style.display =\n",
              "          google.colab.kernel.accessAllowed ? 'block' : 'none';\n",
              "\n",
              "        async function convertToInteractive(key) {\n",
              "          const element = document.querySelector('#df-c2e064b7-a0f5-413d-b0db-0fc1d4f46c46');\n",
              "          const dataTable =\n",
              "            await google.colab.kernel.invokeFunction('convertToInteractive',\n",
              "                                                     [key], {});\n",
              "          if (!dataTable) return;\n",
              "\n",
              "          const docLinkHtml = 'Like what you see? Visit the ' +\n",
              "            '<a target=\"_blank\" href=https://colab.research.google.com/notebooks/data_table.ipynb>data table notebook</a>'\n",
              "            + ' to learn more about interactive tables.';\n",
              "          element.innerHTML = '';\n",
              "          dataTable['output_type'] = 'display_data';\n",
              "          await google.colab.output.renderOutput(dataTable, element);\n",
              "          const docLink = document.createElement('div');\n",
              "          docLink.innerHTML = docLinkHtml;\n",
              "          element.appendChild(docLink);\n",
              "        }\n",
              "      </script>\n",
              "    </div>\n",
              "  </div>\n",
              "  "
            ]
          },
          "metadata": {},
          "execution_count": 37
        }
      ],
      "source": [
        "pd.DataFrame(test_results, index=['Mean absolute error [MPG]']).T"
      ]
    },
    {
      "cell_type": "markdown",
      "source": [
        "Original for comparison:\n",
        "\n",
        "Mean absolute error [MPG]\n",
        "\n",
        "linear_model\t2.501575\n",
        "\n",
        "dnn_model\t1.656317"
      ],
      "metadata": {
        "id": "BIdLaEtkihGK"
      }
    },
    {
      "cell_type": "markdown",
      "metadata": {
        "id": "DABIVzsCf-QI"
      },
      "source": [
        "These results match the validation error observed during training."
      ]
    },
    {
      "cell_type": "markdown",
      "metadata": {
        "id": "ft603OzXuEZC"
      },
      "source": [
        "2. We can now make predictions with the `dnn_model` on the test set using Keras `Model.predict` and review the loss. Use `.flatten()`."
      ]
    },
    {
      "cell_type": "code",
      "execution_count": 38,
      "metadata": {
        "colab": {
          "base_uri": "https://localhost:8080/",
          "height": 283
        },
        "id": "Xe7RXH3N3CWU",
        "outputId": "6f4df06a-adc0-41b5-8e90-128dc7ae4ab3"
      },
      "outputs": [
        {
          "output_type": "display_data",
          "data": {
            "text/plain": [
              "<Figure size 432x288 with 1 Axes>"
            ],
            "image/png": "[encoded data removed]"
          },
          "metadata": {
            "needs_background": "light"
          }
        }
      ],
      "source": [
        "test_predictions = dnn_model.predict(test_features).flatten() # YOUR CODE HERE\n",
        "\n",
        "a = plt.axes(aspect='equal')\n",
        "plt.scatter(test_labels, test_predictions)\n",
        "plt.xlabel('True Values [MPG]')\n",
        "plt.ylabel('Predictions [MPG]')\n",
        "lims = [0, 50]\n",
        "plt.xlim(lims)\n",
        "plt.ylim(lims)\n",
        "_ = plt.plot(lims, lims)\n"
      ]
    },
    {
      "cell_type": "markdown",
      "source": [
        "Original for comparison:\n",
        "\n",
        "![FuelNotebookGraph03-RegDNN.png](data:image/png;base64,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)"
      ],
      "metadata": {
        "id": "n0yi8C4ojCNF"
      }
    },
    {
      "cell_type": "markdown",
      "metadata": {
        "id": "19wyogbOSU5t"
      },
      "source": [
        "3. It appears that the model predicts reasonably well. Now, check the error distribution:"
      ]
    },
    {
      "cell_type": "code",
      "execution_count": 39,
      "metadata": {
        "colab": {
          "base_uri": "https://localhost:8080/",
          "height": 279
        },
        "id": "f-OHX4DiXd8x",
        "outputId": "c75ecde2-0188-4a55-e5d2-f289ea49eb38"
      },
      "outputs": [
        {
          "output_type": "display_data",
          "data": {
            "text/plain": [
              "<Figure size 432x288 with 1 Axes>"
            ],
            "image/png": "[encoded data removed]"
          },
          "metadata": {
            "needs_background": "light"
          }
        }
      ],
      "source": [
        "error = test_labels - test_predictions.flatten() # YOUR CODE HERE\n",
        "plt.hist(error, bins=25)\n",
        "plt.xlabel('Prediction Error [MPG]')\n",
        "_ = plt.ylabel('Count')"
      ]
    },
    {
      "cell_type": "markdown",
      "source": [
        "Original for comparison:\n",
        "\n",
        "![FuelNotebookGraph04-PredError.png](data:image/png;base64,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)"
      ],
      "metadata": {
        "id": "batV2mGdjlv4"
      }
    },
    {
      "cell_type": "markdown",
      "metadata": {
        "id": "KSyaHUfDT-mZ"
      },
      "source": [
        "4. Save it for later use with `Model.save`:"
      ]
    },
    {
      "cell_type": "code",
      "execution_count": 40,
      "metadata": {
        "colab": {
          "base_uri": "https://localhost:8080/"
        },
        "id": "4-WwLlmfT-mb",
        "outputId": "3d8964af-4e66-4f7e-8dd6-d73a44d6e6ce"
      },
      "outputs": [
        {
          "output_type": "stream",
          "name": "stdout",
          "text": [
            "INFO:tensorflow:Assets written to: dnn_model/assets\n"
          ]
        }
      ],
      "source": [
        "dnn_model.save('dnn_model')"
      ]
    },
    {
      "cell_type": "markdown",
      "metadata": {
        "id": "Benlnl8UT-me"
      },
      "source": [
        "5. Reload the model with `Model.load_model`; it gives identical output:"
      ]
    },
    {
      "cell_type": "code",
      "execution_count": 41,
      "metadata": {
        "id": "dyyyj2zVT-mf"
      },
      "outputs": [],
      "source": [
        "reloaded = keras.models.load_model('dnn_model') # YOUR CODE HERE\n",
        "\n",
        "test_results['reloaded'] = reloaded.evaluate(\n",
        "    test_features, test_labels, verbose=0)"
      ]
    },
    {
      "cell_type": "code",
      "execution_count": 42,
      "metadata": {
        "colab": {
          "base_uri": "https://localhost:8080/",
          "height": 143
        },
        "id": "f_GchJ2tg-2o",
        "outputId": "3e82fb3b-313f-4b81-c881-1af538e87158"
      },
      "outputs": [
        {
          "output_type": "execute_result",
          "data": {
            "text/plain": [
              "              Mean absolute error [MPG]\n",
              "linear_model                   2.453871\n",
              "dnn_model                      1.662310\n",
              "reloaded                       1.662310"
            ],
            "text/html": [
              "\n",
              "  <div id=\"df-ca2c4c0a-2a9d-4588-bcec-8d3d697e403b\">\n",
              "    <div class=\"colab-df-container\">\n",
              "      <div>\n",
              "<style scoped>\n",
              "    .dataframe tbody tr th:only-of-type {\n",
              "        vertical-align: middle;\n",
              "    }\n",
              "\n",
              "    .dataframe tbody tr th {\n",
              "        vertical-align: top;\n",
              "    }\n",
              "\n",
              "    .dataframe thead th {\n",
              "        text-align: right;\n",
              "    }\n",
              "</style>\n",
              "<table border=\"1\" class=\"dataframe\">\n",
              "  <thead>\n",
              "    <tr style=\"text-align: right;\">\n",
              "      <th></th>\n",
              "      <th>Mean absolute error [MPG]</th>\n",
              "    </tr>\n",
              "  </thead>\n",
              "  <tbody>\n",
              "    <tr>\n",
              "      <th>linear_model</th>\n",
              "      <td>2.453871</td>\n",
              "    </tr>\n",
              "    <tr>\n",
              "      <th>dnn_model</th>\n",
              "      <td>1.662310</td>\n",
              "    </tr>\n",
              "    <tr>\n",
              "      <th>reloaded</th>\n",
              "      <td>1.662310</td>\n",
              "    </tr>\n",
              "  </tbody>\n",
              "</table>\n",
              "</div>\n",
              "      <button class=\"colab-df-convert\" onclick=\"convertToInteractive('df-ca2c4c0a-2a9d-4588-bcec-8d3d697e403b')\"\n",
              "              title=\"Convert this dataframe to an interactive table.\"\n",
              "              style=\"display:none;\">\n",
              "        \n",
              "  <svg xmlns=\"http://www.w3.org/2000/svg\" height=\"24px\"viewBox=\"0 0 24 24\"\n",
              "       width=\"24px\">\n",
              "    <path d=\"M0 0h24v24H0V0z\" fill=\"none\"/>\n",
              "    <path d=\"M18.56 5.44l.94 2.06.94-2.06 2.06-.94-2.06-.94-.94-2.06-.94 2.06-2.06.94zm-11 1L8.5 8.5l.94-2.06 2.06-.94-2.06-.94L8.5 2.5l-.94 2.06-2.06.94zm10 10l.94 2.06.94-2.06 2.06-.94-2.06-.94-.94-2.06-.94 2.06-2.06.94z\"/><path d=\"M17.41 7.96l-1.37-1.37c-.4-.4-.92-.59-1.43-.59-.52 0-1.04.2-1.43.59L10.3 9.45l-7.72 7.72c-.78.78-.78 2.05 0 2.83L4 21.41c.39.39.9.59 1.41.59.51 0 1.02-.2 1.41-.59l7.78-7.78 2.81-2.81c.8-.78.8-2.07 0-2.86zM5.41 20L4 18.59l7.72-7.72 1.47 1.35L5.41 20z\"/>\n",
              "  </svg>\n",
              "      </button>\n",
              "      \n",
              "  <style>\n",
              "    .colab-df-container {\n",
              "      display:flex;\n",
              "      flex-wrap:wrap;\n",
              "      gap: 12px;\n",
              "    }\n",
              "\n",
              "    .colab-df-convert {\n",
              "      background-color: #E8F0FE;\n",
              "      border: none;\n",
              "      border-radius: 50%;\n",
              "      cursor: pointer;\n",
              "      display: none;\n",
              "      fill: #1967D2;\n",
              "      height: 32px;\n",
              "      padding: 0 0 0 0;\n",
              "      width: 32px;\n",
              "    }\n",
              "\n",
              "    .colab-df-convert:hover {\n",
              "      background-color: #E2EBFA;\n",
              "      box-shadow: 0px 1px 2px rgba(60, 64, 67, 0.3), 0px 1px 3px 1px rgba(60, 64, 67, 0.15);\n",
              "      fill: #174EA6;\n",
              "    }\n",
              "\n",
              "    [theme=dark] .colab-df-convert {\n",
              "      background-color: #3B4455;\n",
              "      fill: #D2E3FC;\n",
              "    }\n",
              "\n",
              "    [theme=dark] .colab-df-convert:hover {\n",
              "      background-color: #434B5C;\n",
              "      box-shadow: 0px 1px 3px 1px rgba(0, 0, 0, 0.15);\n",
              "      filter: drop-shadow(0px 1px 2px rgba(0, 0, 0, 0.3));\n",
              "      fill: #FFFFFF;\n",
              "    }\n",
              "  </style>\n",
              "\n",
              "      <script>\n",
              "        const buttonEl =\n",
              "          document.querySelector('#df-ca2c4c0a-2a9d-4588-bcec-8d3d697e403b button.colab-df-convert');\n",
              "        buttonEl.style.display =\n",
              "          google.colab.kernel.accessAllowed ? 'block' : 'none';\n",
              "\n",
              "        async function convertToInteractive(key) {\n",
              "          const element = document.querySelector('#df-ca2c4c0a-2a9d-4588-bcec-8d3d697e403b');\n",
              "          const dataTable =\n",
              "            await google.colab.kernel.invokeFunction('convertToInteractive',\n",
              "                                                     [key], {});\n",
              "          if (!dataTable) return;\n",
              "\n",
              "          const docLinkHtml = 'Like what you see? Visit the ' +\n",
              "            '<a target=\"_blank\" href=https://colab.research.google.com/notebooks/data_table.ipynb>data table notebook</a>'\n",
              "            + ' to learn more about interactive tables.';\n",
              "          element.innerHTML = '';\n",
              "          dataTable['output_type'] = 'display_data';\n",
              "          await google.colab.output.renderOutput(dataTable, element);\n",
              "          const docLink = document.createElement('div');\n",
              "          docLink.innerHTML = docLinkHtml;\n",
              "          element.appendChild(docLink);\n",
              "        }\n",
              "      </script>\n",
              "    </div>\n",
              "  </div>\n",
              "  "
            ]
          },
          "metadata": {},
          "execution_count": 42
        }
      ],
      "source": [
        "pd.DataFrame(test_results, index=['Mean absolute error [MPG]']).T"
      ]
    },
    {
      "cell_type": "markdown",
      "source": [
        "Original for comparison:\n",
        "\n",
        "Mean absolute error [MPG]\n",
        "\n",
        "  linear_model\t2.501575\n",
        "  \n",
        "  dnn_model\t1.656317\n",
        "  \n",
        "  reloaded\t1.656317"
      ],
      "metadata": {
        "id": "zChgEgo0j1YO"
      }
    },
    {
      "cell_type": "markdown",
      "metadata": {
        "id": "jKeDqQVlgEvL"
      },
      "source": [
        "# Task 6. Nonlinearity"
      ]
    },
    {
      "cell_type": "markdown",
      "metadata": {
        "id": "bi4qB9oDPU4j"
      },
      "source": [
        "We mentioned that the `relu` activation function introduce non-linearity; let's visualize it. Yet there are six numerical features and 1 categorical features, it is impossible to plot all the dimensions on a 2D plot; we need to simplify/isolate it. \n",
        "\n",
        "Note: in this task, code is provided; the focus in on understanding. "
      ]
    },
    {
      "cell_type": "markdown",
      "metadata": {
        "id": "0WZj2vEGQwOL"
      },
      "source": [
        "1. We focus on the relationship between feature `Displacement` and target `MPG`. \n",
        "  \n",
        "  To do so, create a new dataset of the same size as `train_features`, but all other features are set at their median values; then set the `Displacement` between 0 and 500. "
      ]
    },
    {
      "cell_type": "code",
      "execution_count": 43,
      "metadata": {
        "id": "nXcntGZv-CeV"
      },
      "outputs": [],
      "source": [
        "fake = np.outer(np.ones(train_features.shape[0]), train_features.median())\n",
        "fake = pd.DataFrame(fake, columns = train_features.columns)\n",
        "fake.Displacement = np.linspace(0, 500, train_features.shape[0])"
      ]
    },
    {
      "cell_type": "markdown",
      "metadata": {
        "id": "zwYXI7n1VIF3"
      },
      "source": [
        "2. Create a plotting function to a) visualize real values between `Displacement` and `MPG` from the training dataset in scatter plot b) overlay the predicted MPG from Displacement varying from 0 to 500, but holding all other features constant. "
      ]
    },
    {
      "cell_type": "code",
      "execution_count": 44,
      "metadata": {
        "id": "zXDFyU4v-mak"
      },
      "outputs": [],
      "source": [
        "def plot_displacement(x, y):\n",
        "  plt.scatter(train_features['Displacement'], train_labels, label='Data')\n",
        "  plt.plot(x, y, color='k', label='Predictions')\n",
        "  plt.xlabel('Displacement')\n",
        "  plt.ylabel('MPG')\n",
        "  plt.legend()"
      ]
    },
    {
      "cell_type": "markdown",
      "metadata": {
        "id": "nLXZ7QsmVl_i"
      },
      "source": [
        "3. Visualize predicted MPG using the linear model."
      ]
    },
    {
      "cell_type": "code",
      "execution_count": 45,
      "metadata": {
        "colab": {
          "base_uri": "https://localhost:8080/",
          "height": 279
        },
        "id": "Q0M1mhutB9YQ",
        "outputId": "6cb82f5a-b620-468a-81e6-4adf560e40ea"
      },
      "outputs": [
        {
          "output_type": "display_data",
          "data": {
            "text/plain": [
              "<Figure size 432x288 with 1 Axes>"
            ],
            "image/png": "[encoded data removed]"
          },
          "metadata": {
            "needs_background": "light"
          }
        }
      ],
      "source": [
        "plot_displacement(fake.Displacement, linear_model(fake))"
      ]
    },
    {
      "cell_type": "markdown",
      "source": [
        "Original for comparison:\n",
        "\n",
        "![FuelNotebookGraph05-MPGPredLin.png](data:image/png;base64,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)"
      ],
      "metadata": {
        "id": "zGbsTdNhkv5C"
      }
    },
    {
      "cell_type": "markdown",
      "metadata": {
        "id": "S6Iw161_VvsP"
      },
      "source": [
        "4. Visualize predicted MPG using the neural network model. Do you see an improvement/non-linearity from the linear model? \n",
        "\n",
        "**There is a definite improvement with the DNN model as the curve attempts to match the shape of the data. In the linear model, there is simply a hortizonal line bisecting the data. This line does not approximate the data at all.**"
      ]
    },
    {
      "cell_type": "code",
      "execution_count": 46,
      "metadata": {
        "colab": {
          "base_uri": "https://localhost:8080/",
          "height": 279
        },
        "id": "fXe9lxlvBWbk",
        "outputId": "5d254c80-ac92-4122-b41e-0ac0381acebf"
      },
      "outputs": [
        {
          "output_type": "display_data",
          "data": {
            "text/plain": [
              "<Figure size 432x288 with 1 Axes>"
            ],
            "image/png": "[encoded data removed]"
          },
          "metadata": {
            "needs_background": "light"
          }
        }
      ],
      "source": [
        "plot_displacement(fake.Displacement, dnn_model.predict(fake))"
      ]
    },
    {
      "cell_type": "markdown",
      "source": [
        "Original for comparison:\n",
        "\n",
        "![FuelNotebookGraph06-MPGPredDNN.png](data:image/png;base64,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)"
      ],
      "metadata": {
        "id": "vMXMJjtmlC1t"
      }
    },
    {
      "cell_type": "markdown",
      "metadata": {
        "id": "pXWsMH5gR5pE"
      },
      "source": [
        "5. What are the other activation functions? Check the list of [activations](https://www.tensorflow.org/api_docs/python/tf/keras/activations). \n",
        "  \n",
        "   Optional. Modify the DNN model with a different activation function, and fit it on the data; does it perform better? "
      ]
    },
    {
      "cell_type": "markdown",
      "metadata": {
        "id": "vgGQuV-yqYZH"
      },
      "source": [
        "6. Overfitting is a common problem for DNN models, how should we deal with it? Check [Regularizers](https://www.tensorflow.org/api_docs/python/tf/keras/regularizers) on tf.keras. Any other techiniques that are invented for neural networks?"
      ]
    },
    {
      "cell_type": "markdown",
      "metadata": {
        "id": "06DnCpbACGNM"
      },
      "source": [
        "# Task 7. AutoML - TPOT"
      ]
    },
    {
      "cell_type": "markdown",
      "metadata": {
        "id": "djIwpag8DsEu"
      },
      "source": [
        "1. Instantiate and train a TPOT auto-ML regressor.\n",
        "\n",
        "    The parameters are set fairly arbitrarily (if time permits, you shall experiment with different sets of parameters after reading [what each parameter does](http://epistasislab.github.io/tpot/api/#regression)). Use these parameter values:\n",
        "\n",
        "    `generations`: 10\n",
        "\n",
        "    `population_size`: 40\n",
        "\n",
        "    `scoring`: negative mean absolute error; read more in [scoring functions in TPOT](http://epistasislab.github.io/tpot/using/#scoring-functions)\n",
        "\n",
        "    `verbosity`: 2 (so you can see each generation's performance)\n",
        "\n",
        "    The final line with create a Python script `tpot_products_pipeline.py` with the code to create the optimal model found by TPOT."
      ]
    },
    {
      "cell_type": "code",
      "execution_count": 47,
      "metadata": {
        "colab": {
          "base_uri": "https://localhost:8080/",
          "height": 486,
          "referenced_widgets": [
            "7fc51512d0524c1ba5e887506d633c55",
            "873f2afe01984ccc832ccf1dbfe28da3",
            "14449b69b6dc4a06a7528d3cc7cff644",
            "34c640019c57419e8a0ab78e392d55ce",
            "d4aaffb859c047d8bc70aa090b385142",
            "97fec72e109b4812addc913864497157",
            "f6fbb2cf9ef74227a55e47d9659fe42d",
            "689e36f4bd8b41c8b993f31f2aaa53aa",
            "b02f3c1709f7411e84e639ec0eda7e73",
            "e19c537e2f744a989461d6bb713b6a66",
            "98c9b09034b14fbdbdd9d21f6a410adf"
          ]
        },
        "id": "IvJpNXHg_RS5",
        "outputId": "e448ffac-21b2-4df9-e8c3-e737262e4ebf"
      },
      "outputs": [
        {
          "output_type": "display_data",
          "data": {
            "text/plain": [
              "Optimization Progress:   0%|          | 0/440 [00:00<?, ?pipeline/s]"
            ],
            "application/vnd.jupyter.widget-view+json": {
              "version_major": 2,
              "version_minor": 0,
              "model_id": "7fc51512d0524c1ba5e887506d633c55"
            }
          },
          "metadata": {}
        },
        {
          "output_type": "stream",
          "name": "stdout",
          "text": [
            "\n",
            "Generation 1 - Current best internal CV score: -2.0391493673159626\n",
            "\n",
            "Generation 2 - Current best internal CV score: -2.0391493673159626\n",
            "\n",
            "Generation 3 - Current best internal CV score: -2.0391493673159626\n",
            "\n",
            "Generation 4 - Current best internal CV score: -2.0391493673159626\n",
            "\n",
            "Generation 5 - Current best internal CV score: -1.9760831555452802\n",
            "\n",
            "Generation 6 - Current best internal CV score: -1.9399572887864829\n",
            "\n",
            "Generation 7 - Current best internal CV score: -1.9399572887864829\n",
            "\n",
            "Generation 8 - Current best internal CV score: -1.9399572887864829\n",
            "\n",
            "Generation 9 - Current best internal CV score: -1.9399572887864829\n",
            "\n",
            "Generation 10 - Current best internal CV score: -1.9227892515787672\n",
            "\n",
            "Best pipeline: ExtraTreesRegressor(input_matrix, bootstrap=False, max_features=0.7000000000000001, min_samples_leaf=1, min_samples_split=5, n_estimators=100)\n",
            "Tpot score on test data: -1.68\n",
            "CPU times: user 7min 24s, sys: 18.4 s, total: 7min 42s\n",
            "Wall time: 7min 33s\n"
          ]
        }
      ],
      "source": [
        "%%time\n",
        "from tpot import TPOTRegressor\n",
        "tpot = TPOTRegressor(generations = 10, \n",
        "                     population_size = 40,\n",
        "                     scoring = 'neg_mean_absolute_error', # YOUR CODE HERE\n",
        "                     verbosity = 2,\n",
        "                     random_state = 42)\n",
        "tpot.fit(train_features, train_labels)\n",
        "print(f\"Tpot score on test data: {tpot.score(test_features, test_labels):.2f}\")\n",
        "tpot.export('tpot_mpg_pipeline.py')"
      ]
    },
    {
      "cell_type": "markdown",
      "metadata": {
        "id": "1Ne0SBfZIwsF"
      },
      "source": [
        "2. Examine the model pipeline that TPOT regressor offers. If you see any model, function, or class that are not familiar, look them up! \n",
        "\n",
        "  Note: There is randomness to the way the TPOT searches, so it's possible you won't have exactly the same result as your classmate. "
      ]
    },
    {
      "cell_type": "code",
      "execution_count": 48,
      "metadata": {
        "colab": {
          "base_uri": "https://localhost:8080/"
        },
        "id": "3LdJz0Bfg7Sg",
        "outputId": "6c840415-ee55-4333-c0a9-a91c162643b2"
      },
      "outputs": [
        {
          "output_type": "stream",
          "name": "stdout",
          "text": [
            "import numpy as np\n",
            "import pandas as pd\n",
            "from sklearn.ensemble import ExtraTreesRegressor\n",
            "from sklearn.model_selection import train_test_split\n",
            "\n",
            "# NOTE: Make sure that the outcome column is labeled 'target' in the data file\n",
            "tpot_data = pd.read_csv('PATH/TO/DATA/FILE', sep='COLUMN_SEPARATOR', dtype=np.float64)\n",
            "features = tpot_data.drop('target', axis=1)\n",
            "training_features, testing_features, training_target, testing_target = \\\n",
            "            train_test_split(features, tpot_data['target'], random_state=42)\n",
            "\n",
            "# Average CV score on the training set was: -1.9227892515787672\n",
            "exported_pipeline = ExtraTreesRegressor(bootstrap=False, max_features=0.7000000000000001, min_samples_leaf=1, min_samples_split=5, n_estimators=100)\n",
            "# Fix random state in exported estimator\n",
            "if hasattr(exported_pipeline, 'random_state'):\n",
            "    setattr(exported_pipeline, 'random_state', 42)\n",
            "\n",
            "exported_pipeline.fit(training_features, training_target)\n",
            "results = exported_pipeline.predict(testing_features)\n"
          ]
        }
      ],
      "source": [
        "cat tpot_mpg_pipeline.py"
      ]
    },
    {
      "cell_type": "markdown",
      "metadata": {
        "id": "hNsj_X6zJzb5"
      },
      "source": [
        "3. Optional. Take the appropriate lines (e.g., updating path to data and the variable names) from `tpot_mpg_pipeline.py` to build a model on our training set and make predictions on the test set. Save the predictions as `y_pred`, and compute appropriate evaluation metric. You may find that for this simple data set, the nueral network we built outperforms the tree-based model, yet note it is not a conclusion that we can be generalized for all tabular data. "
      ]
    },
    {
      "cell_type": "markdown",
      "source": [
        "# Criteria for Completion"
      ],
      "metadata": {
        "id": "AxX-IUsuTS8M"
      }
    },
    {
      "cell_type": "markdown",
      "source": [
        "Interview Readiness\n",
        "1. What is Normalization and how does Normalization make training a model more stable?\n",
        "* When the different features of a model have greatly differing ranges (for example, one is between 1 - 15 and another is between 1 - 15000), it is necessary to scale the features to similar minimum and maximum ranges (say from 0.0 to 1.0) so that no feature is ignored or given too much weight in the model due its range of values.\n",
        "\n",
        "2. What are loss and optimizer functions and how do they work?\n",
        "* The difference between an estimated value and the actual value can be calculated with a loss function. This function can vary according to what the model is predicting. An optimizer function is used to adjust the parameters of  the prediction model to minimize the calculated loss. These two functions work together to improve the prediction model.\n",
        "\n",
        "3. What is Gradient Descent and how does it work?\n",
        "* Gradient Descent is an optimizing function. The optimal loss is one with the smallest value. To get to the smallest loss in a model, the model needs to find the smallest loss value with an optimizing function. In Gradient Descent, the optimizing function finds the fastest way to get to the smallest loss by using the gradient to find the steepest 'slope' (like a ski slope) and makes small changes to the model to get to the minimum loss after each change.\n",
        "\n",
        "4. What is an activation function?\n",
        "* An activation function is a part of the model that takes all of the different inputs and smooths out by requiring that each input meet a certain threshold. Below the threshold the function generally returns zero or a negative number (there are exceptions such as the sigmoid) for all negative inputs. Above the threshold, the activation function is 'activated' and returns a positive number( in many functions between zero and one). \n",
        "\n",
        "5. What are the outputs of the following activation functions: ReLU, Softmax Tanh, Sigmoid?\n",
        "* The ReLU activation function is zero for all negative inputs. It returns a positive number that increase in a linear fashion of the positive inputs.\n",
        "* The Softmax activation function returns values between zero and one based on the probability that the output belongs to a certain class. It is useful in models where there are multiple categories being classified.\n",
        "* The Tanh activation function returns values between negative one and positive one for all inputs. Negative inputs are negative and approach negative one as the inputs negatively increase. Positive inputs return positive values and approach positive one as the inputs increase.\n",
        "* The Sigmoid activation function returns positive values for all inputs. Values below the threshold (negative inputs) return numbers less than 1/2. As the input values negatively increase, the return value approachs zero. Positive inputs (above the threshold) return numbers greater than 1/2 and approach one as the inputs increase.\n",
        "\n",
        "\n",
        "Algorithm Understanding\n",
        "1. What is the TPOT algorithm and how does it work?\n",
        "* TPOT is generic [search algorithm](https://towardsdatascience.com/tpot-automated-machine-learning-in-python-4c063b3e5de9) that returns the best combination of models and model parameters. It searches for combinations of features, algorithms, tuning parameters to return the best model pipeline that minimizes the loss and returns the best predictive success on cross validated training data.\n",
        "2. What does TPOT stand for?\n",
        "* It stands for [Tree-based Pipeline Optimization Tool](https://www.analyticsvidhya.com/blog/2021/05/automate-machine-learning-using-tpot%E2%80%8A-%E2%80%8Aexplore-thousands-of-possible-pipelines-and-find-the-best/).\n"
      ],
      "metadata": {
        "id": "nU1jP-08R7_M"
      }
    },
    {
      "cell_type": "markdown",
      "metadata": {
        "id": "tDZ_9p6L_U9L"
      },
      "source": [
        "# Additional Resources"
      ]
    },
    {
      "cell_type": "markdown",
      "metadata": {
        "id": "6dtjRavkXunK"
      },
      "source": [
        "- [Tensorflow playground](https://playground.tensorflow.org/) for an interactive experience to understand how nueral networkds work.\n",
        "\n",
        "- [An Introduction to Deep Learning for Tabular Data](https://www.fast.ai/2018/04/29/categorical-embeddings/) covers embeddings for categorical variables. \n",
        "\n",
        "- [Imbalanced classification: credit card fraud detection](https://keras.io/examples/structured_data/imbalanced_classification/) demonstrates using `class_weight` to handle imbalanced classification problems. "
      ]
    },
    {
      "cell_type": "markdown",
      "metadata": {
        "heading_collapsed": true,
        "id": "RTRCN3xsXunK"
      },
      "source": [
        "# Acknowledgement and Copyright"
      ]
    },
    {
      "cell_type": "markdown",
      "metadata": {
        "id": "riVFgcSTmY0R"
      },
      "source": [
        "##### Acknowledgement"
      ]
    },
    {
      "cell_type": "markdown",
      "metadata": {
        "id": "higVWuZMmc7w"
      },
      "source": [
        "This notebook is adapted from [tensorflow/keras tuorial - regression](https://www.tensorflow.org/tutorials/keras/regression)"
      ]
    },
    {
      "cell_type": "markdown",
      "metadata": {
        "heading_collapsed": true,
        "hidden": true,
        "id": "MJuKft5yXunK"
      },
      "source": [
        "##### Copyright 2018 The TensorFlow Authors."
      ]
    },
    {
      "cell_type": "markdown",
      "metadata": {
        "cellView": "form",
        "hidden": true,
        "id": "AwOEIRJC6Une"
      },
      "source": [
        "@title Licensed under the Apache License, Version 2.0 (the \"License\");\n",
        "you may not use this file except in compliance with the License.\n",
        "You may obtain a copy of the License at\n",
        "\n",
        "https://www.apache.org/licenses/LICENSE-2.0\n",
        "\n",
        "Unless required by applicable law or agreed to in writing, software\n",
        "distributed under the License is distributed on an \"AS IS\" BASIS,\n",
        "WITHOUT WARRANTIES OR CONDITIONS OF ANY KIND, either express or implied.\n",
        "See the License for the specific language governing permissions and\n",
        "limitations under the License."
      ]
    },
    {
      "cell_type": "markdown",
      "metadata": {
        "cellView": "form",
        "hidden": true,
        "id": "KyPEtTqk6VdG"
      },
      "source": [
        "@title MIT License\n",
        "\n",
        "Copyright (c) 2017 François Chollet\n",
        "\n",
        "Permission is hereby granted, free of charge, to any person obtaining a\n",
        "copy of this software and associated documentation files (the \"Software\"),\n",
        "to deal in the Software without restriction, including without limitation\n",
        "the rights to use, copy, modify, merge, publish, distribute, sublicense,\n",
        "and/or sell copies of the Software, and to permit persons to whom the\n",
        "Software is furnished to do so, subject to the following conditions:\n",
        "\n",
        "The above copyright notice and this permission notice shall be included in\n",
        "all copies or substantial portions of the Software.\n",
        "\n",
        "THE SOFTWARE IS PROVIDED \"AS IS\", WITHOUT WARRANTY OF ANY KIND, EXPRESS OR\n",
        "IMPLIED, INCLUDING BUT NOT LIMITED TO THE WARRANTIES OF MERCHANTABILITY,\n",
        "FITNESS FOR A PARTICULAR PURPOSE AND NONINFRINGEMENT. IN NO EVENT SHALL\n",
        "THE AUTHORS OR COPYRIGHT HOLDERS BE LIABLE FOR ANY CLAIM, DAMAGES OR OTHER\n",
        "LIABILITY, WHETHER IN AN ACTION OF CONTRACT, TORT OR OTHERWISE, ARISING\n",
        "FROM, OUT OF OR IN CONNECTION WITH THE SOFTWARE OR THE USE OR OTHER\n",
        "DEALINGS IN THE SOFTWARE."
      ]
    }
  ],
  "metadata": {
    "colab": {
      "collapsed_sections": [],
      "name": "fuel_efficiency.ipynb",
      "provenance": []
    },
    "kernelspec": {
      "display_name": "py39_12",
      "language": "python",
      "name": "py39_12"
    },
    "language_info": {
      "codemirror_mode": {
        "name": "ipython",
        "version": 3
      },
      "file_extension": ".py",
      "mimetype": "text/x-python",
      "name": "python",
      "nbconvert_exporter": "python",
      "pygments_lexer": "ipython3",
      "version": "3.9.12"
    },
    "toc": {
      "base_numbering": 1,
      "nav_menu": {},
      "number_sections": true,
      "sideBar": true,
      "skip_h1_title": false,
      "title_cell": "Table of Contents",
      "title_sidebar": "Contents",
      "toc_cell": false,
      "toc_position": {},
      "toc_section_display": true,
      "toc_window_display": true
    },
    "widgets": {
      "application/vnd.jupyter.widget-state+json": {
        "7fc51512d0524c1ba5e887506d633c55": {
          "model_module": "@jupyter-widgets/controls",
          "model_name": "HBoxModel",
          "model_module_version": "1.5.0",
          "state": {
            "_dom_classes": [],
            "_model_module": "@jupyter-widgets/controls",
            "_model_module_version": "1.5.0",
            "_model_name": "HBoxModel",
            "_view_count": null,
            "_view_module": "@jupyter-widgets/controls",
            "_view_module_version": "1.5.0",
            "_view_name": "HBoxView",
            "box_style": "",
            "children": [
              "IPY_MODEL_873f2afe01984ccc832ccf1dbfe28da3",
              "IPY_MODEL_14449b69b6dc4a06a7528d3cc7cff644",
              "IPY_MODEL_34c640019c57419e8a0ab78e392d55ce"
            ],
            "layout": "IPY_MODEL_d4aaffb859c047d8bc70aa090b385142"
          }
        },
        "873f2afe01984ccc832ccf1dbfe28da3": {
          "model_module": "@jupyter-widgets/controls",
          "model_name": "HTMLModel",
          "model_module_version": "1.5.0",
          "state": {
            "_dom_classes": [],
            "_model_module": "@jupyter-widgets/controls",
            "_model_module_version": "1.5.0",
            "_model_name": "HTMLModel",
            "_view_count": null,
            "_view_module": "@jupyter-widgets/controls",
            "_view_module_version": "1.5.0",
            "_view_name": "HTMLView",
            "description": "",
            "description_tooltip": null,
            "layout": "IPY_MODEL_97fec72e109b4812addc913864497157",
            "placeholder": "​",
            "style": "IPY_MODEL_f6fbb2cf9ef74227a55e47d9659fe42d",
            "value": "Optimization Progress: 100%"
          }
        },
        "14449b69b6dc4a06a7528d3cc7cff644": {
          "model_module": "@jupyter-widgets/controls",
          "model_name": "FloatProgressModel",
          "model_module_version": "1.5.0",
          "state": {
            "_dom_classes": [],
            "_model_module": "@jupyter-widgets/controls",
            "_model_module_version": "1.5.0",
            "_model_name": "FloatProgressModel",
            "_view_count": null,
            "_view_module": "@jupyter-widgets/controls",
            "_view_module_version": "1.5.0",
            "_view_name": "ProgressView",
            "bar_style": "",
            "description": "",
            "description_tooltip": null,
            "layout": "IPY_MODEL_689e36f4bd8b41c8b993f31f2aaa53aa",
            "max": 440,
            "min": 0,
            "orientation": "horizontal",
            "style": "IPY_MODEL_b02f3c1709f7411e84e639ec0eda7e73",
            "value": 440
          }
        },
        "34c640019c57419e8a0ab78e392d55ce": {
          "model_module": "@jupyter-widgets/controls",
          "model_name": "HTMLModel",
          "model_module_version": "1.5.0",
          "state": {
            "_dom_classes": [],
            "_model_module": "@jupyter-widgets/controls",
            "_model_module_version": "1.5.0",
            "_model_name": "HTMLModel",
            "_view_count": null,
            "_view_module": "@jupyter-widgets/controls",
            "_view_module_version": "1.5.0",
            "_view_name": "HTMLView",
            "description": "",
            "description_tooltip": null,
            "layout": "IPY_MODEL_e19c537e2f744a989461d6bb713b6a66",
            "placeholder": "​",
            "style": "IPY_MODEL_98c9b09034b14fbdbdd9d21f6a410adf",
            "value": " 440/440 [07:22&lt;00:00,  1.28s/pipeline]"
          }
        },
        "d4aaffb859c047d8bc70aa090b385142": {
          "model_module": "@jupyter-widgets/base",
          "model_name": "LayoutModel",
          "model_module_version": "1.2.0",
          "state": {
            "_model_module": "@jupyter-widgets/base",
            "_model_module_version": "1.2.0",
            "_model_name": "LayoutModel",
            "_view_count": null,
            "_view_module": "@jupyter-widgets/base",
            "_view_module_version": "1.2.0",
            "_view_name": "LayoutView",
            "align_content": null,
            "align_items": null,
            "align_self": null,
            "border": null,
            "bottom": null,
            "display": null,
            "flex": null,
            "flex_flow": null,
            "grid_area": null,
            "grid_auto_columns": null,
            "grid_auto_flow": null,
            "grid_auto_rows": null,
            "grid_column": null,
            "grid_gap": null,
            "grid_row": null,
            "grid_template_areas": null,
            "grid_template_columns": null,
            "grid_template_rows": null,
            "height": null,
            "justify_content": null,
            "justify_items": null,
            "left": null,
            "margin": null,
            "max_height": null,
            "max_width": null,
            "min_height": null,
            "min_width": null,
            "object_fit": null,
            "object_position": null,
            "order": null,
            "overflow": null,
            "overflow_x": null,
            "overflow_y": null,
            "padding": null,
            "right": null,
            "top": null,
            "visibility": null,
            "width": null
          }
        },
        "97fec72e109b4812addc913864497157": {
          "model_module": "@jupyter-widgets/base",
          "model_name": "LayoutModel",
          "model_module_version": "1.2.0",
          "state": {
            "_model_module": "@jupyter-widgets/base",
            "_model_module_version": "1.2.0",
            "_model_name": "LayoutModel",
            "_view_count": null,
            "_view_module": "@jupyter-widgets/base",
            "_view_module_version": "1.2.0",
            "_view_name": "LayoutView",
            "align_content": null,
            "align_items": null,
            "align_self": null,
            "border": null,
            "bottom": null,
            "display": null,
            "flex": null,
            "flex_flow": null,
            "grid_area": null,
            "grid_auto_columns": null,
            "grid_auto_flow": null,
            "grid_auto_rows": null,
            "grid_column": null,
            "grid_gap": null,
            "grid_row": null,
            "grid_template_areas": null,
            "grid_template_columns": null,
            "grid_template_rows": null,
            "height": null,
            "justify_content": null,
            "justify_items": null,
            "left": null,
            "margin": null,
            "max_height": null,
            "max_width": null,
            "min_height": null,
            "min_width": null,
            "object_fit": null,
            "object_position": null,
            "order": null,
            "overflow": null,
            "overflow_x": null,
            "overflow_y": null,
            "padding": null,
            "right": null,
            "top": null,
            "visibility": null,
            "width": null
          }
        },
        "f6fbb2cf9ef74227a55e47d9659fe42d": {
          "model_module": "@jupyter-widgets/controls",
          "model_name": "DescriptionStyleModel",
          "model_module_version": "1.5.0",
          "state": {
            "_model_module": "@jupyter-widgets/controls",
            "_model_module_version": "1.5.0",
            "_model_name": "DescriptionStyleModel",
            "_view_count": null,
            "_view_module": "@jupyter-widgets/base",
            "_view_module_version": "1.2.0",
            "_view_name": "StyleView",
            "description_width": ""
          }
        },
        "689e36f4bd8b41c8b993f31f2aaa53aa": {
          "model_module": "@jupyter-widgets/base",
          "model_name": "LayoutModel",
          "model_module_version": "1.2.0",
          "state": {
            "_model_module": "@jupyter-widgets/base",
            "_model_module_version": "1.2.0",
            "_model_name": "LayoutModel",
            "_view_count": null,
            "_view_module": "@jupyter-widgets/base",
            "_view_module_version": "1.2.0",
            "_view_name": "LayoutView",
            "align_content": null,
            "align_items": null,
            "align_self": null,
            "border": null,
            "bottom": null,
            "display": null,
            "flex": null,
            "flex_flow": null,
            "grid_area": null,
            "grid_auto_columns": null,
            "grid_auto_flow": null,
            "grid_auto_rows": null,
            "grid_column": null,
            "grid_gap": null,
            "grid_row": null,
            "grid_template_areas": null,
            "grid_template_columns": null,
            "grid_template_rows": null,
            "height": null,
            "justify_content": null,
            "justify_items": null,
            "left": null,
            "margin": null,
            "max_height": null,
            "max_width": null,
            "min_height": null,
            "min_width": null,
            "object_fit": null,
            "object_position": null,
            "order": null,
            "overflow": null,
            "overflow_x": null,
            "overflow_y": null,
            "padding": null,
            "right": null,
            "top": null,
            "visibility": null,
            "width": null
          }
        },
        "b02f3c1709f7411e84e639ec0eda7e73": {
          "model_module": "@jupyter-widgets/controls",
          "model_name": "ProgressStyleModel",
          "model_module_version": "1.5.0",
          "state": {
            "_model_module": "@jupyter-widgets/controls",
            "_model_module_version": "1.5.0",
            "_model_name": "ProgressStyleModel",
            "_view_count": null,
            "_view_module": "@jupyter-widgets/base",
            "_view_module_version": "1.2.0",
            "_view_name": "StyleView",
            "bar_color": null,
            "description_width": ""
          }
        },
        "e19c537e2f744a989461d6bb713b6a66": {
          "model_module": "@jupyter-widgets/base",
          "model_name": "LayoutModel",
          "model_module_version": "1.2.0",
          "state": {
            "_model_module": "@jupyter-widgets/base",
            "_model_module_version": "1.2.0",
            "_model_name": "LayoutModel",
            "_view_count": null,
            "_view_module": "@jupyter-widgets/base",
            "_view_module_version": "1.2.0",
            "_view_name": "LayoutView",
            "align_content": null,
            "align_items": null,
            "align_self": null,
            "border": null,
            "bottom": null,
            "display": null,
            "flex": null,
            "flex_flow": null,
            "grid_area": null,
            "grid_auto_columns": null,
            "grid_auto_flow": null,
            "grid_auto_rows": null,
            "grid_column": null,
            "grid_gap": null,
            "grid_row": null,
            "grid_template_areas": null,
            "grid_template_columns": null,
            "grid_template_rows": null,
            "height": null,
            "justify_content": null,
            "justify_items": null,
            "left": null,
            "margin": null,
            "max_height": null,
            "max_width": null,
            "min_height": null,
            "min_width": null,
            "object_fit": null,
            "object_position": null,
            "order": null,
            "overflow": null,
            "overflow_x": null,
            "overflow_y": null,
            "padding": null,
            "right": null,
            "top": null,
            "visibility": null,
            "width": null
          }
        },
        "98c9b09034b14fbdbdd9d21f6a410adf": {
          "model_module": "@jupyter-widgets/controls",
          "model_name": "DescriptionStyleModel",
          "model_module_version": "1.5.0",
          "state": {
            "_model_module": "@jupyter-widgets/controls",
            "_model_module_version": "1.5.0",
            "_model_name": "DescriptionStyleModel",
            "_view_count": null,
            "_view_module": "@jupyter-widgets/base",
            "_view_module_version": "1.2.0",
            "_view_name": "StyleView",
            "description_width": ""
          }
        }
      }
    }
  },
  "nbformat": 4,
  "nbformat_minor": 0
}